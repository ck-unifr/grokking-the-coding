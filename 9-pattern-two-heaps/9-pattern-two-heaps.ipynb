{
 "cells": [
  {
   "cell_type": "code",
   "execution_count": null,
   "metadata": {},
   "outputs": [],
   "source": []
  },
  {
   "cell_type": "code",
   "execution_count": null,
   "metadata": {},
   "outputs": [],
   "source": []
  },
  {
   "cell_type": "markdown",
   "metadata": {},
   "source": [
    "# Find the Median of a Number Stream (medium)"
   ]
  },
  {
   "cell_type": "code",
   "execution_count": 2,
   "metadata": {},
   "outputs": [
    {
     "data": {
      "text/plain": [
       "' \\n9. Pattern Two Heaps/Find the Median of a Number Stream (medium).py\\n\\nProblem Statement \\nDesign a class to calculate the median of a number stream. The class should have the following two methods:\\n\\ninsertNum(int num): stores the number in the class\\nfindMedian(): returns the median of all numbers inserted in the class\\nIf the count of numbers inserted in the class is even, the median will be the average of the middle two numbers.\\n\\nExample 1:\\n\\n1. insertNum(3)\\n2. insertNum(1)\\n3. findMedian() -> output: 2\\n4. insertNum(5)\\n5. findMedian() -> output: 3\\n6. insertNum(4)\\n7. findMedian() -> output: 3.5\\n'"
      ]
     },
     "execution_count": 2,
     "metadata": {},
     "output_type": "execute_result"
    }
   ],
   "source": [
    "\"\"\" \n",
    "9. Pattern Two Heaps/Find the Median of a Number Stream (medium).py\n",
    "\n",
    "Problem Statement \n",
    "Design a class to calculate the median of a number stream. The class should have the following two methods:\n",
    "\n",
    "insertNum(int num): stores the number in the class\n",
    "findMedian(): returns the median of all numbers inserted in the class\n",
    "If the count of numbers inserted in the class is even, the median will be the average of the middle two numbers.\n",
    "\n",
    "Example 1:\n",
    "\n",
    "1. insertNum(3)\n",
    "2. insertNum(1)\n",
    "3. findMedian() -> output: 2\n",
    "4. insertNum(5)\n",
    "5. findMedian() -> output: 3\n",
    "6. insertNum(4)\n",
    "7. findMedian() -> output: 3.5\n",
    "\"\"\""
   ]
  },
  {
   "cell_type": "code",
   "execution_count": 3,
   "metadata": {},
   "outputs": [
    {
     "name": "stdout",
     "output_type": "stream",
     "text": [
      "2.0\n",
      "3\n",
      "3.5\n"
     ]
    }
   ],
   "source": [
    "import heapq\n",
    "\n",
    "class MedianFinder:\n",
    "\n",
    "    def __init__(self):\n",
    "        # Max-heap for the smaller half of numbers (invert sign to simulate max-heap)\n",
    "        self.max_heap = []\n",
    "        # Min-heap for the larger half of numbers\n",
    "        self.min_heap = []\n",
    "\n",
    "    def insertNum(self, num: int) -> None:\n",
    "        # Step 1: Insert into max-heap (smaller half)\n",
    "        if len(self.max_heap) == 0 or num <= -self.max_heap[0]:\n",
    "            heapq.heappush(self.max_heap, -num)  # Invert the number to simulate max-heap\n",
    "        else:\n",
    "            heapq.heappush(self.min_heap, num)\n",
    "        \n",
    "        # Step 2: Balance the heaps to make sure the difference in sizes is at most 1\n",
    "        if len(self.max_heap) > len(self.min_heap) + 1:\n",
    "            # Max-heap has more than one extra element, move the root to min-heap\n",
    "            heapq.heappush(self.min_heap, -heapq.heappop(self.max_heap))\n",
    "        elif len(self.min_heap) > len(self.max_heap):\n",
    "            # Min-heap has more elements, move the root to max-heap\n",
    "            heapq.heappush(self.max_heap, -heapq.heappop(self.min_heap))\n",
    "\n",
    "    def findMedian(self) -> float:\n",
    "        # Step 3: Return the median\n",
    "        if len(self.max_heap) > len(self.min_heap):\n",
    "            return -self.max_heap[0]  # Max-heap has the extra element\n",
    "        else:\n",
    "            return (-self.max_heap[0] + self.min_heap[0]) / 2.0  # Both heaps have the same size\n",
    "\n",
    "# Example usage:\n",
    "\n",
    "mf = MedianFinder()\n",
    "\n",
    "mf.insertNum(3)\n",
    "mf.insertNum(1)\n",
    "print(mf.findMedian())  # Output: 2\n",
    "\n",
    "mf.insertNum(5)\n",
    "print(mf.findMedian())  # Output: 3\n",
    "\n",
    "mf.insertNum(4)\n",
    "print(mf.findMedian())  # Output: 3.5\n"
   ]
  },
  {
   "cell_type": "code",
   "execution_count": 4,
   "metadata": {},
   "outputs": [
    {
     "name": "stdout",
     "output_type": "stream",
     "text": [
      "Heap after insertions: [1, 2, 4, 3, 5]\n",
      "Peek: 1\n",
      "Pop: 1\n",
      "Heap after pop: [2, 3, 4, 5]\n",
      "Heap after more insertions: [0, 2, 4, 5, 3, 7]\n",
      "Heap after heapify: [1, 4, 2, 6, 9, 3]\n"
     ]
    }
   ],
   "source": [
    "class MinHeap:\n",
    "    def __init__(self):\n",
    "        self.heap = []\n",
    "    \n",
    "    def _parent(self, index):\n",
    "        return (index - 1) // 2\n",
    "    \n",
    "    def _left_child(self, index):\n",
    "        return 2 * index + 1\n",
    "    \n",
    "    def _right_child(self, index):\n",
    "        return 2 * index + 2\n",
    "    \n",
    "    def _heapify_up(self, index):\n",
    "        \"\"\" Ensure the heap property is maintained after insertion. \"\"\"\n",
    "        while index > 0 and self.heap[index] < self.heap[self._parent(index)]:\n",
    "            # Swap with parent\n",
    "            self.heap[index], self.heap[self._parent(index)] = self.heap[self._parent(index)], self.heap[index]\n",
    "            index = self._parent(index)\n",
    "    \n",
    "    def _heapify_down(self, index):\n",
    "        \"\"\" Ensure the heap property is maintained after removal. \"\"\"\n",
    "        smallest = index\n",
    "        left = self._left_child(index)\n",
    "        right = self._right_child(index)\n",
    "        \n",
    "        # Find the smallest of the current node, left child, and right child\n",
    "        if left < len(self.heap) and self.heap[left] < self.heap[smallest]:\n",
    "            smallest = left\n",
    "        if right < len(self.heap) and self.heap[right] < self.heap[smallest]:\n",
    "            smallest = right\n",
    "        \n",
    "        # If the smallest is not the current index, swap and heapify down\n",
    "        if smallest != index:\n",
    "            self.heap[index], self.heap[smallest] = self.heap[smallest], self.heap[index]\n",
    "            self._heapify_down(smallest)\n",
    "    \n",
    "    def insert(self, val):\n",
    "        \"\"\" Inserts an element into the heap. \"\"\"\n",
    "        self.heap.append(val)\n",
    "        self._heapify_up(len(self.heap) - 1)\n",
    "    \n",
    "    def pop(self):\n",
    "        \"\"\" Removes and returns the smallest element from the heap. \"\"\"\n",
    "        if len(self.heap) == 0:\n",
    "            raise IndexError(\"Pop from an empty heap\")\n",
    "        \n",
    "        # Swap the root with the last element\n",
    "        root_value = self.heap[0]\n",
    "        self.heap[0] = self.heap[-1]\n",
    "        self.heap.pop()  # Remove the last element\n",
    "        self._heapify_down(0)  # Restore the heap property\n",
    "        return root_value\n",
    "    \n",
    "    def peek(self):\n",
    "        \"\"\" Returns the smallest element without removing it. \"\"\"\n",
    "        if len(self.heap) == 0:\n",
    "            raise IndexError(\"Peek from an empty heap\")\n",
    "        return self.heap[0]\n",
    "    \n",
    "    def size(self):\n",
    "        \"\"\" Returns the size of the heap. \"\"\"\n",
    "        return len(self.heap)\n",
    "    \n",
    "    def heapify(self, arr):\n",
    "        \"\"\" Converts an array into a heap. \"\"\"\n",
    "        self.heap = arr\n",
    "        # Start from the last non-leaf node and heapify upwards\n",
    "        for i in range(len(arr) // 2 - 1, -1, -1):\n",
    "            self._heapify_down(i)\n",
    "\n",
    "# Example usage of MinHeap\n",
    "\n",
    "min_heap = MinHeap()\n",
    "\n",
    "# Inserting elements into the heap\n",
    "min_heap.insert(3)\n",
    "min_heap.insert(1)\n",
    "min_heap.insert(4)\n",
    "min_heap.insert(2)\n",
    "min_heap.insert(5)\n",
    "\n",
    "print(\"Heap after insertions:\", min_heap.heap)  # Should show the elements in heap order\n",
    "\n",
    "# Peek the smallest element\n",
    "print(\"Peek:\", min_heap.peek())  # Output: 1\n",
    "\n",
    "# Pop the smallest element\n",
    "print(\"Pop:\", min_heap.pop())  # Output: 1\n",
    "\n",
    "print(\"Heap after pop:\", min_heap.heap)  # Should show the heap after removal\n",
    "\n",
    "# Insert more elements\n",
    "min_heap.insert(0)\n",
    "min_heap.insert(7)\n",
    "print(\"Heap after more insertions:\", min_heap.heap)\n",
    "\n",
    "# Convert an array into a heap\n",
    "arr = [4, 6, 2, 1, 9, 3]\n",
    "min_heap.heapify(arr)\n",
    "print(\"Heap after heapify:\", min_heap.heap)  # Should be a valid min-heap\n",
    "\n"
   ]
  },
  {
   "cell_type": "code",
   "execution_count": null,
   "metadata": {},
   "outputs": [],
   "source": []
  },
  {
   "cell_type": "code",
   "execution_count": null,
   "metadata": {},
   "outputs": [],
   "source": []
  },
  {
   "cell_type": "code",
   "execution_count": null,
   "metadata": {},
   "outputs": [],
   "source": []
  },
  {
   "cell_type": "code",
   "execution_count": null,
   "metadata": {},
   "outputs": [],
   "source": []
  },
  {
   "cell_type": "code",
   "execution_count": null,
   "metadata": {},
   "outputs": [],
   "source": []
  },
  {
   "cell_type": "code",
   "execution_count": null,
   "metadata": {},
   "outputs": [],
   "source": []
  },
  {
   "cell_type": "code",
   "execution_count": null,
   "metadata": {},
   "outputs": [],
   "source": []
  }
 ],
 "metadata": {
  "kernelspec": {
   "display_name": "Python 3",
   "language": "python",
   "name": "python3"
  },
  "language_info": {
   "codemirror_mode": {
    "name": "ipython",
    "version": 3
   },
   "file_extension": ".py",
   "mimetype": "text/x-python",
   "name": "python",
   "nbconvert_exporter": "python",
   "pygments_lexer": "ipython3",
   "version": "3.9.6"
  }
 },
 "nbformat": 4,
 "nbformat_minor": 2
}
