{
 "cells": [
  {
   "cell_type": "code",
   "execution_count": null,
   "metadata": {},
   "outputs": [],
   "source": []
  },
  {
   "cell_type": "markdown",
   "metadata": {},
   "source": [
    "# Reverse a LinkedList (easy)\n"
   ]
  },
  {
   "cell_type": "code",
   "execution_count": null,
   "metadata": {},
   "outputs": [],
   "source": [
    "\"\"\"\n",
    "6. Pattern In-place Reversal of a LinkedList/Reverse a LinkedList (easy).py\n",
    "\n",
    "Problem Statement \n",
    "Given the head of a Singly LinkedList, reverse the LinkedList.\n",
    " Write a function to return the new head of the reversed LinkedList.\n",
    "\"\"\"\n"
   ]
  },
  {
   "cell_type": "code",
   "execution_count": 1,
   "metadata": {},
   "outputs": [
    {
     "name": "stdout",
     "output_type": "stream",
     "text": [
      "5 -> 4 -> 3 -> 2 -> 1"
     ]
    }
   ],
   "source": [
    "class ListNode:\n",
    "    def __init__(self, val=0, next=None):\n",
    "        self.val = val\n",
    "        self.next = next\n",
    "\n",
    "def reverse_linked_list(head):\n",
    "    prev = None\n",
    "    current = head\n",
    "    \n",
    "    while current:\n",
    "        next_node = current.next  # Store the next node\n",
    "        current.next = prev  # Reverse the 'next' pointer\n",
    "        prev = current  # Move prev to the current node\n",
    "        current = next_node  # Move current to the next node\n",
    "    \n",
    "    return prev  # prev will be the new head of the reversed list\n",
    "\n",
    "# Example usage:\n",
    "# Creating a linked list: 1 -> 2 -> 3 -> 4 -> 5\n",
    "head = ListNode(1)\n",
    "head.next = ListNode(2)\n",
    "head.next.next = ListNode(3)\n",
    "head.next.next.next = ListNode(4)\n",
    "head.next.next.next.next = ListNode(5)\n",
    "\n",
    "# Reversing the linked list\n",
    "reversed_head = reverse_linked_list(head)\n",
    "\n",
    "# Printing the reversed linked list:\n",
    "current = reversed_head\n",
    "while current:\n",
    "    print(current.val, end=\" -> \" if current.next else \"\")\n",
    "    current = current.next\n"
   ]
  },
  {
   "cell_type": "code",
   "execution_count": 2,
   "metadata": {},
   "outputs": [
    {
     "data": {
      "text/plain": [
       "\" \\nExplanation:\\nListNode class: A basic class representing a node in the linked list with val for storing the value and next for storing the reference to the next node.\\nreverse_linked_list function:\\nWe initialize prev to None (the new head of the reversed list).\\nWe iterate through the linked list, reversing the direction of each node's next pointer.\\nFinally, we return prev, which will be the head of the reversed list.\\nExample Walkthrough:\\nFor a list 1 -> 2 -> 3 -> 4 -> 5:\\n\\nAfter the first iteration: 1 <- 2 -> 3 -> 4 -> 5 (the head is now 2).\\nAfter the second iteration: 1 <- 2 <- 3 -> 4 -> 5 (the head is now 3).\\nContinue this until the list is fully reversed, resulting in 5 -> 4 -> 3 -> 2 -> 1.\\nTime Complexity:\\nO(n), where n is the number of nodes in the linked list. We are traversing each node once.\\nSpace Complexity:\\nO(1), since we are using only a constant amount of extra space for the pointers (prev, current, next_node).\\n\\n\""
      ]
     },
     "execution_count": 2,
     "metadata": {},
     "output_type": "execute_result"
    }
   ],
   "source": [
    "\"\"\" \n",
    "Explanation:\n",
    "ListNode class: A basic class representing a node in the linked list with val for storing the value and next for storing the reference to the next node.\n",
    "reverse_linked_list function:\n",
    "We initialize prev to None (the new head of the reversed list).\n",
    "We iterate through the linked list, reversing the direction of each node's next pointer.\n",
    "Finally, we return prev, which will be the head of the reversed list.\n",
    "Example Walkthrough:\n",
    "For a list 1 -> 2 -> 3 -> 4 -> 5:\n",
    "\n",
    "After the first iteration: 1 <- 2 -> 3 -> 4 -> 5 (the head is now 2).\n",
    "After the second iteration: 1 <- 2 <- 3 -> 4 -> 5 (the head is now 3).\n",
    "Continue this until the list is fully reversed, resulting in 5 -> 4 -> 3 -> 2 -> 1.\n",
    "Time Complexity:\n",
    "O(n), where n is the number of nodes in the linked list. We are traversing each node once.\n",
    "Space Complexity:\n",
    "O(1), since we are using only a constant amount of extra space for the pointers (prev, current, next_node).\n",
    "\n",
    "\"\"\""
   ]
  },
  {
   "cell_type": "code",
   "execution_count": null,
   "metadata": {},
   "outputs": [],
   "source": []
  },
  {
   "cell_type": "code",
   "execution_count": null,
   "metadata": {},
   "outputs": [],
   "source": []
  },
  {
   "cell_type": "code",
   "execution_count": null,
   "metadata": {},
   "outputs": [],
   "source": []
  },
  {
   "cell_type": "code",
   "execution_count": null,
   "metadata": {},
   "outputs": [],
   "source": []
  },
  {
   "cell_type": "code",
   "execution_count": null,
   "metadata": {},
   "outputs": [],
   "source": []
  },
  {
   "cell_type": "code",
   "execution_count": null,
   "metadata": {},
   "outputs": [],
   "source": []
  },
  {
   "cell_type": "code",
   "execution_count": null,
   "metadata": {},
   "outputs": [],
   "source": []
  },
  {
   "cell_type": "code",
   "execution_count": null,
   "metadata": {},
   "outputs": [],
   "source": []
  },
  {
   "cell_type": "code",
   "execution_count": null,
   "metadata": {},
   "outputs": [],
   "source": []
  },
  {
   "cell_type": "code",
   "execution_count": null,
   "metadata": {},
   "outputs": [],
   "source": []
  },
  {
   "cell_type": "code",
   "execution_count": null,
   "metadata": {},
   "outputs": [],
   "source": []
  },
  {
   "cell_type": "code",
   "execution_count": null,
   "metadata": {},
   "outputs": [],
   "source": []
  },
  {
   "cell_type": "code",
   "execution_count": null,
   "metadata": {},
   "outputs": [],
   "source": []
  },
  {
   "cell_type": "code",
   "execution_count": null,
   "metadata": {},
   "outputs": [],
   "source": []
  },
  {
   "cell_type": "code",
   "execution_count": null,
   "metadata": {},
   "outputs": [],
   "source": []
  },
  {
   "cell_type": "code",
   "execution_count": null,
   "metadata": {},
   "outputs": [],
   "source": []
  },
  {
   "cell_type": "code",
   "execution_count": null,
   "metadata": {},
   "outputs": [],
   "source": []
  },
  {
   "cell_type": "code",
   "execution_count": null,
   "metadata": {},
   "outputs": [],
   "source": []
  },
  {
   "cell_type": "code",
   "execution_count": null,
   "metadata": {},
   "outputs": [],
   "source": []
  },
  {
   "cell_type": "code",
   "execution_count": null,
   "metadata": {},
   "outputs": [],
   "source": []
  }
 ],
 "metadata": {
  "kernelspec": {
   "display_name": "Python 3",
   "language": "python",
   "name": "python3"
  },
  "language_info": {
   "codemirror_mode": {
    "name": "ipython",
    "version": 3
   },
   "file_extension": ".py",
   "mimetype": "text/x-python",
   "name": "python",
   "nbconvert_exporter": "python",
   "pygments_lexer": "ipython3",
   "version": "3.9.6"
  }
 },
 "nbformat": 4,
 "nbformat_minor": 2
}
