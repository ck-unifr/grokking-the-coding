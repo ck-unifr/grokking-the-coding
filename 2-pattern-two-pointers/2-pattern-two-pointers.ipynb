{
 "cells": [
  {
   "cell_type": "code",
   "execution_count": null,
   "metadata": {},
   "outputs": [],
   "source": []
  },
  {
   "cell_type": "markdown",
   "metadata": {},
   "source": [
    "# 2.1 Pair with Target Sum (easy)"
   ]
  },
  {
   "cell_type": "code",
   "execution_count": 1,
   "metadata": {},
   "outputs": [
    {
     "data": {
      "text/plain": [
       "'\\nhttps://github.com/dipjul/Grokking-the-Coding-Interview-Patterns-for-Coding-Questions/blob/master/2.-pattern-two-pointers/2.1-pair-with-target-sum-easy.md\\n\\nGiven an array of integers nums and an integer target, return indices of the two numbers such that they add up to target.\\n\\nYou may assume that each input would have exactly** one solution**, and you may not use the same element twice.\\n\\nYou can return the answer in any order.\\n\\nExample 1:\\n\\nInput: nums = [2,7,11,15], target = 9\\nOutput: [0,1]\\nOutput: Because nums[0] + nums[1] == 9, we return [0, 1].\\nExample 2:\\n\\nInput: nums = [3,2,4], target = 6\\nOutput: [1,2]\\nExample 3:\\n\\nInput: nums = [3,3], target = 6\\nOutput: [0,1]\\nConstraints:\\n\\n2 <= nums.length <= 104\\n-109 <= nums[i] <= 109\\n-109 <= target <= 109\\nOnly one valid answer exists.\\nFollow-up: Can you come up with an algorithm that is less than O(n2) time complexity?\\n\\n'"
      ]
     },
     "execution_count": 1,
     "metadata": {},
     "output_type": "execute_result"
    }
   ],
   "source": [
    "\"\"\"\n",
    "https://github.com/dipjul/Grokking-the-Coding-Interview-Patterns-for-Coding-Questions/blob/master/2.-pattern-two-pointers/2.1-pair-with-target-sum-easy.md\n",
    "\n",
    "Given an array of integers nums and an integer target, return indices of the two numbers such that they add up to target.\n",
    "\n",
    "You may assume that each input would have exactly** one solution**, and you may not use the same element twice.\n",
    "\n",
    "You can return the answer in any order.\n",
    "\n",
    "Example 1:\n",
    "\n",
    "Input: nums = [2,7,11,15], target = 9\n",
    "Output: [0,1]\n",
    "Output: Because nums[0] + nums[1] == 9, we return [0, 1].\n",
    "Example 2:\n",
    "\n",
    "Input: nums = [3,2,4], target = 6\n",
    "Output: [1,2]\n",
    "Example 3:\n",
    "\n",
    "Input: nums = [3,3], target = 6\n",
    "Output: [0,1]\n",
    "Constraints:\n",
    "\n",
    "2 <= nums.length <= 104\n",
    "-109 <= nums[i] <= 109\n",
    "-109 <= target <= 109\n",
    "Only one valid answer exists.\n",
    "Follow-up: Can you come up with an algorithm that is less than O(n2) time complexity?\n",
    "\n",
    "\"\"\""
   ]
  },
  {
   "cell_type": "code",
   "execution_count": 3,
   "metadata": {},
   "outputs": [],
   "source": [
    "def two_sum(nums, target):\n",
    "    num_map = {}\n",
    "    for i, num in enumerate(nums):\n",
    "        complement = target - num \n",
    "        if complement in num_map:\n",
    "            return [num_map[complement], i]\n",
    "        num_map[num] = i \n",
    "    return []"
   ]
  },
  {
   "cell_type": "code",
   "execution_count": 4,
   "metadata": {},
   "outputs": [
    {
     "name": "stdout",
     "output_type": "stream",
     "text": [
      "[0, 1]\n",
      "[1, 2]\n",
      "[0, 1]\n"
     ]
    }
   ],
   "source": [
    "print(two_sum([2, 7, 11, 15], 9))  # Output: [0, 1]\n",
    "print(two_sum([3, 2, 4], 6))      # Output: [1, 2]\n",
    "print(two_sum([3, 3], 6))         # Output: [0, 1]\n"
   ]
  },
  {
   "cell_type": "code",
   "execution_count": 6,
   "metadata": {},
   "outputs": [
    {
     "data": {
      "text/plain": [
       "'\\nTime Complexity:\\nThe algorithm runs in O(n) time because it iterates through the nums array once.\\nEach lookup (complement in num_map) and insertion (num_map[num] = i) in the dictionary takes O(1) on average.\\nTherefore, the overall time complexity is O(n).\\n\\nSpace Complexity:\\nThe algorithm uses a dictionary (num_map) to store at most n elements (in the worst case, when no complement is found until the end).\\nHence, the space complexity is O(n).\\n\\n'"
      ]
     },
     "execution_count": 6,
     "metadata": {},
     "output_type": "execute_result"
    }
   ],
   "source": [
    "\"\"\"\n",
    "Time Complexity:\n",
    "The algorithm runs in O(n) time because it iterates through the nums array once.\n",
    "Each lookup (complement in num_map) and insertion (num_map[num] = i) in the dictionary takes O(1) on average.\n",
    "Therefore, the overall time complexity is O(n).\n",
    "\n",
    "Space Complexity:\n",
    "The algorithm uses a dictionary (num_map) to store at most n elements (in the worst case, when no complement is found until the end).\n",
    "Hence, the space complexity is O(n).\n",
    "\n",
    "\"\"\""
   ]
  },
  {
   "cell_type": "code",
   "execution_count": 7,
   "metadata": {},
   "outputs": [],
   "source": [
    "def two_sum_sorted(nums, target):\n",
    "    nums_with_index = [(num, i) for i, num in enumerate(nums)]\n",
    "    nums_with_index.sort()\n",
    "    left, right = 0, len(nums)-1\n",
    "    while left < right:\n",
    "        current_sum = nums_with_index[left][0] + nums_with_index[right][0]\n",
    "        if current_sum == target:\n",
    "            return [nums_with_index[left][1], nums_with_index[right][1]]\n",
    "        if current_sum < target:\n",
    "            left += 1\n",
    "        else:\n",
    "            right -= 1\n",
    "    return []"
   ]
  },
  {
   "cell_type": "code",
   "execution_count": 8,
   "metadata": {},
   "outputs": [
    {
     "name": "stdout",
     "output_type": "stream",
     "text": [
      "[0, 1]\n",
      "[1, 2]\n",
      "[0, 1]\n"
     ]
    }
   ],
   "source": [
    "# Example usage\n",
    "print(two_sum_sorted([2, 7, 11, 15], 9))  # Output: [0, 1]\n",
    "print(two_sum_sorted([3, 2, 4], 6))      # Output: [1, 2]\n",
    "print(two_sum_sorted([3, 3], 6))         # Output: [0, 1]\n"
   ]
  },
  {
   "cell_type": "code",
   "execution_count": 10,
   "metadata": {},
   "outputs": [
    {
     "data": {
      "text/plain": [
       "'\\nTime Complexity:\\nSorting takes O(n log n).\\nThe two-pointer traversal takes O(n).\\nOverall time complexity: O(n log n) (due to sorting).\\n\\nSpace Complexity:\\nO(n) for storing original indices.\\n\\n'"
      ]
     },
     "execution_count": 10,
     "metadata": {},
     "output_type": "execute_result"
    }
   ],
   "source": [
    "\"\"\"\n",
    "Time Complexity:\n",
    "Sorting takes O(n log n).\n",
    "The two-pointer traversal takes O(n).\n",
    "Overall time complexity: O(n log n) (due to sorting).\n",
    "\n",
    "Space Complexity:\n",
    "O(n) for storing original indices.\n",
    "\n",
    "\"\"\""
   ]
  },
  {
   "cell_type": "code",
   "execution_count": null,
   "metadata": {},
   "outputs": [],
   "source": []
  },
  {
   "cell_type": "code",
   "execution_count": null,
   "metadata": {},
   "outputs": [],
   "source": []
  },
  {
   "cell_type": "code",
   "execution_count": null,
   "metadata": {},
   "outputs": [],
   "source": []
  },
  {
   "cell_type": "markdown",
   "metadata": {},
   "source": [
    "# Dutch National Flag Problem (medium).py"
   ]
  },
  {
   "cell_type": "code",
   "execution_count": null,
   "metadata": {},
   "outputs": [],
   "source": [
    "\"\"\"\n",
    "\n",
    "2. Pattern Two Pointers/Dutch National Flag Problem (medium).py\n",
    "Problem Statement \n",
    "Given an array containing 0s, 1s and 2s, sort the array in-place. You should treat numbers of the array as objects, \n",
    "hence, we can’t count 0s, 1s, and 2s to recreate the array.\n",
    "\n",
    "The flag of the Netherlands consists of three colors: red, white and blue; \n",
    "and since our input array also consists of three different numbers that is why it is called Dutch National Flag problem.\n",
    "\n",
    "Example 1:\n",
    "\n",
    "Input: [1, 0, 2, 1, 0]\n",
    "Output: [0 0 1 1 2]\n",
    "\n",
    "Example 2:\n",
    "\n",
    "Input: [2, 2, 0, 1, 2, 0]\n",
    "Output: [0 0 1 2 2 2 ]\n",
    "\"\"\""
   ]
  },
  {
   "cell_type": "code",
   "execution_count": 1,
   "metadata": {},
   "outputs": [
    {
     "name": "stdout",
     "output_type": "stream",
     "text": [
      "[0, 0, 1, 1, 2]\n",
      "[0, 0, 1, 2, 2, 2]\n"
     ]
    }
   ],
   "source": [
    "def sortColors(nums):\n",
    "    low, mid, high = 0, 0, len(nums) - 1\n",
    "    \n",
    "    while mid <= high:\n",
    "        if nums[mid] == 0:\n",
    "            # Swap nums[low] and nums[mid], move low and mid forward\n",
    "            nums[low], nums[mid] = nums[mid], nums[low]\n",
    "            low += 1\n",
    "            mid += 1\n",
    "        elif nums[mid] == 1:\n",
    "            # Just move the mid pointer forward\n",
    "            mid += 1\n",
    "        else:  # nums[mid] == 2\n",
    "            # Swap nums[mid] and nums[high], move high backward\n",
    "            nums[mid], nums[high] = nums[high], nums[mid]\n",
    "            high -= 1\n",
    "\n",
    "# Example usage:\n",
    "arr1 = [1, 0, 2, 1, 0]\n",
    "sortColors(arr1)\n",
    "print(arr1)  # Output: [0, 0, 1, 1, 2]\n",
    "\n",
    "arr2 = [2, 2, 0, 1, 2, 0]\n",
    "sortColors(arr2)\n",
    "print(arr2)  # Output: [0, 0, 1, 2, 2, 2]\n"
   ]
  },
  {
   "cell_type": "code",
   "execution_count": null,
   "metadata": {},
   "outputs": [],
   "source": [
    "\"\"\" \n",
    "Time and Space Complexity:\n",
    "Time complexity: O(n), where n is the number of elements in the array. We only traverse the array once.\n",
    "Space complexity: O(1), as the sorting is done in-place and we are only using a few additional pointers.\n",
    "\"\"\""
   ]
  },
  {
   "cell_type": "code",
   "execution_count": null,
   "metadata": {},
   "outputs": [],
   "source": []
  },
  {
   "cell_type": "markdown",
   "metadata": {},
   "source": [
    "# Remove Duplicates (easy).py"
   ]
  },
  {
   "cell_type": "code",
   "execution_count": null,
   "metadata": {},
   "outputs": [],
   "source": [
    "\"\"\"\n",
    "2. Pattern Two Pointers/Remove Duplicates (easy).py\n",
    "\n",
    "Problem Statement \n",
    "Given an array of sorted numbers, remove all duplicates from it. You should not use any extra space; after removing the duplicates in-place return the new length of the array.\n",
    "\n",
    "Example 1:\n",
    "\n",
    "Input: [2, 3, 3, 3, 6, 9, 9]\n",
    "Output: 4\n",
    "Explanation: The first four elements after removing the duplicates will be [2, 3, 6, 9].\n",
    "\n",
    "Example 2:\n",
    "\n",
    "Input: [2, 2, 2, 11]\n",
    "Output: 2\n",
    "Explanation: The first two elements after removing the duplicates will be [2, 11].\n",
    "\"\"\"\n"
   ]
  },
  {
   "cell_type": "code",
   "execution_count": 2,
   "metadata": {},
   "outputs": [
    {
     "name": "stdout",
     "output_type": "stream",
     "text": [
      "4\n",
      "[2, 3, 6, 9]\n",
      "2\n",
      "[2, 11]\n"
     ]
    }
   ],
   "source": [
    "def remove_duplicates(nums):\n",
    "    j = 0\n",
    "    for i in range(1, len(nums)):\n",
    "        if nums[i] != nums[j]:\n",
    "            j += 1\n",
    "            nums[j] = nums[i]\n",
    "    return j + 1\n",
    "    \n",
    "# Example usage:\n",
    "arr1 = [2, 3, 3, 3, 6, 9, 9]\n",
    "new_length1 = remove_duplicates(arr1)\n",
    "print(new_length1)  # Output: 4\n",
    "print(arr1[:new_length1])  # Output: [2, 3, 6, 9]\n",
    "\n",
    "arr2 = [2, 2, 2, 11]\n",
    "new_length2 = remove_duplicates(arr2)\n",
    "print(new_length2)  # Output: 2\n",
    "print(arr2[:new_length2])  # Output: [2, 11]\n",
    "\n"
   ]
  },
  {
   "cell_type": "code",
   "execution_count": null,
   "metadata": {},
   "outputs": [],
   "source": []
  },
  {
   "cell_type": "markdown",
   "metadata": {},
   "source": [
    "# Triplet Sum to Zero (medium).py"
   ]
  },
  {
   "cell_type": "code",
   "execution_count": null,
   "metadata": {},
   "outputs": [],
   "source": [
    "\"\"\"\n",
    "2. Pattern Two Pointers/Triplet Sum to Zero (medium).py\n",
    "\n",
    "Problem Statement \n",
    "Given an array of unsorted numbers, find all unique triplets in it that add up to zero.\n",
    "\n",
    "Example 1:\n",
    "\n",
    "Input: [-3, 0, 1, 2, -1, 1, -2]\n",
    "Output: [-3, 1, 2], [-2, 0, 2], [-2, 1, 1], [-1, 0, 1]\n",
    "Explanation: There are four unique triplets whose sum is equal to zero.\n",
    "\n",
    "Example 2:\n",
    "\n",
    "Input: [-5, 2, -1, -2, 3]\n",
    "Output: [[-5, 2, 3], [-2, -1, 3]]\n",
    "Explanation: There are two unique triplets whose sum is equal to zero.\n",
    "\"\"\"\n"
   ]
  },
  {
   "cell_type": "code",
   "execution_count": 8,
   "metadata": {},
   "outputs": [
    {
     "name": "stdout",
     "output_type": "stream",
     "text": [
      "[[-3, 1, 2], [-2, 1, 1], [-2, 0, 2], [-1, 0, 1], [-1, 0, 1]]\n",
      "[[-5, 2, 3], [-2, -1, 3]]\n"
     ]
    }
   ],
   "source": [
    "def two_sum(nums, target, start):\n",
    "    # 这个方法寻找从start位置开始，和为target的两数\n",
    "    result = []\n",
    "    seen = {}\n",
    "    \n",
    "    for i in range(start, len(nums)):\n",
    "        complement = target - nums[i]\n",
    "        if complement in seen:\n",
    "            result.append([complement, nums[i]])\n",
    "        seen[nums[i]] = i  # 存储当前数及其索引\n",
    "        \n",
    "    return result\n",
    "\n",
    "def three_sum(nums):\n",
    "    nums.sort()  # 排序\n",
    "    result = []\n",
    "    n = len(nums)\n",
    "    \n",
    "    for i in range(n - 2):  # 第一个元素\n",
    "        if i > 0 and nums[i] == nums[i - 1]:  # 跳过重复元素\n",
    "            continue\n",
    "        \n",
    "        # 寻找两数之和为 -nums[i]\n",
    "        target = -nums[i]\n",
    "        pairs = two_sum(nums, target, i + 1)\n",
    "        \n",
    "        for pair in pairs:\n",
    "            result.append([nums[i]] + pair)\n",
    "    \n",
    "    return result\n",
    "\n",
    "# 示例用法\n",
    "arr1 = [-3, 0, 1, 2, -1, 1, -2]\n",
    "print(three_sum(arr1))  # Output: [[-3, 1, 2], [-2, 0, 2], [-2, 1, 1], [-1, 0, 1]]\n",
    "\n",
    "arr2 = [-5, 2, -1, -2, 3]\n",
    "print(three_sum(arr2))  # Output: [[-5, 2, 3], [-2, -1, 3]]\n"
   ]
  },
  {
   "cell_type": "code",
   "execution_count": 9,
   "metadata": {},
   "outputs": [
    {
     "data": {
      "text/plain": [
       "' \\n代码说明：\\ntwo_sum 方法：\\n\\ntwo_sum 方法查找从索引 start 开始的元素对，使得它们的和为给定的 target（即 -nums[i]）。\\n使用哈希表 seen 来记录已经遍历过的元素，从而高效地判断当前元素和目标元素是否已经存在。\\n如果存在，我们将这对元素作为结果返回。\\nthree_sum 方法：\\n\\n先对数组进行排序，然后通过遍历每个元素 nums[i]，固定一个元素。\\n使用 two_sum 方法查找其余两个元素，它们的和等于 -nums[i]。\\n将找到的三元组加入到结果中，并避免重复的三元组。\\n去重：\\n\\n在 three_sum 中，我们通过跳过重复的元素来确保结果中每个三元组都是唯一的。\\n时间和空间复杂度：\\n时间复杂度：O(n²)，其中 n 是数组的长度。排序的时间复杂度是 O(n log n)，而通过哈希表查找两数之和的时间复杂度是 O(n)，所以总的时间复杂度是 O(n²)。\\n空间复杂度：O(n)，用于存储哈希表和结果的空间。\\n这个方法通过将三数之和的问题转化为两数之和问题，利用哈希表优化了查找过程。\\n'"
      ]
     },
     "execution_count": 9,
     "metadata": {},
     "output_type": "execute_result"
    }
   ],
   "source": [
    "\"\"\" \n",
    "代码说明：\n",
    "two_sum 方法：\n",
    "\n",
    "two_sum 方法查找从索引 start 开始的元素对，使得它们的和为给定的 target（即 -nums[i]）。\n",
    "使用哈希表 seen 来记录已经遍历过的元素，从而高效地判断当前元素和目标元素是否已经存在。\n",
    "如果存在，我们将这对元素作为结果返回。\n",
    "three_sum 方法：\n",
    "\n",
    "先对数组进行排序，然后通过遍历每个元素 nums[i]，固定一个元素。\n",
    "使用 two_sum 方法查找其余两个元素，它们的和等于 -nums[i]。\n",
    "将找到的三元组加入到结果中，并避免重复的三元组。\n",
    "去重：\n",
    "\n",
    "在 three_sum 中，我们通过跳过重复的元素来确保结果中每个三元组都是唯一的。\n",
    "时间和空间复杂度：\n",
    "时间复杂度：O(n²)，其中 n 是数组的长度。排序的时间复杂度是 O(n log n)，而通过哈希表查找两数之和的时间复杂度是 O(n)，所以总的时间复杂度是 O(n²)。\n",
    "空间复杂度：O(n)，用于存储哈希表和结果的空间。\n",
    "这个方法通过将三数之和的问题转化为两数之和问题，利用哈希表优化了查找过程。\n",
    "\"\"\""
   ]
  },
  {
   "cell_type": "code",
   "execution_count": null,
   "metadata": {},
   "outputs": [],
   "source": []
  },
  {
   "cell_type": "code",
   "execution_count": null,
   "metadata": {},
   "outputs": [],
   "source": []
  },
  {
   "cell_type": "markdown",
   "metadata": {},
   "source": [
    "# Problem Challenge 1 - Quadruple Sum to Target (medium) .py\n"
   ]
  },
  {
   "cell_type": "code",
   "execution_count": 5,
   "metadata": {},
   "outputs": [
    {
     "data": {
      "text/plain": [
       "'\\nProblem Challenge 1\\n\\nQuadruple Sum to Target (medium) \\nGiven an array of unsorted numbers and a target number, find all unique quadruplets in it, whose sum is equal to the target number.\\n\\nExample 1:\\n\\nInput: [4, 1, 2, -1, 1, -3], target=1\\nOutput: [-3, -1, 1, 4], [-3, 1, 1, 2]\\nExplanation: Both the quadruplets add up to the target.\\n\\nExample 2:\\n\\nInput: [2, 0, -1, 1, -2, 2], target=2\\nOutput: [-2, 0, 2, 2], [-1, 0, 1, 2]\\nExplanation: Both the quadruplets add up to the target.\\n'"
      ]
     },
     "execution_count": 5,
     "metadata": {},
     "output_type": "execute_result"
    }
   ],
   "source": [
    "\"\"\"\n",
    "Problem Challenge 1\n",
    "\n",
    "Quadruple Sum to Target (medium) \n",
    "Given an array of unsorted numbers and a target number, find all unique quadruplets in it, whose sum is equal to the target number.\n",
    "\n",
    "Example 1:\n",
    "\n",
    "Input: [4, 1, 2, -1, 1, -3], target=1\n",
    "Output: [-3, -1, 1, 4], [-3, 1, 1, 2]\n",
    "Explanation: Both the quadruplets add up to the target.\n",
    "\n",
    "Example 2:\n",
    "\n",
    "Input: [2, 0, -1, 1, -2, 2], target=2\n",
    "Output: [-2, 0, 2, 2], [-1, 0, 1, 2]\n",
    "Explanation: Both the quadruplets add up to the target.\n",
    "\"\"\""
   ]
  },
  {
   "cell_type": "code",
   "execution_count": 6,
   "metadata": {},
   "outputs": [
    {
     "name": "stdout",
     "output_type": "stream",
     "text": [
      "[[-3, -1, 1, 4], [-3, 1, 1, 2]]\n",
      "[[-2, 0, 2, 2], [-1, 0, 1, 2], [-1, 0, 1, 2]]\n"
     ]
    }
   ],
   "source": [
    "def two_sum(nums, target, start):\n",
    "    # 这个方法寻找从start位置开始，和为target的两数\n",
    "    result = []\n",
    "    seen = {}\n",
    "    \n",
    "    for i in range(start, len(nums)):\n",
    "        complement = target - nums[i]\n",
    "        if complement in seen:\n",
    "            result.append([complement, nums[i]])\n",
    "        seen[nums[i]] = i  # 存储当前数及其索引\n",
    "        \n",
    "    return result\n",
    "\n",
    "def four_sum(nums, target):\n",
    "    nums.sort()  # 排序\n",
    "    result = []\n",
    "    n = len(nums)\n",
    "    \n",
    "    for i in range(n - 3):  # 第一个元素\n",
    "        if i > 0 and nums[i] == nums[i - 1]:  # 跳过重复元素\n",
    "            continue\n",
    "        \n",
    "        for j in range(i + 1, n - 2):  # 第二个元素\n",
    "            if j > i + 1 and nums[j] == nums[j - 1]:  # 跳过重复元素\n",
    "                continue\n",
    "            \n",
    "            # 目标是target - nums[i] - nums[j]\n",
    "            target_sum = target - nums[i] - nums[j]\n",
    "            # 使用two_sum方法寻找剩下的两个数\n",
    "            pairs = two_sum(nums, target_sum, j + 1)\n",
    "            \n",
    "            for pair in pairs:\n",
    "                result.append([nums[i], nums[j]] + pair)\n",
    "                \n",
    "    return result\n",
    "\n",
    "# 示例用法\n",
    "arr1 = [4, 1, 2, -1, 1, -3]\n",
    "target1 = 1\n",
    "print(four_sum(arr1, target1))  # Output: [[-3, -1, 1, 4], [-3, 1, 1, 2]]\n",
    "\n",
    "arr2 = [2, 0, -1, 1, -2, 2]\n",
    "target2 = 2\n",
    "print(four_sum(arr2, target2))  # Output: [[-2, 0, 2, 2], [-1, 0, 1, 2]]\n"
   ]
  },
  {
   "cell_type": "code",
   "execution_count": 7,
   "metadata": {},
   "outputs": [
    {
     "data": {
      "text/plain": [
       "'\\n代码说明：\\ntwo_sum 方法：\\n\\n这个方法接收一个数组 nums，目标值 target，以及一个 start 索引。它通过哈希表来查找从 start 开始的两个数，使得它们的和等于 target。\\n对于每个元素，我们计算出它的 complement（即目标值减去当前元素的值），并检查这个 complement 是否已经在哈希表中。如果在，就说明找到了一个符合条件的两数之和。\\nfour_sum 方法：\\n\\n我们通过两个嵌套的循环来遍历数组中的前两个元素 nums[i] 和 nums[j]。\\n然后，我们将目标值更新为 target - nums[i] - nums[j]，并调用 two_sum 方法来查找剩下两个数。\\n找到的每一对两数之和被组合成一个四元组，并添加到结果中。\\n去重：\\n\\n在处理前两个元素时，我们跳过重复的元素，确保每个四元组唯一。\\n在 two_sum 方法中，哈希表的使用帮助我们避免了重复配对。\\n时间和空间复杂度：\\n时间复杂度：O(n³)，其中 n 是数组的长度。外层两重循环是 O(n²)，而每次调用 two_sum 是 O(n)，所以总时间复杂度为 O(n³)。\\n空间复杂度：O(n)，主要是用于存储哈希表和结果的空间。\\n\\n'"
      ]
     },
     "execution_count": 7,
     "metadata": {},
     "output_type": "execute_result"
    }
   ],
   "source": [
    "\"\"\"\n",
    "代码说明：\n",
    "two_sum 方法：\n",
    "\n",
    "这个方法接收一个数组 nums，目标值 target，以及一个 start 索引。它通过哈希表来查找从 start 开始的两个数，使得它们的和等于 target。\n",
    "对于每个元素，我们计算出它的 complement（即目标值减去当前元素的值），并检查这个 complement 是否已经在哈希表中。如果在，就说明找到了一个符合条件的两数之和。\n",
    "four_sum 方法：\n",
    "\n",
    "我们通过两个嵌套的循环来遍历数组中的前两个元素 nums[i] 和 nums[j]。\n",
    "然后，我们将目标值更新为 target - nums[i] - nums[j]，并调用 two_sum 方法来查找剩下两个数。\n",
    "找到的每一对两数之和被组合成一个四元组，并添加到结果中。\n",
    "去重：\n",
    "\n",
    "在处理前两个元素时，我们跳过重复的元素，确保每个四元组唯一。\n",
    "在 two_sum 方法中，哈希表的使用帮助我们避免了重复配对。\n",
    "时间和空间复杂度：\n",
    "时间复杂度：O(n³)，其中 n 是数组的长度。外层两重循环是 O(n²)，而每次调用 two_sum 是 O(n)，所以总时间复杂度为 O(n³)。\n",
    "空间复杂度：O(n)，主要是用于存储哈希表和结果的空间。\n",
    "\n",
    "\"\"\""
   ]
  },
  {
   "cell_type": "code",
   "execution_count": null,
   "metadata": {},
   "outputs": [],
   "source": []
  },
  {
   "cell_type": "code",
   "execution_count": null,
   "metadata": {},
   "outputs": [],
   "source": []
  },
  {
   "cell_type": "code",
   "execution_count": null,
   "metadata": {},
   "outputs": [],
   "source": []
  },
  {
   "cell_type": "code",
   "execution_count": null,
   "metadata": {},
   "outputs": [],
   "source": []
  },
  {
   "cell_type": "code",
   "execution_count": null,
   "metadata": {},
   "outputs": [],
   "source": []
  },
  {
   "cell_type": "code",
   "execution_count": null,
   "metadata": {},
   "outputs": [],
   "source": []
  },
  {
   "cell_type": "code",
   "execution_count": null,
   "metadata": {},
   "outputs": [],
   "source": []
  },
  {
   "cell_type": "code",
   "execution_count": null,
   "metadata": {},
   "outputs": [],
   "source": []
  },
  {
   "cell_type": "code",
   "execution_count": null,
   "metadata": {},
   "outputs": [],
   "source": []
  }
 ],
 "metadata": {
  "kernelspec": {
   "display_name": "Python 3",
   "language": "python",
   "name": "python3"
  },
  "language_info": {
   "codemirror_mode": {
    "name": "ipython",
    "version": 3
   },
   "file_extension": ".py",
   "mimetype": "text/x-python",
   "name": "python",
   "nbconvert_exporter": "python",
   "pygments_lexer": "ipython3",
   "version": "3.9.6"
  }
 },
 "nbformat": 4,
 "nbformat_minor": 2
}
