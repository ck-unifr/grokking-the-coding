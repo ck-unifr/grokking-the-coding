{
 "cells": [
  {
   "cell_type": "code",
   "execution_count": null,
   "metadata": {},
   "outputs": [],
   "source": []
  },
  {
   "cell_type": "markdown",
   "metadata": {},
   "source": [
    "# Binary Tree Path Sum (easy).py"
   ]
  },
  {
   "cell_type": "code",
   "execution_count": null,
   "metadata": {},
   "outputs": [],
   "source": [
    "\"\"\" \n",
    "8. Pattern Tree Depth First Search/Binary Tree Path Sum (easy).py\n",
    "\n",
    "Problem Statement \n",
    "Given a binary tree and a number ‘S’, \n",
    "find if the tree has a path from root-to-leaf such that the sum of all the node values of that path equals ‘S’.\n",
    "\n",
    "\"\"\""
   ]
  },
  {
   "cell_type": "code",
   "execution_count": 1,
   "metadata": {},
   "outputs": [],
   "source": [
    "class TreeNode:\n",
    "    def __init__(self, val, left=None, right=None):\n",
    "        self.val = val\n",
    "        self.left = left\n",
    "        self.right = right\n",
    "\n",
    "def has_path_sum(root, S):\n",
    "    if not root:\n",
    "        return False \n",
    "    \n",
    "    if not root.left and not root.right:\n",
    "        return root.val == S \n",
    "    \n",
    "    S -= root.val\n",
    "\n",
    "    return has_path_sum(root.left, S) or has_path_sum(root.right, S)"
   ]
  },
  {
   "cell_type": "code",
   "execution_count": 3,
   "metadata": {},
   "outputs": [
    {
     "name": "stdout",
     "output_type": "stream",
     "text": [
      "True\n"
     ]
    }
   ],
   "source": [
    "root = TreeNode(5)\n",
    "root.left = TreeNode(4)\n",
    "root.right = TreeNode(8)\n",
    "root.left.left = TreeNode(11)\n",
    "root.left.left.left = TreeNode(7)\n",
    "root.left.left.right = TreeNode(2)\n",
    "root.right.left = TreeNode(13)\n",
    "root.right.right = TreeNode(4)\n",
    "root.right.right.right = TreeNode(1)\n",
    "\n",
    "print(has_path_sum(root, 22))  # Output: True\n"
   ]
  },
  {
   "cell_type": "code",
   "execution_count": null,
   "metadata": {},
   "outputs": [],
   "source": [
    "\"\"\" \n",
    "时间复杂度：\n",
    "每个节点只访问一次，因此时间复杂度为 O(N)，其中 N 是树中节点的总数。\n",
    "\n",
    "空间复杂度：\n",
    "递归调用栈的空间复杂度是 O(H)，其中 H 是树的高度。在最坏情况下（例如树是一条链），空间复杂度为 O(N)；在最好的情况下（树是平衡的），空间复杂度为 O(log N)。\n",
    "\n",
    "\"\"\""
   ]
  },
  {
   "cell_type": "code",
   "execution_count": null,
   "metadata": {},
   "outputs": [],
   "source": []
  },
  {
   "cell_type": "code",
   "execution_count": null,
   "metadata": {},
   "outputs": [],
   "source": []
  },
  {
   "cell_type": "markdown",
   "metadata": {},
   "source": [
    "# All Paths for a Sum (medium).py\n"
   ]
  },
  {
   "cell_type": "code",
   "execution_count": null,
   "metadata": {},
   "outputs": [],
   "source": [
    "\"\"\"\n",
    "Problem Statement \n",
    "Given a binary tree and a number ‘S’, \n",
    "find all paths from root-to-leaf such that the sum of all the node values of each path equals ‘S’.\n",
    "\"\"\""
   ]
  },
  {
   "cell_type": "code",
   "execution_count": 4,
   "metadata": {},
   "outputs": [
    {
     "name": "stdout",
     "output_type": "stream",
     "text": [
      "[[5, 4, 11, 2]]\n"
     ]
    }
   ],
   "source": [
    "class TreeNode:\n",
    "    def __init__(self, value=0, left=None, right=None):\n",
    "        self.value = value\n",
    "        self.left = left\n",
    "        self.right = right\n",
    "\n",
    "def pathSum(root, S):\n",
    "    # 定义一个结果数组来存储符合条件的路径\n",
    "    result = []\n",
    "    \n",
    "    # 辅助函数，用于递归地找到所有路径\n",
    "    def dfs(node, current_path, current_sum):\n",
    "        if not node:\n",
    "            return\n",
    "        \n",
    "        # 将当前节点添加到路径中，并更新当前路径的和\n",
    "        current_path.append(node.value)\n",
    "        current_sum += node.value\n",
    "        \n",
    "        # 如果是叶子节点，并且路径和等于S，保存路径\n",
    "        if not node.left and not node.right and current_sum == S:\n",
    "            result.append(list(current_path))\n",
    "        \n",
    "        # 递归调用左右子树\n",
    "        dfs(node.left, current_path, current_sum)\n",
    "        dfs(node.right, current_path, current_sum)\n",
    "        \n",
    "        # 回溯：移除当前节点\n",
    "        current_path.pop()\n",
    "    \n",
    "    # 调用深度优先搜索\n",
    "    dfs(root, [], 0)\n",
    "    \n",
    "    return result\n",
    "\n",
    "# Example usage:\n",
    "\n",
    "# Tree: \n",
    "#      5\n",
    "#     / \\\n",
    "#    4   8\n",
    "#   /   / \\\n",
    "#  11  13  4\n",
    "# /  \\      \\\n",
    "#7    2      1\n",
    "root = TreeNode(5)\n",
    "root.left = TreeNode(4)\n",
    "root.right = TreeNode(8)\n",
    "root.left.left = TreeNode(11)\n",
    "root.left.left.left = TreeNode(7)\n",
    "root.left.left.right = TreeNode(2)\n",
    "root.right.left = TreeNode(13)\n",
    "root.right.right = TreeNode(4)\n",
    "root.right.right.right = TreeNode(1)\n",
    "\n",
    "# Check for paths with sum 22\n",
    "print(pathSum(root, 22))\n"
   ]
  },
  {
   "cell_type": "code",
   "execution_count": 6,
   "metadata": {},
   "outputs": [
    {
     "data": {
      "text/plain": [
       "'  \\n时间复杂度：\\n每个节点都会被访问一次，因此时间复杂度为 O(N)，其中 N 是树中节点的总数。\\n\\n空间复杂度：\\n递归调用栈的空间复杂度是 O(H)，其中 H 是树的高度。在最坏情况下（例如树是一条链），空间复杂度为 O(N)；在最好的情况下（树是平衡的），空间复杂度为 O(log N)。\\n'"
      ]
     },
     "execution_count": 6,
     "metadata": {},
     "output_type": "execute_result"
    }
   ],
   "source": [
    "\"\"\"  \n",
    "时间复杂度：\n",
    "每个节点都会被访问一次，因此时间复杂度为 O(N)，其中 N 是树中节点的总数。\n",
    "\n",
    "空间复杂度：\n",
    "递归调用栈的空间复杂度是 O(H)，其中 H 是树的高度。在最坏情况下（例如树是一条链），空间复杂度为 O(N)；在最好的情况下（树是平衡的），空间复杂度为 O(log N)。\n",
    "\"\"\""
   ]
  },
  {
   "cell_type": "code",
   "execution_count": 7,
   "metadata": {},
   "outputs": [
    {
     "name": "stdout",
     "output_type": "stream",
     "text": [
      "[22]\n",
      "[3]\n"
     ]
    }
   ],
   "source": [
    "class TreeNode:\n",
    "    def __init__(self, val=0, left=None, right=None):\n",
    "        self.val = val\n",
    "        self.left = left\n",
    "        self.right = right\n",
    "\n",
    "def path_sum(root, target):\n",
    "    result = []\n",
    "    \n",
    "    # Helper function to perform DFS traversal and backtrack\n",
    "    def dfs(node, current_sum):\n",
    "        if not node:\n",
    "            return\n",
    "        \n",
    "        # Add the current node's value to the sum\n",
    "        current_sum += node.val\n",
    "        \n",
    "        # If we are at a leaf node and the sum matches the target, add the path\n",
    "        if not node.left and not node.right:\n",
    "            if current_sum == target:\n",
    "                result.append(current_sum)  # Instead of storing the path, we store the sum here\n",
    "        \n",
    "        # Continue the DFS for left and right subtrees\n",
    "        dfs(node.left, current_sum)\n",
    "        dfs(node.right, current_sum)\n",
    "    \n",
    "    dfs(root, 0)  # Start DFS from the root with sum 0\n",
    "    return result\n",
    "\n",
    "# Example usage:\n",
    "\n",
    "# Example 1:\n",
    "#        5\n",
    "#       / \\\n",
    "#      4   8\n",
    "#     /   / \\\n",
    "#    11  13  4\n",
    "#   /  \\      \\\n",
    "#  7    2      1\n",
    "root = TreeNode(5)\n",
    "root.left = TreeNode(4)\n",
    "root.right = TreeNode(8)\n",
    "root.left.left = TreeNode(11)\n",
    "root.left.left.left = TreeNode(7)\n",
    "root.left.left.right = TreeNode(2)\n",
    "root.right.left = TreeNode(13)\n",
    "root.right.right = TreeNode(4)\n",
    "root.right.right.right = TreeNode(1)\n",
    "\n",
    "# Find all paths where the sum equals 22\n",
    "result = path_sum(root, 22)\n",
    "print(result)  # Output: [22] (This version returns the total sum that matches the target sum)\n",
    "\n",
    "# Example 2:\n",
    "#        1\n",
    "#       / \\\n",
    "#      2   3\n",
    "root2 = TreeNode(1)\n",
    "root2.left = TreeNode(2)\n",
    "root2.right = TreeNode(3)\n",
    "\n",
    "# Find all paths where the sum equals 3\n",
    "result2 = path_sum(root2, 3)\n",
    "print(result2)  # Output: [3]\n",
    "\n"
   ]
  },
  {
   "cell_type": "code",
   "execution_count": null,
   "metadata": {},
   "outputs": [],
   "source": []
  },
  {
   "cell_type": "code",
   "execution_count": null,
   "metadata": {},
   "outputs": [],
   "source": []
  },
  {
   "cell_type": "code",
   "execution_count": null,
   "metadata": {},
   "outputs": [],
   "source": []
  },
  {
   "cell_type": "code",
   "execution_count": null,
   "metadata": {},
   "outputs": [],
   "source": []
  },
  {
   "cell_type": "code",
   "execution_count": null,
   "metadata": {},
   "outputs": [],
   "source": []
  },
  {
   "cell_type": "code",
   "execution_count": null,
   "metadata": {},
   "outputs": [],
   "source": []
  },
  {
   "cell_type": "code",
   "execution_count": null,
   "metadata": {},
   "outputs": [],
   "source": []
  },
  {
   "cell_type": "code",
   "execution_count": null,
   "metadata": {},
   "outputs": [],
   "source": []
  },
  {
   "cell_type": "code",
   "execution_count": null,
   "metadata": {},
   "outputs": [],
   "source": []
  },
  {
   "cell_type": "code",
   "execution_count": null,
   "metadata": {},
   "outputs": [],
   "source": []
  },
  {
   "cell_type": "code",
   "execution_count": null,
   "metadata": {},
   "outputs": [],
   "source": []
  },
  {
   "cell_type": "code",
   "execution_count": null,
   "metadata": {},
   "outputs": [],
   "source": []
  }
 ],
 "metadata": {
  "kernelspec": {
   "display_name": "Python 3",
   "language": "python",
   "name": "python3"
  },
  "language_info": {
   "codemirror_mode": {
    "name": "ipython",
    "version": 3
   },
   "file_extension": ".py",
   "mimetype": "text/x-python",
   "name": "python",
   "nbconvert_exporter": "python",
   "pygments_lexer": "ipython3",
   "version": "3.9.6"
  }
 },
 "nbformat": 4,
 "nbformat_minor": 2
}
