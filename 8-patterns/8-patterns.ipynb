{
 "cells": [
  {
   "cell_type": "code",
   "execution_count": null,
   "metadata": {},
   "outputs": [],
   "source": []
  },
  {
   "cell_type": "code",
   "execution_count": null,
   "metadata": {},
   "outputs": [],
   "source": []
  },
  {
   "cell_type": "code",
   "execution_count": 1,
   "metadata": {},
   "outputs": [
    {
     "data": {
      "text/plain": [
       "'\\nhttps://www.youtube.com/watch?v=RYT08CaYq6A\\n'"
      ]
     },
     "execution_count": 1,
     "metadata": {},
     "output_type": "execute_result"
    }
   ],
   "source": [
    "\"\"\"\n",
    "https://www.youtube.com/watch?v=RYT08CaYq6A\n",
    "\"\"\""
   ]
  },
  {
   "cell_type": "markdown",
   "metadata": {},
   "source": [
    "# two pointers\n",
    "\n",
    "https://leetcode.com/problem-list/two-pointers/\n"
   ]
  },
  {
   "cell_type": "markdown",
   "metadata": {},
   "source": [
    "## 15 3Sum\n",
    "https://leetcode.com/problems/3sum/description/?envType=problem-list-v2&envId=two-pointers\n",
    "\n",
    "Given an integer array nums, return all the triplets [nums[i], nums[j], nums[k]] \n",
    "such that i != j, i != k, and j != k, and nums[i] + nums[j] + nums[k] == 0.\n",
    "\n",
    "Notice that the solution set must not contain duplicate triplets.\n",
    "\n",
    "Example 1:\n",
    "\n",
    "Input: nums = [-1,0,1,2,-1,-4]\n",
    "Output: [[-1,-1,2],[-1,0,1]]\n",
    "Explanation: \n",
    "nums[0] + nums[1] + nums[2] = (-1) + 0 + 1 = 0.\n",
    "nums[1] + nums[2] + nums[4] = 0 + 1 + (-1) = 0.\n",
    "nums[0] + nums[3] + nums[4] = (-1) + 2 + (-1) = 0.\n",
    "The distinct triplets are [-1,0,1] and [-1,-1,2].\n",
    "Notice that the order of the output and the order of the triplets does not matter.\n",
    "Example 2:\n",
    "\n",
    "Input: nums = [0,1,1]\n",
    "Output: []\n",
    "Explanation: The only possible triplet does not sum up to 0.\n",
    "Example 3:\n",
    "\n",
    "Input: nums = [0,0,0]\n",
    "Output: [[0,0,0]]\n",
    "Explanation: The only possible triplet sums up to 0.\n",
    " \n",
    "\n",
    "Constraints:\n",
    "\n",
    "3 <= nums.length <= 3000\n",
    "-105 <= nums[i] <= 105\n"
   ]
  },
  {
   "cell_type": "code",
   "execution_count": 2,
   "metadata": {},
   "outputs": [],
   "source": [
    "class Solution(object):\n",
    "    def threeSum(self, nums):\n",
    "        \"\"\"\n",
    "        :type nums: List[int]\n",
    "        :rtype: List[List[int]]\n",
    "        \"\"\"\n",
    "        nums.sort()\n",
    "        results = []\n",
    "        for i in range(len(nums)):\n",
    "            if i > 0 and nums[i] == nums[i-1]:\n",
    "                continue\n",
    "            self.twoSum(nums, i, results)\n",
    "        return results\n",
    "\n",
    "    def twoSum(self, nums, i, results):\n",
    "        target = -nums[i]\n",
    "        left = i + 1\n",
    "        right = len(nums) - 1\n",
    "\n",
    "        while left < right:\n",
    "            total = nums[left] + nums[right]\n",
    "            if total == target:\n",
    "                results.append([nums[i], nums[left], nums[right]])\n",
    "                left += 1\n",
    "                right -= 1\n",
    "                while left < right and nums[left] == nums[left-1]:\n",
    "                    left += 1\n",
    "                while left < right and nums[right] == nums[right+1]:\n",
    "                    right -= 1\n",
    "            elif total > target:\n",
    "                right -= 1\n",
    "            else:\n",
    "                left += 1\n",
    "                "
   ]
  },
  {
   "cell_type": "code",
   "execution_count": null,
   "metadata": {},
   "outputs": [],
   "source": []
  },
  {
   "cell_type": "code",
   "execution_count": null,
   "metadata": {},
   "outputs": [],
   "source": []
  },
  {
   "cell_type": "code",
   "execution_count": null,
   "metadata": {},
   "outputs": [],
   "source": []
  },
  {
   "cell_type": "code",
   "execution_count": null,
   "metadata": {},
   "outputs": [],
   "source": []
  },
  {
   "cell_type": "code",
   "execution_count": null,
   "metadata": {},
   "outputs": [],
   "source": []
  },
  {
   "cell_type": "code",
   "execution_count": null,
   "metadata": {},
   "outputs": [],
   "source": []
  },
  {
   "cell_type": "code",
   "execution_count": null,
   "metadata": {},
   "outputs": [],
   "source": []
  },
  {
   "cell_type": "code",
   "execution_count": null,
   "metadata": {},
   "outputs": [],
   "source": []
  }
 ],
 "metadata": {
  "kernelspec": {
   "display_name": "Python 3",
   "language": "python",
   "name": "python3"
  },
  "language_info": {
   "codemirror_mode": {
    "name": "ipython",
    "version": 3
   },
   "file_extension": ".py",
   "mimetype": "text/x-python",
   "name": "python",
   "nbconvert_exporter": "python",
   "pygments_lexer": "ipython3",
   "version": "3.9.6"
  }
 },
 "nbformat": 4,
 "nbformat_minor": 2
}
