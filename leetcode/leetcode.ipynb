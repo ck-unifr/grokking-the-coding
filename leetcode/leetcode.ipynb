{
 "cells": [
  {
   "cell_type": "code",
   "execution_count": null,
   "metadata": {},
   "outputs": [],
   "source": []
  },
  {
   "cell_type": "markdown",
   "metadata": {},
   "source": [
    "# 78. Subsets\n"
   ]
  },
  {
   "cell_type": "code",
   "execution_count": null,
   "metadata": {},
   "outputs": [
    {
     "data": {
      "text/plain": [
       "' \\nhttps://leetcode.cn/problems/subsets/description/\\nhttps://leetcode.com/problems/subsets/description/\\n\\n给你一个整数数组 nums ，数组中的元素 互不相同 。返回该数组所有可能的\\n子集\\n（幂集）。\\n\\n解集 不能 包含重复的子集。你可以按 任意顺序 返回解集。\\n\\n \\n\\n示例 1：\\n\\n输入：nums = [1,2,3]\\n输出：[[],[1],[2],[1,2],[3],[1,3],[2,3],[1,2,3]]\\n示例 2：\\n\\n输入：nums = [0]\\n输出：[[],[0]]\\n \\n\\n提示：\\n\\n1 <= nums.length <= 10\\n-10 <= nums[i] <= 10\\nnums 中的所有元素 互不相同\\n\\n'"
      ]
     },
     "execution_count": 2,
     "metadata": {},
     "output_type": "execute_result"
    }
   ],
   "source": [
    "\"\"\" \n",
    "https://leetcode.cn/problems/subsets/description/\n",
    "https://leetcode.com/problems/subsets/description/\n",
    "\n",
    "给你一个整数数组 nums ，数组中的元素 互不相同 。返回该数组所有可能的\n",
    "子集（幂集）。\n",
    "\n",
    "解集 不能 包含重复的子集。你可以按 任意顺序 返回解集。\n",
    "\n",
    "示例 1：\n",
    "\n",
    "输入：nums = [1,2,3]\n",
    "输出：[[],[1],[2],[1,2],[3],[1,3],[2,3],[1,2,3]]\n",
    "示例 2：\n",
    "\n",
    "输入：nums = [0]\n",
    "输出：[[],[0]]\n",
    " \n",
    "\n",
    "提示：\n",
    "\n",
    "1 <= nums.length <= 10\n",
    "-10 <= nums[i] <= 10\n",
    "nums 中的所有元素 互不相同\n",
    "\n",
    "\"\"\""
   ]
  },
  {
   "cell_type": "code",
   "execution_count": 3,
   "metadata": {},
   "outputs": [],
   "source": [
    "class Solution(object):\n",
    "    def subsets(self, nums):\n",
    "        combs = []\n",
    "        def dfs(comb, nums):\n",
    "            combs.append(comb)\n",
    "            for i, num in enumerate(nums):\n",
    "                dfs(comb+[num], nums[i+1:])\n",
    "            return \n",
    "        dfs([], nums)\n",
    "        return combs \n"
   ]
  },
  {
   "cell_type": "code",
   "execution_count": null,
   "metadata": {},
   "outputs": [],
   "source": [
    "from typing import List \n",
    "\n",
    "class Solution:\n",
    "    def subsets(self, nums: List[int]) -> List[List[int]]:\n",
    "        res = []\n",
    "        self.dfs([], nums, res)\n",
    "        return res\n",
    "    \n",
    "    def dfs(self, comb, nums, res):\n",
    "        res.append(comb)\n",
    "        for i in range(len(nums)):\n",
    "            self.dfs(comb+[nums[i]], nums[i+1:], res)\n",
    "                    \n"
   ]
  },
  {
   "cell_type": "code",
   "execution_count": null,
   "metadata": {},
   "outputs": [],
   "source": []
  },
  {
   "cell_type": "markdown",
   "metadata": {},
   "source": [
    "# 90. Subsets II"
   ]
  },
  {
   "cell_type": "code",
   "execution_count": null,
   "metadata": {},
   "outputs": [
    {
     "data": {
      "text/plain": [
       "' \\nhttps://leetcode.cn/problems/subsets-ii/description/\\nhttps://leetcode.com/problems/subsets-ii/description/\\n\\n给你一个整数数组 nums ，其中可能包含重复元素，请你返回该数组所有可能的 \\n子集\\n（幂集）。\\n\\n解集 不能 包含重复的子集。返回的解集中，子集可以按 任意顺序 排列。\\n \\n\\n示例 1：\\n\\n输入：nums = [1,2,2]\\n输出：[[],[1],[1,2],[1,2,2],[2],[2,2]]\\n示例 2：\\n\\n输入：nums = [0]\\n输出：[[],[0]]\\n \\n\\n提示：\\n\\n1 <= nums.length <= 10\\n-10 <= nums[i] <= 10\\n'"
      ]
     },
     "execution_count": 7,
     "metadata": {},
     "output_type": "execute_result"
    }
   ],
   "source": [
    "\"\"\" \n",
    "https://leetcode.cn/problems/subsets-ii/description/\n",
    "https://leetcode.com/problems/subsets-ii/description/\n",
    "\n",
    "给你一个整数数组 nums ，其中可能包含重复元素，请你返回该数组所有可能的 \n",
    "子集（幂集）。\n",
    "\n",
    "解集 不能 包含重复的子集。返回的解集中，子集可以按 任意顺序 排列。\n",
    " \n",
    "\n",
    "示例 1：\n",
    "\n",
    "输入：nums = [1,2,2]\n",
    "输出：[[],[1],[1,2],[1,2,2],[2],[2,2]]\n",
    "示例 2：\n",
    "\n",
    "输入：nums = [0]\n",
    "输出：[[],[0]]\n",
    " \n",
    "\n",
    "提示：\n",
    "\n",
    "1 <= nums.length <= 10\n",
    "-10 <= nums[i] <= 10\n",
    "\"\"\""
   ]
  },
  {
   "cell_type": "code",
   "execution_count": null,
   "metadata": {},
   "outputs": [],
   "source": [
    "class Solution:\n",
    "    def subsetsWithDup(self, nums: List[int]) -> List[List[int]]:\n",
    "        res = []\n",
    "        nums.sort()\n",
    "        self.dfs(nums, [], res)\n",
    "        return res\n",
    "    \n",
    "    def dfs(self, nums, comb, res):\n",
    "        res.append(comb)\n",
    "        for i in range(len(nums)):\n",
    "            if i > 0 and nums[i] == nums[i-1]:\n",
    "                continue\n",
    "            self.dfs(nums[i+1:], comb+[nums[i]], res)\n",
    "        return\n",
    "        "
   ]
  },
  {
   "cell_type": "code",
   "execution_count": null,
   "metadata": {},
   "outputs": [],
   "source": []
  },
  {
   "cell_type": "markdown",
   "metadata": {},
   "source": [
    "# 39. Combination Sum"
   ]
  },
  {
   "cell_type": "code",
   "execution_count": null,
   "metadata": {},
   "outputs": [],
   "source": [
    "\"\"\" \n",
    "https://leetcode.com/problems/combination-sum/description/\n",
    "\n",
    "Given an array of distinct integers candidates and a target integer target, \n",
    "return a list of all unique combinations of candidates where the chosen numbers sum to target. \n",
    "You may return the combinations in any order.\n",
    "\n",
    "The same number may be chosen from candidates an unlimited number of times. \n",
    "Two combinations are unique if the frequency of at least one of the chosen numbers is different.\n",
    "\n",
    "The test cases are generated such that the number of unique combinations \n",
    "that sum up to target is less than 150 combinations for the given input.\n",
    "\n",
    "\n",
    "Example 1:\n",
    "\n",
    "Input: candidates = [2,3,6,7], target = 7\n",
    "Output: [[2,2,3],[7]]\n",
    "Explanation:\n",
    "2 and 3 are candidates, and 2 + 2 + 3 = 7. Note that 2 can be used multiple times.\n",
    "7 is a candidate, and 7 = 7.\n",
    "These are the only two combinations.\n",
    "Example 2:\n",
    "\n",
    "Input: candidates = [2,3,5], target = 8\n",
    "Output: [[2,2,2,2],[2,3,3],[3,5]]\n",
    "Example 3:\n",
    "\n",
    "Input: candidates = [2], target = 1\n",
    "Output: []\n",
    " \n",
    "\n",
    "Constraints:\n",
    "\n",
    "1 <= candidates.length <= 30\n",
    "2 <= candidates[i] <= 40\n",
    "All elements of candidates are distinct.\n",
    "1 <= target <= 40\n",
    "\n",
    "\"\"\""
   ]
  },
  {
   "cell_type": "code",
   "execution_count": null,
   "metadata": {},
   "outputs": [],
   "source": [
    "class Solution(object):\n",
    "    def combinationSum(self, candidates, target):\n",
    "        \"\"\"\n",
    "        :type candidates: List[int]\n",
    "        :type target: int\n",
    "        :rtype: List[List[int]]\n",
    "        \"\"\"\n",
    "        res = []\n",
    "        candidates.sort()\n",
    "        self.dfs([], candidates, target, res)\n",
    "        return res\n",
    "    \n",
    "    def dfs(self, comb, candidates, target, res):\n",
    "        if sum(comb) == target:\n",
    "            res.append(comb)\n",
    "            return \n",
    "\n",
    "        for i in range(len(candidates)):\n",
    "            if comb and sum(comb) + candidates[i] > target:\n",
    "                return\n",
    "            self.dfs(comb+[candidates[i]], candidates[i:], target, res)\n",
    "        return\n",
    "\n"
   ]
  },
  {
   "cell_type": "code",
   "execution_count": 3,
   "metadata": {},
   "outputs": [
    {
     "name": "stdout",
     "output_type": "stream",
     "text": [
      "[[2, 2, 3], [7]]\n",
      "[[2, 2, 2, 2], [2, 3, 3], [3, 5]]\n",
      "[]\n"
     ]
    }
   ],
   "source": [
    "def combination_sum(candidates, target):\n",
    "    def backtrack(start, target, path):\n",
    "        # If target is zero, we found a valid combination\n",
    "        if target == 0:\n",
    "            result.append(path)\n",
    "            return\n",
    "        # Explore further candidates\n",
    "        for i in range(start, len(candidates)):\n",
    "            if candidates[i] > target:  # No need to continue if the current candidate exceeds the target\n",
    "                break\n",
    "            # Include candidates[i] and continue to explore with reduced target\n",
    "            backtrack(i, target - candidates[i], path + [candidates[i]])\n",
    "\n",
    "    candidates.sort()  # Sort to optimize the process\n",
    "    result = []\n",
    "    backtrack(0, target, [])\n",
    "    return result\n",
    "\n",
    "# Example usage:\n",
    "print(combination_sum([2, 3, 6, 7], 7))  # Output: [[2, 2, 3], [7]]\n",
    "print(combination_sum([2, 3, 5], 8))    # Output: [[2, 2, 2, 2], [2, 3, 3], [3, 5]]\n",
    "print(combination_sum([2], 1))          # Output: []\n"
   ]
  },
  {
   "cell_type": "code",
   "execution_count": 4,
   "metadata": {},
   "outputs": [
    {
     "data": {
      "text/plain": [
       "' \\nExplanation:\\nBacktracking function: The backtrack function is called recursively. At each level, we consider the current candidate (starting from the start index) and decide whether to:\\nAdd the current candidate to the path and continue with the updated target (allowing repetition).\\nSkip the current candidate if the sum exceeds the target.\\nBase case: When the remaining target becomes 0, we have found a valid combination, so we add it to the result.\\nSorting: Sorting helps us efficiently skip candidates that are too large to form a valid combination, and also helps prevent unnecessary exploration in certain cases.\\nExample Walkthrough:\\nExample 1:\\nInput: candidates = [2, 3, 6, 7], target = 7\\n\\nStart at candidates[0] = 2, subtract 2 from 7 → target becomes 5.\\nAgain, subtract 2 → target becomes 3.\\nSubtract 2 → target becomes 1.\\nSubtract 2 → target becomes -1, which is invalid.\\nBacktrack to previous state and try 3 (current candidate).\\nSubtract 3 → target becomes 0, which is valid. Record the combination [2, 2, 3].\\nTry 7 → target becomes 0, valid combination [7].\\nFinal result: [[2, 2, 3], [7]].\\nExample 2:\\nInput: candidates = [2, 3, 5], target = 8\\n\\nStart with 2: Subtract 2 → target becomes 6.\\nAgain, subtract 2 → target becomes 4.\\nSubtract 2 → target becomes 2.\\nSubtract 2 → target becomes 0, valid combination [2, 2, 2, 2].\\nBacktrack to 3: Subtract 3 → target becomes 3.\\nSubtract 3 → target becomes 0, valid combination [2, 3, 3].\\nTry 5 → target becomes 3, which is too large for further exploration.\\nFinal result: [[2, 2, 2, 2], [2, 3, 3], [3, 5]].\\nExample 3:\\nInput: candidates = [2], target = 1\\n\\nThe candidate 2 is greater than the target, so no valid combinations are possible.\\nFinal result: [].\\nTime Complexity:\\nO(2^n) in the worst case because we explore all possible combinations of the candidates. However, with pruning (due to sorting and early stopping), we typically visit fewer combinations.\\nSorting the candidates takes O(n log n) time.\\nSpace Complexity:\\nO(target / min(candidates)) for the recursion stack depth in the worst case (when the target is close to the sum of many small candidates).\\nThe result list will hold the valid combinations, so the space complexity can also be affected by the number of combinations found.\\nThis solution ensures that we efficiently find all unique combinations while allowing repeated use of the same number and avoiding unnecessary exploration through early pruning.\\n\\n'"
      ]
     },
     "execution_count": 4,
     "metadata": {},
     "output_type": "execute_result"
    }
   ],
   "source": [
    "\"\"\" \n",
    "Explanation:\n",
    "Backtracking function: The backtrack function is called recursively. At each level, we consider the current candidate (starting from the start index) and decide whether to:\n",
    "Add the current candidate to the path and continue with the updated target (allowing repetition).\n",
    "Skip the current candidate if the sum exceeds the target.\n",
    "Base case: When the remaining target becomes 0, we have found a valid combination, so we add it to the result.\n",
    "Sorting: Sorting helps us efficiently skip candidates that are too large to form a valid combination, and also helps prevent unnecessary exploration in certain cases.\n",
    "Example Walkthrough:\n",
    "Example 1:\n",
    "Input: candidates = [2, 3, 6, 7], target = 7\n",
    "\n",
    "Start at candidates[0] = 2, subtract 2 from 7 → target becomes 5.\n",
    "Again, subtract 2 → target becomes 3.\n",
    "Subtract 2 → target becomes 1.\n",
    "Subtract 2 → target becomes -1, which is invalid.\n",
    "Backtrack to previous state and try 3 (current candidate).\n",
    "Subtract 3 → target becomes 0, which is valid. Record the combination [2, 2, 3].\n",
    "Try 7 → target becomes 0, valid combination [7].\n",
    "Final result: [[2, 2, 3], [7]].\n",
    "Example 2:\n",
    "Input: candidates = [2, 3, 5], target = 8\n",
    "\n",
    "Start with 2: Subtract 2 → target becomes 6.\n",
    "Again, subtract 2 → target becomes 4.\n",
    "Subtract 2 → target becomes 2.\n",
    "Subtract 2 → target becomes 0, valid combination [2, 2, 2, 2].\n",
    "Backtrack to 3: Subtract 3 → target becomes 3.\n",
    "Subtract 3 → target becomes 0, valid combination [2, 3, 3].\n",
    "Try 5 → target becomes 3, which is too large for further exploration.\n",
    "Final result: [[2, 2, 2, 2], [2, 3, 3], [3, 5]].\n",
    "Example 3:\n",
    "Input: candidates = [2], target = 1\n",
    "\n",
    "The candidate 2 is greater than the target, so no valid combinations are possible.\n",
    "Final result: [].\n",
    "Time Complexity:\n",
    "O(2^n) in the worst case because we explore all possible combinations of the candidates. However, with pruning (due to sorting and early stopping), we typically visit fewer combinations.\n",
    "Sorting the candidates takes O(n log n) time.\n",
    "Space Complexity:\n",
    "O(target / min(candidates)) for the recursion stack depth in the worst case (when the target is close to the sum of many small candidates).\n",
    "The result list will hold the valid combinations, so the space complexity can also be affected by the number of combinations found.\n",
    "This solution ensures that we efficiently find all unique combinations while allowing repeated use of the same number and avoiding unnecessary exploration through early pruning.\n",
    "\n",
    "\"\"\""
   ]
  },
  {
   "cell_type": "code",
   "execution_count": null,
   "metadata": {},
   "outputs": [],
   "source": []
  },
  {
   "cell_type": "code",
   "execution_count": null,
   "metadata": {},
   "outputs": [],
   "source": []
  },
  {
   "cell_type": "markdown",
   "metadata": {},
   "source": [
    "# 207. Course Schedule"
   ]
  },
  {
   "cell_type": "code",
   "execution_count": null,
   "metadata": {},
   "outputs": [
    {
     "data": {
      "text/plain": [
       "' \\nhttps://leetcode.com/problems/course-schedule/description/\\n\\nThere are a total of numCourses courses you have to take, labeled from 0 to numCourses - 1. You are given an array prerequisites where prerequisites[i] = [ai, bi] indicates that you must take course bi first if you want to take course ai.\\n\\nFor example, the pair [0, 1], indicates that to take course 0 you have to first take course 1.\\nReturn true if you can finish all courses. Otherwise, return false.\\n\\n \\n\\nExample 1:\\n\\nInput: numCourses = 2, prerequisites = [[1,0]]\\nOutput: true\\nExplanation: There are a total of 2 courses to take. \\nTo take course 1 you should have finished course 0. So it is possible.\\nExample 2:\\n\\nInput: numCourses = 2, prerequisites = [[1,0],[0,1]]\\nOutput: false\\nExplanation: There are a total of 2 courses to take. \\nTo take course 1 you should have finished course 0, and to take course 0 you should also have finished course 1. So it is impossible.\\n \\n\\nConstraints:\\n\\n1 <= numCourses <= 2000\\n0 <= prerequisites.length <= 5000\\nprerequisites[i].length == 2\\n0 <= ai, bi < numCourses\\nAll the pairs prerequisites[i] are unique.\\n\\n'"
      ]
     },
     "execution_count": 7,
     "metadata": {},
     "output_type": "execute_result"
    }
   ],
   "source": [
    "\"\"\" \n",
    "https://leetcode.com/problems/course-schedule/description/\n",
    "\n",
    "There are a total of numCourses courses you have to take, labeled from 0 to numCourses - 1. You are given an array prerequisites where prerequisites[i] = [ai, bi] indicates that you must take course bi first if you want to take course ai.\n",
    "\n",
    "For example, the pair [0, 1], indicates that to take course 0 you have to first take course 1.\n",
    "Return true if you can finish all courses. Otherwise, return false.\n",
    "\n",
    "Example 1:\n",
    "\n",
    "Input: numCourses = 2, prerequisites = [[1,0]]\n",
    "Output: true\n",
    "Explanation: There are a total of 2 courses to take. \n",
    "To take course 1 you should have finished course 0. So it is possible.\n",
    "Example 2:\n",
    "\n",
    "Input: numCourses = 2, prerequisites = [[1,0],[0,1]]\n",
    "Output: false\n",
    "Explanation: There are a total of 2 courses to take. \n",
    "To take course 1 you should have finished course 0, and to take course 0 you should also have finished course 1. So it is impossible.\n",
    " \n",
    "\n",
    "Constraints:\n",
    "\n",
    "1 <= numCourses <= 2000\n",
    "0 <= prerequisites.length <= 5000\n",
    "prerequisites[i].length == 2\n",
    "0 <= ai, bi < numCourses\n",
    "All the pairs prerequisites[i] are unique.\n",
    "\n",
    "\"\"\""
   ]
  },
  {
   "cell_type": "code",
   "execution_count": 6,
   "metadata": {},
   "outputs": [],
   "source": [
    "import collections\n",
    "from typing import List \n",
    "\n",
    "\n",
    "class Solution:\n",
    "    def canFinish(self, numCourses: int, prerequisites: List[List[int]]) -> bool:\n",
    "        graph = collections.defaultdict(list)\n",
    "        indegrees = collections.defaultdict(int)\n",
    "        \n",
    "        for cur, prev in prerequisites:\n",
    "            graph[prev].append(cur) \n",
    "            indegrees[cur] += 1\n",
    "            \n",
    "        sources = [cours for cours in range(numCourses) if not indegrees[cours]]\n",
    "        order = set()\n",
    "        \n",
    "        while sources:\n",
    "            #for _ in range(len(sources)):\n",
    "            cours = sources.pop(0)\n",
    "            order.add(cours)\n",
    "            for child in graph[cours]:\n",
    "                indegrees[child] -= 1\n",
    "                if indegrees[child] == 0:\n",
    "                    sources.append(child)\n",
    "                    \n",
    "        return len(order) == numCourses\n",
    "        "
   ]
  },
  {
   "cell_type": "code",
   "execution_count": 8,
   "metadata": {},
   "outputs": [
    {
     "name": "stdout",
     "output_type": "stream",
     "text": [
      "True\n",
      "False\n"
     ]
    }
   ],
   "source": [
    "from collections import deque, defaultdict\n",
    "\n",
    "def canFinish(numCourses, prerequisites):\n",
    "    # Step 1: Build graph and in-degree array\n",
    "    graph = defaultdict(list)\n",
    "    in_degree = [0] * numCourses\n",
    "    \n",
    "    for course, pre in prerequisites:\n",
    "        graph[pre].append(course)\n",
    "        in_degree[course] += 1\n",
    "    \n",
    "    # Step 2: Initialize the queue with courses that have no prerequisites (in-degree 0)\n",
    "    queue = deque([i for i in range(numCourses) if in_degree[i] == 0])\n",
    "    \n",
    "    # Step 3: Process the graph\n",
    "    processed_courses = 0\n",
    "    while queue:\n",
    "        course = queue.popleft()\n",
    "        processed_courses += 1\n",
    "        \n",
    "        # For each course that depends on the current course, reduce their in-degree\n",
    "        for neighbor in graph[course]:\n",
    "            in_degree[neighbor] -= 1\n",
    "            if in_degree[neighbor] == 0:\n",
    "                queue.append(neighbor)\n",
    "    \n",
    "    # Step 4: If we've processed all courses, return True (no cycle)\n",
    "    return processed_courses == numCourses\n",
    "\n",
    "# Example usage:\n",
    "print(canFinish(2, [[1, 0]]))  # Output: True\n",
    "print(canFinish(2, [[1, 0], [0, 1]]))  # Output: False\n"
   ]
  },
  {
   "cell_type": "code",
   "execution_count": 9,
   "metadata": {},
   "outputs": [
    {
     "data": {
      "text/plain": [
       "\" \\nExplanation of Code:\\nGraph Construction:\\n\\nWe use a defaultdict(list) to store the adjacency list graph. For each prerequisite pair [ai, bi], we add course ai to the list of courses that depend on bi, and we increment the in-degree of ai because it depends on bi.\\nQueue Initialization:\\n\\nWe initialize a queue queue with all courses that have no prerequisites, i.e., courses with an in-degree of zero. These courses can be taken immediately.\\nTopological Sort:\\n\\nWe process the queue: for each course, we decrease the in-degree of its neighbors (courses that depend on it). If any neighbor's in-degree becomes zero, we add it to the queue to process it next.\\nWe keep track of the number of courses we’ve processed with processed_courses.\\nCycle Detection:\\n\\nIf, after processing, the number of processed courses is equal to numCourses, then there’s no cycle, and we can finish all courses.\\nIf the number of processed courses is less than numCourses, it means we encountered a cycle, and we return false.\\nTime Complexity:\\nO(V + E), where V is the number of courses (vertices), and E is the number of prerequisites (edges).\\nBuilding the graph takes O(E).\\nProcessing the nodes takes O(V), and for each node, we process its neighbors, which results in a total of O(E) for the entire graph.\\nSpace Complexity:\\nO(V + E) for storing the graph and the in-degree array:\\nThe graph uses O(E) space to store the adjacency list.\\nThe in-degree array uses O(V) space.\\nExample Walkthrough:\\nExample 1:\\nInput: numCourses = 2, prerequisites = [[1,0]]\\n\\nWe have two courses: 0 and 1.\\nCourse 1 depends on course 0, so we can finish course 1 after finishing course 0.\\nThe graph looks like this: 0 -> 1.\\nThe in-degree array is: [0, 1] (course 0 has no prerequisites, course 1 depends on 0).\\nStart with course 0 (in-degree 0).\\nProcess course 0, then course 1 (in-degree becomes 0).\\nAll courses are processed, so we return true.\\nExample 2:\\nInput: numCourses = 2, prerequisites = [[1,0], [0,1]]\\n\\nWe have two courses: 0 and 1.\\nCourse 1 depends on 0, and course 0 depends on 1, forming a cycle.\\nThe graph is: 0 -> 1 and 1 -> 0.\\nThe in-degree array is: [1, 1] (both courses depend on each other).\\nThere is no course with in-degree 0 to start processing, so we cannot finish all courses, and we return false.\\nConclusion:\\nThis approach uses Kahn’s Algorithm to efficiently detect cycles in a directed graph and determine if all courses can be completed.\\n\\n\""
      ]
     },
     "execution_count": 9,
     "metadata": {},
     "output_type": "execute_result"
    }
   ],
   "source": [
    "\"\"\" \n",
    "Explanation of Code:\n",
    "Graph Construction:\n",
    "\n",
    "We use a defaultdict(list) to store the adjacency list graph. For each prerequisite pair [ai, bi], we add course ai to the list of courses that depend on bi, and we increment the in-degree of ai because it depends on bi.\n",
    "Queue Initialization:\n",
    "\n",
    "We initialize a queue queue with all courses that have no prerequisites, i.e., courses with an in-degree of zero. These courses can be taken immediately.\n",
    "Topological Sort:\n",
    "\n",
    "We process the queue: for each course, we decrease the in-degree of its neighbors (courses that depend on it). If any neighbor's in-degree becomes zero, we add it to the queue to process it next.\n",
    "We keep track of the number of courses we’ve processed with processed_courses.\n",
    "Cycle Detection:\n",
    "\n",
    "If, after processing, the number of processed courses is equal to numCourses, then there’s no cycle, and we can finish all courses.\n",
    "If the number of processed courses is less than numCourses, it means we encountered a cycle, and we return false.\n",
    "Time Complexity:\n",
    "O(V + E), where V is the number of courses (vertices), and E is the number of prerequisites (edges).\n",
    "Building the graph takes O(E).\n",
    "Processing the nodes takes O(V), and for each node, we process its neighbors, which results in a total of O(E) for the entire graph.\n",
    "Space Complexity:\n",
    "O(V + E) for storing the graph and the in-degree array:\n",
    "The graph uses O(E) space to store the adjacency list.\n",
    "The in-degree array uses O(V) space.\n",
    "Example Walkthrough:\n",
    "Example 1:\n",
    "Input: numCourses = 2, prerequisites = [[1,0]]\n",
    "\n",
    "We have two courses: 0 and 1.\n",
    "Course 1 depends on course 0, so we can finish course 1 after finishing course 0.\n",
    "The graph looks like this: 0 -> 1.\n",
    "The in-degree array is: [0, 1] (course 0 has no prerequisites, course 1 depends on 0).\n",
    "Start with course 0 (in-degree 0).\n",
    "Process course 0, then course 1 (in-degree becomes 0).\n",
    "All courses are processed, so we return true.\n",
    "Example 2:\n",
    "Input: numCourses = 2, prerequisites = [[1,0], [0,1]]\n",
    "\n",
    "We have two courses: 0 and 1.\n",
    "Course 1 depends on 0, and course 0 depends on 1, forming a cycle.\n",
    "The graph is: 0 -> 1 and 1 -> 0.\n",
    "The in-degree array is: [1, 1] (both courses depend on each other).\n",
    "There is no course with in-degree 0 to start processing, so we cannot finish all courses, and we return false.\n",
    "Conclusion:\n",
    "This approach uses Kahn’s Algorithm to efficiently detect cycles in a directed graph and determine if all courses can be completed.\n",
    "\n",
    "\"\"\""
   ]
  },
  {
   "cell_type": "code",
   "execution_count": null,
   "metadata": {},
   "outputs": [],
   "source": []
  },
  {
   "cell_type": "code",
   "execution_count": null,
   "metadata": {},
   "outputs": [],
   "source": []
  },
  {
   "cell_type": "code",
   "execution_count": null,
   "metadata": {},
   "outputs": [],
   "source": []
  },
  {
   "cell_type": "code",
   "execution_count": null,
   "metadata": {},
   "outputs": [],
   "source": []
  },
  {
   "cell_type": "markdown",
   "metadata": {},
   "source": [
    "# 3. Longest Substring Without Repeating Characters\n"
   ]
  },
  {
   "cell_type": "code",
   "execution_count": null,
   "metadata": {},
   "outputs": [],
   "source": [
    "\"\"\" \n",
    "https://leetcode.com/problems/longest-substring-without-repeating-characters/description/\n",
    "\n",
    "Given a string s, find the length of the longest \n",
    "substring\n",
    " without repeating characters.\n",
    "\n",
    " \n",
    "\n",
    "Example 1:\n",
    "\n",
    "Input: s = \"abcabcbb\"\n",
    "Output: 3\n",
    "Explanation: The answer is \"abc\", with the length of 3.\n",
    "Example 2:\n",
    "\n",
    "Input: s = \"bbbbb\"\n",
    "Output: 1\n",
    "Explanation: The answer is \"b\", with the length of 1.\n",
    "Example 3:\n",
    "\n",
    "Input: s = \"pwwkew\"\n",
    "Output: 3\n",
    "Explanation: The answer is \"wke\", with the length of 3.\n",
    "Notice that the answer must be a substring, \"pwke\" is a subsequence and not a substring.\n",
    " \n",
    "\n",
    "Constraints:\n",
    "\n",
    "0 <= s.length <= 5 * 104\n",
    "s consists of English letters, digits, symbols and spaces.\n",
    "\n",
    "\"\"\""
   ]
  },
  {
   "cell_type": "code",
   "execution_count": 1,
   "metadata": {},
   "outputs": [],
   "source": [
    "class Solution(object):\n",
    "    def lengthOfLongestSubstring(self, s):\n",
    "        \"\"\"\n",
    "        :type s: str\n",
    "        :rtype: int\n",
    "        \"\"\"\n",
    "        left = right = 0\n",
    "        char_set = set()\n",
    "        max_len = 0\n",
    "        while right < len(s):\n",
    "            if s[right] not in char_set:\n",
    "                char_set.add(s[right])\n",
    "                max_len = max(right-left+1, max_len)\n",
    "                right += 1\n",
    "            else:\n",
    "                char_set.remove(s[left])\n",
    "                left += 1\n",
    "        return max_len\n",
    "\n",
    "        "
   ]
  },
  {
   "cell_type": "code",
   "execution_count": null,
   "metadata": {},
   "outputs": [],
   "source": []
  },
  {
   "cell_type": "markdown",
   "metadata": {},
   "source": [
    "# 11. Container With Most Water"
   ]
  },
  {
   "cell_type": "code",
   "execution_count": 11,
   "metadata": {},
   "outputs": [
    {
     "data": {
      "text/plain": [
       "' \\nhttps://leetcode.com/problems/container-with-most-water/description/\\n\\nYou are given an integer array height of length n. There are n vertical lines drawn such that the two endpoints of the ith line are (i, 0) and (i, height[i]).\\n\\nFind two lines that together with the x-axis form a container, such that the container contains the most water.\\n\\nReturn the maximum amount of water a container can store.\\n\\nNotice that you may not slant the container.\\n\\n'"
      ]
     },
     "execution_count": 11,
     "metadata": {},
     "output_type": "execute_result"
    }
   ],
   "source": [
    "\"\"\" \n",
    "https://leetcode.com/problems/container-with-most-water/description/\n",
    "\n",
    "You are given an integer array height of length n. There are n vertical lines drawn such that the two endpoints of the ith line are (i, 0) and (i, height[i]).\n",
    "\n",
    "Find two lines that together with the x-axis form a container, such that the container contains the most water.\n",
    "\n",
    "Return the maximum amount of water a container can store.\n",
    "\n",
    "Notice that you may not slant the container.\n",
    "\n",
    "\"\"\""
   ]
  },
  {
   "cell_type": "code",
   "execution_count": 12,
   "metadata": {},
   "outputs": [],
   "source": [
    "class Solution(object):\n",
    "    def maxArea(self, height):\n",
    "        \"\"\"\n",
    "        :type height: List[int]\n",
    "        :rtype: int\n",
    "        \"\"\"\n",
    "        max_area = 0\n",
    "        left, right = 0, len(height)-1\n",
    "        while left < right:\n",
    "            max_area = max(max_area, min(height[left], height[right])*(right-left))\n",
    "            if height[left] < height[right]:\n",
    "                left += 1\n",
    "            else:\n",
    "                right -= 1\n",
    "        return max_area\n",
    "    "
   ]
  },
  {
   "cell_type": "code",
   "execution_count": 13,
   "metadata": {},
   "outputs": [
    {
     "data": {
      "text/plain": [
       "' \\nExplanation:\\nTwo pointers: Start with left at index 0 and right at index n - 1. These two pointers will move towards each other to check all possible containers.\\nArea Calculation: For each pair of lines, compute the area using the formula mentioned earlier.\\nMax Area: Keep track of the maximum area found so far.\\nPointer Movement: Move the pointer pointing to the shorter line inward. This is because the area is limited by the shorter line, so we need to try to find a taller line by moving the pointer inward.\\nStop when left meets right: When left and right pointers meet, we have checked all possible pairs.\\nTime Complexity:\\nTime Complexity: O(n), where n is the length of the height array. This is because we only need to traverse the array once, moving the two pointers inward.\\nSpace Complexity: O(1), as we only use a constant amount of extra space for the pointers and variables.\\nExample Walkthrough:\\nFor the input height1 = [1, 8, 6, 2, 5, 4, 8, 3, 7]:\\n\\nStart with left = 0 and right = 8.\\nCalculate the area: min(1, 7) * (8 - 0) = 1 * 8 = 8. The maximum area so far is 8.\\nMove the pointer at left (since 1 is smaller than 7), now left = 1.\\nRepeat the process until the two pointers meet, updating the maximum area as needed.\\nFinal maximum area: 49 (from the lines at indices 1 and 8 with heights 8 and 7, respectively).\\n\\nThis approach efficiently finds the maximum area in linear time.\\n\\n'"
      ]
     },
     "execution_count": 13,
     "metadata": {},
     "output_type": "execute_result"
    }
   ],
   "source": [
    "\"\"\" \n",
    "Explanation:\n",
    "Two pointers: Start with left at index 0 and right at index n - 1. These two pointers will move towards each other to check all possible containers.\n",
    "Area Calculation: For each pair of lines, compute the area using the formula mentioned earlier.\n",
    "Max Area: Keep track of the maximum area found so far.\n",
    "Pointer Movement: Move the pointer pointing to the shorter line inward. This is because the area is limited by the shorter line, so we need to try to find a taller line by moving the pointer inward.\n",
    "Stop when left meets right: When left and right pointers meet, we have checked all possible pairs.\n",
    "Time Complexity:\n",
    "Time Complexity: O(n), where n is the length of the height array. This is because we only need to traverse the array once, moving the two pointers inward.\n",
    "Space Complexity: O(1), as we only use a constant amount of extra space for the pointers and variables.\n",
    "Example Walkthrough:\n",
    "For the input height1 = [1, 8, 6, 2, 5, 4, 8, 3, 7]:\n",
    "\n",
    "Start with left = 0 and right = 8.\n",
    "Calculate the area: min(1, 7) * (8 - 0) = 1 * 8 = 8. The maximum area so far is 8.\n",
    "Move the pointer at left (since 1 is smaller than 7), now left = 1.\n",
    "Repeat the process until the two pointers meet, updating the maximum area as needed.\n",
    "Final maximum area: 49 (from the lines at indices 1 and 8 with heights 8 and 7, respectively).\n",
    "\n",
    "This approach efficiently finds the maximum area in linear time.\n",
    "\n",
    "\"\"\""
   ]
  },
  {
   "cell_type": "code",
   "execution_count": null,
   "metadata": {},
   "outputs": [],
   "source": []
  },
  {
   "cell_type": "code",
   "execution_count": null,
   "metadata": {},
   "outputs": [],
   "source": []
  },
  {
   "cell_type": "markdown",
   "metadata": {},
   "source": [
    "# 121. Best Time to Buy and Sell Stock"
   ]
  },
  {
   "cell_type": "code",
   "execution_count": 14,
   "metadata": {},
   "outputs": [
    {
     "data": {
      "text/plain": [
       "' \\nhttps://leetcode.com/problems/best-time-to-buy-and-sell-stock/description/\\n\\nYou are given an array prices where prices[i] is the price of a given stock on the ith day.\\n\\nYou want to maximize your profit by choosing a single day to buy one stock and choosing a different day in the future to sell that stock.\\n\\nReturn the maximum profit you can achieve from this transaction. If you cannot achieve any profit, return 0.\\n\\n \\n\\nExample 1:\\n\\nInput: prices = [7,1,5,3,6,4]\\nOutput: 5\\nExplanation: Buy on day 2 (price = 1) and sell on day 5 (price = 6), profit = 6-1 = 5.\\nNote that buying on day 2 and selling on day 1 is not allowed because you must buy before you sell.\\nExample 2:\\n\\nInput: prices = [7,6,4,3,1]\\nOutput: 0\\nExplanation: In this case, no transactions are done and the max profit = 0.\\n \\n\\nConstraints:\\n\\n1 <= prices.length <= 105\\n0 <= prices[i] <= 104\\n\\n'"
      ]
     },
     "execution_count": 14,
     "metadata": {},
     "output_type": "execute_result"
    }
   ],
   "source": [
    "\"\"\" \n",
    "https://leetcode.com/problems/best-time-to-buy-and-sell-stock/description/\n",
    "\n",
    "You are given an array prices where prices[i] is the price of a given stock on the ith day.\n",
    "\n",
    "You want to maximize your profit by choosing a single day to buy one stock and choosing a different day in the future to sell that stock.\n",
    "\n",
    "Return the maximum profit you can achieve from this transaction. If you cannot achieve any profit, return 0.\n",
    "\n",
    " \n",
    "\n",
    "Example 1:\n",
    "\n",
    "Input: prices = [7,1,5,3,6,4]\n",
    "Output: 5\n",
    "Explanation: Buy on day 2 (price = 1) and sell on day 5 (price = 6), profit = 6-1 = 5.\n",
    "Note that buying on day 2 and selling on day 1 is not allowed because you must buy before you sell.\n",
    "Example 2:\n",
    "\n",
    "Input: prices = [7,6,4,3,1]\n",
    "Output: 0\n",
    "Explanation: In this case, no transactions are done and the max profit = 0.\n",
    " \n",
    "\n",
    "Constraints:\n",
    "\n",
    "1 <= prices.length <= 105\n",
    "0 <= prices[i] <= 104\n",
    "\n",
    "\"\"\""
   ]
  },
  {
   "cell_type": "code",
   "execution_count": 15,
   "metadata": {},
   "outputs": [],
   "source": [
    "class Solution(object):\n",
    "    def maxProfit(self, prices):\n",
    "        \"\"\"\n",
    "        :type prices: List[int]\n",
    "        :rtype: int\n",
    "        \"\"\"\n",
    "        max_profit = 0\n",
    "        min_price = float('inf')\n",
    "        for price in prices:\n",
    "            min_price = min(min_price, price)\n",
    "            max_profit = max(price - min_price, max_profit)\n",
    "        return max_profit\n",
    "            "
   ]
  },
  {
   "cell_type": "code",
   "execution_count": null,
   "metadata": {},
   "outputs": [],
   "source": []
  },
  {
   "cell_type": "markdown",
   "metadata": {},
   "source": [
    "# 122. Best Time to Buy and Sell Stock II\n"
   ]
  },
  {
   "cell_type": "code",
   "execution_count": null,
   "metadata": {},
   "outputs": [
    {
     "data": {
      "text/plain": [
       "' \\nhttps://leetcode.com/problems/best-time-to-buy-and-sell-stock-ii/description/\\n\\nYou are given an integer array prices where prices[i] is the price of a given stock on the ith day.\\n\\nOn each day, you may decide to buy and/or sell the stock. You can only hold at most one share of the stock at any time. However, you can buy it then immediately sell it on the same day.\\n\\nFind and return the maximum profit you can achieve.\\n\\n \\n\\nExample 1:\\n\\nInput: prices = [7,1,5,3,6,4]\\nOutput: 7\\nExplanation: Buy on day 2 (price = 1) and sell on day 3 (price = 5), profit = 5-1 = 4.\\nThen buy on day 4 (price = 3) and sell on day 5 (price = 6), profit = 6-3 = 3.\\nTotal profit is 4 + 3 = 7.\\nExample 2:\\n\\nInput: prices = [1,2,3,4,5]\\nOutput: 4\\nExplanation: Buy on day 1 (price = 1) and sell on day 5 (price = 5), profit = 5-1 = 4.\\nTotal profit is 4.\\nExample 3:\\n\\nInput: prices = [7,6,4,3,1]\\nOutput: 0\\nExplanation: There is no way to make a positive profit, so we never buy the stock to achieve the maximum profit of 0.\\n \\n\\nConstraints:\\n\\n1 <= prices.length <= 3 * 104\\n0 <= prices[i] <= 104\\n\\n'"
      ]
     },
     "execution_count": 16,
     "metadata": {},
     "output_type": "execute_result"
    }
   ],
   "source": [
    "\"\"\" \n",
    "https://leetcode.com/problems/best-time-to-buy-and-sell-stock-ii/description/\n",
    "\n",
    "You are given an integer array prices where prices[i] is the price of a given stock on the ith day.\n",
    "\n",
    "On each day, you may decide to buy and/or sell the stock. \n",
    "You can only hold at most one share of the stock at any time. \n",
    "However, you can buy it then immediately sell it on the same day.\n",
    "\n",
    "Find and return the maximum profit you can achieve.\n",
    "\n",
    "Example 1:\n",
    "\n",
    "Input: prices = [7,1,5,3,6,4]\n",
    "Output: 7\n",
    "Explanation: Buy on day 2 (price = 1) and sell on day 3 (price = 5), profit = 5-1 = 4.\n",
    "Then buy on day 4 (price = 3) and sell on day 5 (price = 6), profit = 6-3 = 3.\n",
    "Total profit is 4 + 3 = 7.\n",
    "Example 2:\n",
    "\n",
    "Input: prices = [1,2,3,4,5]\n",
    "Output: 4\n",
    "Explanation: Buy on day 1 (price = 1) and sell on day 5 (price = 5), profit = 5-1 = 4.\n",
    "Total profit is 4.\n",
    "Example 3:\n",
    "\n",
    "Input: prices = [7,6,4,3,1]\n",
    "Output: 0\n",
    "Explanation: There is no way to make a positive profit, \n",
    "so we never buy the stock to achieve the maximum profit of 0.\n",
    " \n",
    "Constraints:\n",
    "\n",
    "1 <= prices.length <= 3 * 104\n",
    "0 <= prices[i] <= 104\n",
    "\n",
    "\"\"\""
   ]
  },
  {
   "cell_type": "code",
   "execution_count": 17,
   "metadata": {},
   "outputs": [],
   "source": [
    "class Solution(object):\n",
    "    def maxProfit(self, prices):\n",
    "        \"\"\"\n",
    "        :type prices: List[int]\n",
    "        :rtype: int\n",
    "        \"\"\"\n",
    "        max_profit = 0\n",
    "        for i in range(1, len(prices)):\n",
    "            diff = prices[i] - prices[i-1]\n",
    "            if diff > 0:\n",
    "                max_profit += diff \n",
    "        return max_profit\n",
    "    "
   ]
  },
  {
   "cell_type": "code",
   "execution_count": null,
   "metadata": {},
   "outputs": [],
   "source": []
  },
  {
   "cell_type": "markdown",
   "metadata": {},
   "source": [
    "# 680. Valid Palindrome II"
   ]
  },
  {
   "cell_type": "code",
   "execution_count": 19,
   "metadata": {},
   "outputs": [
    {
     "data": {
      "text/plain": [
       "' \\nhttps://leetcode.com/problems/valid-palindrome-ii/description/\\n\\nGiven a string s, return true if the s can be palindrome after deleting at most one character from it.\\n\\n\\nExample 1:\\n\\nInput: s = \"aba\"\\nOutput: true\\nExample 2:\\n\\nInput: s = \"abca\"\\nOutput: true\\nExplanation: You could delete the character \\'c\\'.\\nExample 3:\\n\\nInput: s = \"abc\"\\nOutput: false\\n \\n\\nConstraints:\\n\\n1 <= s.length <= 105\\ns consists of lowercase English letters.\\n\\n'"
      ]
     },
     "execution_count": 19,
     "metadata": {},
     "output_type": "execute_result"
    }
   ],
   "source": [
    "\"\"\" \n",
    "https://leetcode.com/problems/valid-palindrome-ii/description/\n",
    "\n",
    "Given a string s, return true if the s can be palindrome after deleting at most one character from it.\n",
    "\n",
    "\n",
    "Example 1:\n",
    "\n",
    "Input: s = \"aba\"\n",
    "Output: true\n",
    "Example 2:\n",
    "\n",
    "Input: s = \"abca\"\n",
    "Output: true\n",
    "Explanation: You could delete the character 'c'.\n",
    "Example 3:\n",
    "\n",
    "Input: s = \"abc\"\n",
    "Output: false\n",
    " \n",
    "\n",
    "Constraints:\n",
    "\n",
    "1 <= s.length <= 105\n",
    "s consists of lowercase English letters.\n",
    "\n",
    "\"\"\""
   ]
  },
  {
   "cell_type": "code",
   "execution_count": 20,
   "metadata": {},
   "outputs": [],
   "source": [
    "class Solution(object):\n",
    "    def validPalindrome(self, s):\n",
    "        \"\"\"\n",
    "        :type s: str\n",
    "        :rtype: bool\n",
    "        \"\"\"\n",
    "        is_panlin = lambda x:x==x[::-1]\n",
    "        left, right = 0, len(s)-1\n",
    "        while left <= right:\n",
    "            if s[left] == s[right]:\n",
    "                left += 1\n",
    "                right -= 1\n",
    "            else:\n",
    "                return is_panlin(s[left+1:right+1]) or is_panlin(s[left:right])\n",
    "        return True\n",
    "    "
   ]
  },
  {
   "cell_type": "code",
   "execution_count": null,
   "metadata": {},
   "outputs": [],
   "source": []
  },
  {
   "cell_type": "markdown",
   "metadata": {},
   "source": [
    "# 125. Valid Palindrome"
   ]
  },
  {
   "cell_type": "code",
   "execution_count": null,
   "metadata": {},
   "outputs": [
    {
     "data": {
      "text/plain": [
       "' \\nhttps://leetcode.com/problems/valid-palindrome/description/\\n\\nA phrase is a palindrome if, after converting all uppercase letters into lowercase letters and removing all non-alphanumeric characters, it reads the same forward and backward. Alphanumeric characters include letters and numbers.\\n\\nGiven a string s, return true if it is a palindrome, or false otherwise.\\n\\n \\n\\nExample 1:\\n\\nInput: s = \"A man, a plan, a canal: Panama\"\\nOutput: true\\nExplanation: \"amanaplanacanalpanama\" is a palindrome.\\nExample 2:\\n\\nInput: s = \"race a car\"\\nOutput: false\\nExplanation: \"raceacar\" is not a palindrome.\\nExample 3:\\n\\nInput: s = \" \"\\nOutput: true\\nExplanation: s is an empty string \"\" after removing non-alphanumeric characters.\\nSince an empty string reads the same forward and backward, it is a palindrome.\\n \\n\\nConstraints:\\n\\n1 <= s.length <= 2 * 105\\ns consists only of printable ASCII characters.\\n\\n'"
      ]
     },
     "execution_count": 22,
     "metadata": {},
     "output_type": "execute_result"
    }
   ],
   "source": [
    "\"\"\" \n",
    "https://leetcode.com/problems/valid-palindrome/description/\n",
    "\n",
    "A phrase is a palindrome if, after converting all uppercase letters into lowercase letters \n",
    "and removing all non-alphanumeric characters, it reads the same forward and backward. \n",
    "Alphanumeric characters include letters and numbers.\n",
    "\n",
    "Given a string s, return true if it is a palindrome, or false otherwise.\n",
    "\n",
    " \n",
    "\n",
    "Example 1:\n",
    "\n",
    "Input: s = \"A man, a plan, a canal: Panama\"\n",
    "Output: true\n",
    "Explanation: \"amanaplanacanalpanama\" is a palindrome.\n",
    "Example 2:\n",
    "\n",
    "Input: s = \"race a car\"\n",
    "Output: false\n",
    "Explanation: \"raceacar\" is not a palindrome.\n",
    "Example 3:\n",
    "\n",
    "Input: s = \" \"\n",
    "Output: true\n",
    "Explanation: s is an empty string \"\" after removing non-alphanumeric characters.\n",
    "Since an empty string reads the same forward and backward, it is a palindrome.\n",
    " \n",
    "\n",
    "Constraints:\n",
    "\n",
    "1 <= s.length <= 2 * 105\n",
    "s consists only of printable ASCII characters.\n",
    "\n",
    "\"\"\""
   ]
  },
  {
   "cell_type": "code",
   "execution_count": 23,
   "metadata": {},
   "outputs": [],
   "source": [
    "class Solution:\n",
    "    def isPalindrome(self, s: str) -> bool:\n",
    "        s_lower = s.lower()\n",
    "        left = 0\n",
    "        right = len(s_lower) - 1\n",
    "        while left < right:\n",
    "            if not s_lower[left].isalpha() and not s_lower[left].isdigit():\n",
    "                left += 1\n",
    "            elif not s_lower[right].isalpha() and not s_lower[right].isdigit():\n",
    "                right -= 1\n",
    "            elif s_lower[left] != s_lower[right]:\n",
    "                return False\n",
    "            else:\n",
    "                left += 1\n",
    "                right -= 1\n",
    "        return True\n",
    "        "
   ]
  },
  {
   "cell_type": "code",
   "execution_count": null,
   "metadata": {},
   "outputs": [],
   "source": []
  },
  {
   "cell_type": "markdown",
   "metadata": {},
   "source": [
    "# 131. Palindrome Partitioning"
   ]
  },
  {
   "cell_type": "code",
   "execution_count": 30,
   "metadata": {},
   "outputs": [
    {
     "data": {
      "text/plain": [
       "' \\nGiven a string s, partition s such that every \\nsubstring of the partition is a palindrome. \\nReturn all possible palindrome partitioning of s.\\n\\nExample 1:\\n\\nInput: s = \"aab\"\\nOutput: [[\"a\",\"a\",\"b\"],[\"aa\",\"b\"]]\\nExample 2:\\n\\nInput: s = \"a\"\\nOutput: [[\"a\"]]\\n \\n\\nConstraints:\\n\\n1 <= s.length <= 16\\ns contains only lowercase English letters.\\n'"
      ]
     },
     "execution_count": 30,
     "metadata": {},
     "output_type": "execute_result"
    }
   ],
   "source": [
    "\"\"\" \n",
    "Given a string s, partition s such that every \n",
    "substring of the partition is a palindrome. \n",
    "Return all possible palindrome partitioning of s.\n",
    "\n",
    "Example 1:\n",
    "\n",
    "Input: s = \"aab\"\n",
    "Output: [[\"a\",\"a\",\"b\"],[\"aa\",\"b\"]]\n",
    "Example 2:\n",
    "\n",
    "Input: s = \"a\"\n",
    "Output: [[\"a\"]]\n",
    " \n",
    "\n",
    "Constraints:\n",
    "\n",
    "1 <= s.length <= 16\n",
    "s contains only lowercase English letters.\n",
    "\"\"\""
   ]
  },
  {
   "cell_type": "code",
   "execution_count": 31,
   "metadata": {},
   "outputs": [],
   "source": [
    "class Solution(object):\n",
    "    def partition(self, s):\n",
    "        \"\"\"\n",
    "        :type s: str\n",
    "        :rtype: List[List[str]]\n",
    "        \"\"\"\n",
    "        res = []\n",
    "        self.dfs(s, [], res)\n",
    "        return res\n",
    "    \n",
    "    def dfs(self, s, path, res):\n",
    "        if not s:\n",
    "            res.append(path)\n",
    "            return\n",
    "        for i in range(1, len(s)+1):\n",
    "            if self.is_palindrome(s[:i]):\n",
    "                self.dfs(s[i:], path+[s[:i]], res)\n",
    "        return \n",
    "    \n",
    "    def is_palindrome(self, s):\n",
    "        return s == s[::-1]\n",
    "    "
   ]
  },
  {
   "cell_type": "code",
   "execution_count": null,
   "metadata": {},
   "outputs": [],
   "source": []
  },
  {
   "cell_type": "markdown",
   "metadata": {},
   "source": [
    "# 953. Verifying an Alien Dictionary"
   ]
  },
  {
   "cell_type": "code",
   "execution_count": 24,
   "metadata": {},
   "outputs": [
    {
     "data": {
      "text/plain": [
       "' \\nhttps://leetcode.com/problems/verifying-an-alien-dictionary/description/\\n\\nIn an alien language, surprisingly, they also use English lowercase letters, but possibly in a different order. The order of the alphabet is some permutation of lowercase letters.\\n\\nGiven a sequence of words written in the alien language, and the order of the alphabet, return true if and only if the given words are sorted lexicographically in this alien language.\\n\\n \\n\\nExample 1:\\n\\nInput: words = [\"hello\",\"leetcode\"], order = \"hlabcdefgijkmnopqrstuvwxyz\"\\nOutput: true\\nExplanation: As \\'h\\' comes before \\'l\\' in this language, then the sequence is sorted.\\nExample 2:\\n\\nInput: words = [\"word\",\"world\",\"row\"], order = \"worldabcefghijkmnpqstuvxyz\"\\nOutput: false\\nExplanation: As \\'d\\' comes after \\'l\\' in this language, then words[0] > words[1], hence the sequence is unsorted.\\nExample 3:\\n\\nInput: words = [\"apple\",\"app\"], order = \"abcdefghijklmnopqrstuvwxyz\"\\nOutput: false\\nExplanation: The first three characters \"app\" match, and the second string is shorter (in size.) According to lexicographical rules \"apple\" > \"app\", because \\'l\\' > \\'∅\\', where \\'∅\\' is defined as the blank character which is less than any other character (More info).\\n \\n\\nConstraints:\\n\\n1 <= words.length <= 100\\n1 <= words[i].length <= 20\\norder.length == 26\\nAll characters in words[i] and order are English lowercase letters.\\n\\n'"
      ]
     },
     "execution_count": 24,
     "metadata": {},
     "output_type": "execute_result"
    }
   ],
   "source": [
    "\"\"\" \n",
    "https://leetcode.com/problems/verifying-an-alien-dictionary/description/\n",
    "\n",
    "In an alien language, surprisingly, they also use English lowercase letters, but possibly in a different order. The order of the alphabet is some permutation of lowercase letters.\n",
    "\n",
    "Given a sequence of words written in the alien language, and the order of the alphabet, return true if and only if the given words are sorted lexicographically in this alien language.\n",
    "\n",
    " \n",
    "\n",
    "Example 1:\n",
    "\n",
    "Input: words = [\"hello\",\"leetcode\"], order = \"hlabcdefgijkmnopqrstuvwxyz\"\n",
    "Output: true\n",
    "Explanation: As 'h' comes before 'l' in this language, then the sequence is sorted.\n",
    "Example 2:\n",
    "\n",
    "Input: words = [\"word\",\"world\",\"row\"], order = \"worldabcefghijkmnpqstuvxyz\"\n",
    "Output: false\n",
    "Explanation: As 'd' comes after 'l' in this language, then words[0] > words[1], hence the sequence is unsorted.\n",
    "Example 3:\n",
    "\n",
    "Input: words = [\"apple\",\"app\"], order = \"abcdefghijklmnopqrstuvwxyz\"\n",
    "Output: false\n",
    "Explanation: The first three characters \"app\" match, and the second string is shorter (in size.) According to lexicographical rules \"apple\" > \"app\", because 'l' > '∅', where '∅' is defined as the blank character which is less than any other character (More info).\n",
    " \n",
    "\n",
    "Constraints:\n",
    "\n",
    "1 <= words.length <= 100\n",
    "1 <= words[i].length <= 20\n",
    "order.length == 26\n",
    "All characters in words[i] and order are English lowercase letters.\n",
    "\n",
    "\"\"\""
   ]
  },
  {
   "cell_type": "code",
   "execution_count": 25,
   "metadata": {},
   "outputs": [
    {
     "name": "stdout",
     "output_type": "stream",
     "text": [
      "True\n",
      "False\n",
      "False\n"
     ]
    }
   ],
   "source": [
    "def isAlienSorted(words, order):\n",
    "    # Create a dictionary to map each character to its position in the alien alphabet\n",
    "    order_map = {char: idx for idx, char in enumerate(order)}\n",
    "    \n",
    "    # Function to compare two words\n",
    "    def compare(word1, word2):\n",
    "        # Compare character by character\n",
    "        for c1, c2 in zip(word1, word2):\n",
    "            if order_map[c1] < order_map[c2]:\n",
    "                return True\n",
    "            elif order_map[c1] > order_map[c2]:\n",
    "                return False\n",
    "        # If all characters are the same in the first min length, the shorter word is smaller\n",
    "        return len(word1) <= len(word2)\n",
    "\n",
    "    # Check if every word is in order with the next word\n",
    "    for i in range(1, len(words)):\n",
    "        if not compare(words[i - 1], words[i]):\n",
    "            return False\n",
    "    return True\n",
    "\n",
    "# Example test cases\n",
    "print(isAlienSorted([\"hello\", \"leetcode\"], \"hlabcdefgijkmnopqrstuvwxyz\"))  # Output: True\n",
    "print(isAlienSorted([\"word\", \"world\", \"row\"], \"worldabcefghijkmnpqstuvxyz\"))  # Output: False\n",
    "print(isAlienSorted([\"apple\", \"app\"], \"abcdefghijklmnopqrstuvwxyz\"))  # Output: False\n",
    "\n"
   ]
  },
  {
   "cell_type": "code",
   "execution_count": 26,
   "metadata": {},
   "outputs": [
    {
     "data": {
      "text/plain": [
       "' \\n\\nExplanation:\\norder_map: A dictionary that maps each character to its index in the order string. For example, if order = \"hlabcdefgijkmnopqrstuvwxyz\", then \\'h\\' -> 0, \\'l\\' -> 1, and so on.\\n\\ncompare function: This compares two words character by character:\\n\\nIf a character in word1 is smaller than the corresponding character in word2 (using the alien order), the first word is considered smaller, and the function returns True.\\nIf a character in word1 is larger, the first word is considered larger, and the function returns False.\\nIf all characters are the same up to the length of the shorter word, the shorter word is considered lexicographically smaller, which is why we return len(word1) <= len(word2).\\nMain Loop: We loop over the list of words and compare each pair of consecutive words using the compare function. If any pair is found to be out of order, we return False. Otherwise, we return True.\\n\\nTime Complexity:\\nTime Complexity: O(N * M) where N is the number of words and M is the average length of the words. This is because for each pair of words, we compare their characters (which takes O(M) time), and we do this N-1 times.\\n\\nSpace Complexity: O(1) (ignoring the input size), since the order_map dictionary stores 26 key-value pairs, which is constant space.\\n\\nExample Walkthrough:\\nTest Case 1: words = [\"hello\", \"leetcode\"], order = \"hlabcdefgijkmnopqrstuvwxyz\"\\nThe order of characters is: \\'h\\' < \\'l\\' < \\'a\\' < \\'b\\' ...\\nThe first word is \"hello\", and the second word is \"leetcode\".\\nComparing \\'h\\' and \\'l\\', we find \\'h\\' comes before \\'l\\' in the alien order, so the words are sorted.\\nResult: True.\\nTest Case 2: words = [\"word\", \"world\", \"row\"], order = \"worldabcefghijkmnpqstuvxyz\"\\nThe first pair is \"word\" and \"world\".\\nComparing \\'d\\' and \\'l\\', we find \\'d\\' comes after \\'l\\', so the words are not sorted.\\nResult: False.\\nTest Case 3: words = [\"apple\", \"app\"], order = \"abcdefghijklmnopqrstuvwxyz\"\\nThe first word is \"apple\", and the second word is \"app\".\\nThe first three characters \"app\" match, but the second word is shorter. According to lexicographical rules, \"apple\" is greater than \"app\" because \\'l\\' > \\'\\' (empty character).\\nResult: False.\\n\\n'"
      ]
     },
     "execution_count": 26,
     "metadata": {},
     "output_type": "execute_result"
    }
   ],
   "source": [
    "\"\"\" \n",
    "\n",
    "Explanation:\n",
    "order_map: A dictionary that maps each character to its index in the order string. For example, if order = \"hlabcdefgijkmnopqrstuvwxyz\", then 'h' -> 0, 'l' -> 1, and so on.\n",
    "\n",
    "compare function: This compares two words character by character:\n",
    "\n",
    "If a character in word1 is smaller than the corresponding character in word2 (using the alien order), the first word is considered smaller, and the function returns True.\n",
    "If a character in word1 is larger, the first word is considered larger, and the function returns False.\n",
    "If all characters are the same up to the length of the shorter word, the shorter word is considered lexicographically smaller, which is why we return len(word1) <= len(word2).\n",
    "Main Loop: We loop over the list of words and compare each pair of consecutive words using the compare function. If any pair is found to be out of order, we return False. Otherwise, we return True.\n",
    "\n",
    "Time Complexity:\n",
    "Time Complexity: O(N * M) where N is the number of words and M is the average length of the words. This is because for each pair of words, we compare their characters (which takes O(M) time), and we do this N-1 times.\n",
    "\n",
    "Space Complexity: O(1) (ignoring the input size), since the order_map dictionary stores 26 key-value pairs, which is constant space.\n",
    "\n",
    "Example Walkthrough:\n",
    "Test Case 1: words = [\"hello\", \"leetcode\"], order = \"hlabcdefgijkmnopqrstuvwxyz\"\n",
    "The order of characters is: 'h' < 'l' < 'a' < 'b' ...\n",
    "The first word is \"hello\", and the second word is \"leetcode\".\n",
    "Comparing 'h' and 'l', we find 'h' comes before 'l' in the alien order, so the words are sorted.\n",
    "Result: True.\n",
    "Test Case 2: words = [\"word\", \"world\", \"row\"], order = \"worldabcefghijkmnpqstuvxyz\"\n",
    "The first pair is \"word\" and \"world\".\n",
    "Comparing 'd' and 'l', we find 'd' comes after 'l', so the words are not sorted.\n",
    "Result: False.\n",
    "Test Case 3: words = [\"apple\", \"app\"], order = \"abcdefghijklmnopqrstuvwxyz\"\n",
    "The first word is \"apple\", and the second word is \"app\".\n",
    "The first three characters \"app\" match, but the second word is shorter. According to lexicographical rules, \"apple\" is greater than \"app\" because 'l' > '' (empty character).\n",
    "Result: False.\n",
    "\n",
    "\"\"\""
   ]
  },
  {
   "cell_type": "code",
   "execution_count": null,
   "metadata": {},
   "outputs": [],
   "source": []
  },
  {
   "cell_type": "markdown",
   "metadata": {},
   "source": [
    "# Alien Dictionary (hard).py"
   ]
  },
  {
   "cell_type": "code",
   "execution_count": 27,
   "metadata": {},
   "outputs": [
    {
     "data": {
      "text/plain": [
       "' \\n16. Pattern Topological Sort (Graph)/Alien Dictionary (hard).py\\n\\nhttps://github.com/josephhlwang/GrokkingCoding/blob/main/16.%20Pattern%20Topological%20Sort%20(Graph)/Alien%20Dictionary%20(hard).py\\n\\nProblem Statement \\nThere is a dictionary containing words from an alien language for which we don’t know the ordering of the characters. Write a method to find the correct order of characters in the alien language.\\n\\nExample 1:\\n\\nInput: Words: [\"ba\", \"bc\", \"ac\", \"cab\"]\\nOutput: bac\\nExplanation: Given that the words are sorted lexicographically by the rules of the alien language, so\\nfrom the given words we can conclude the following ordering among its characters:\\n \\n1. From \"ba\" and \"bc\", we can conclude that \\'a\\' comes before \\'c\\'.\\n2. From \"bc\" and \"ac\", we can conclude that \\'b\\' comes before \\'a\\'\\n \\nFrom the above two points, we can conclude that the correct character order is: \"bac\"\\n\\nExample 2:\\n\\nInput: Words: [\"cab\", \"aaa\", \"aab\"]\\nOutput: cab\\nExplanation: From the given words we can conclude the following ordering among its characters:\\n \\n1. From \"cab\" and \"aaa\", we can conclude that \\'c\\' comes before \\'a\\'.\\n2. From \"aaa\" and \"aab\", we can conclude that \\'a\\' comes before \\'b\\'\\n \\nFrom the above two points, we can conclude that the correct character order is: \"cab\"\\n\\nExample 3:\\n\\nInput: Words: [\"ywx\", \"wz\", \"xww\", \"xz\", \"zyy\", \"zwz\"]\\nOutput: ywxz\\nExplanation: From the given words we can conclude the following ordering among its characters:\\n \\n1. From \"ywx\" and \"wz\", we can conclude that \\'y\\' comes before \\'w\\'.\\n2. From \"wz\" and \"xww\", we can conclude that \\'w\\' comes before \\'x\\'.\\n3. From \"xww\" and \"xz\", we can conclude that \\'w\\' comes before \\'z\\'\\n4. From \"xz\" and \"zyy\", we can conclude that \\'x\\' comes before \\'z\\'\\n5. From \"zyy\" and \"zwz\", we can conclude that \\'y\\' comes before \\'w\\'\\n \\nFrom the above five points, we can conclude that the correct character order is: \"ywxz\"\\n'"
      ]
     },
     "execution_count": 27,
     "metadata": {},
     "output_type": "execute_result"
    }
   ],
   "source": [
    "\"\"\" \n",
    "16. Pattern Topological Sort (Graph)/Alien Dictionary (hard).py\n",
    "\n",
    "https://github.com/josephhlwang/GrokkingCoding/blob/main/16.%20Pattern%20Topological%20Sort%20(Graph)/Alien%20Dictionary%20(hard).py\n",
    "\n",
    "Problem Statement \n",
    "There is a dictionary containing words from an alien language for which we don’t know the ordering of the characters. Write a method to find the correct order of characters in the alien language.\n",
    "\n",
    "Example 1:\n",
    "\n",
    "Input: Words: [\"ba\", \"bc\", \"ac\", \"cab\"]\n",
    "Output: bac\n",
    "Explanation: Given that the words are sorted lexicographically by the rules of the alien language, so\n",
    "from the given words we can conclude the following ordering among its characters:\n",
    " \n",
    "1. From \"ba\" and \"bc\", we can conclude that 'a' comes before 'c'.\n",
    "2. From \"bc\" and \"ac\", we can conclude that 'b' comes before 'a'\n",
    " \n",
    "From the above two points, we can conclude that the correct character order is: \"bac\"\n",
    "\n",
    "Example 2:\n",
    "\n",
    "Input: Words: [\"cab\", \"aaa\", \"aab\"]\n",
    "Output: cab\n",
    "Explanation: From the given words we can conclude the following ordering among its characters:\n",
    " \n",
    "1. From \"cab\" and \"aaa\", we can conclude that 'c' comes before 'a'.\n",
    "2. From \"aaa\" and \"aab\", we can conclude that 'a' comes before 'b'\n",
    " \n",
    "From the above two points, we can conclude that the correct character order is: \"cab\"\n",
    "\n",
    "Example 3:\n",
    "\n",
    "Input: Words: [\"ywx\", \"wz\", \"xww\", \"xz\", \"zyy\", \"zwz\"]\n",
    "Output: ywxz\n",
    "Explanation: From the given words we can conclude the following ordering among its characters:\n",
    " \n",
    "1. From \"ywx\" and \"wz\", we can conclude that 'y' comes before 'w'.\n",
    "2. From \"wz\" and \"xww\", we can conclude that 'w' comes before 'x'.\n",
    "3. From \"xww\" and \"xz\", we can conclude that 'w' comes before 'z'\n",
    "4. From \"xz\" and \"zyy\", we can conclude that 'x' comes before 'z'\n",
    "5. From \"zyy\" and \"zwz\", we can conclude that 'y' comes before 'w'\n",
    " \n",
    "From the above five points, we can conclude that the correct character order is: \"ywxz\"\n",
    "\"\"\"\n"
   ]
  },
  {
   "cell_type": "code",
   "execution_count": 28,
   "metadata": {},
   "outputs": [
    {
     "name": "stdout",
     "output_type": "stream",
     "text": [
      "bac\n",
      "cab\n",
      "ywxz\n"
     ]
    }
   ],
   "source": [
    "from collections import defaultdict, deque\n",
    "\n",
    "def alien_order(words):\n",
    "    # Step 1: Build the graph and in-degree array\n",
    "    graph = defaultdict(set)\n",
    "    in_degree = defaultdict(int)\n",
    "    all_chars = set()\n",
    "    \n",
    "    # Initialize in-degree for all characters to 0\n",
    "    for word in words:\n",
    "        for char in word:\n",
    "            all_chars.add(char)\n",
    "            in_degree[char] = 0\n",
    "    \n",
    "    # Step 2: Compare consecutive words to build the graph\n",
    "    for i in range(len(words) - 1):\n",
    "        word1, word2 = words[i], words[i + 1]\n",
    "        \n",
    "        # Find the first different character\n",
    "        for j in range(min(len(word1), len(word2))):\n",
    "            if word1[j] != word2[j]:\n",
    "                # Add an edge from word1[j] -> word2[j]\n",
    "                if word2[j] not in graph[word1[j]]:\n",
    "                    graph[word1[j]].add(word2[j])\n",
    "                    in_degree[word2[j]] += 1\n",
    "                break\n",
    "    \n",
    "    # Step 3: Perform topological sort using Kahn's Algorithm (BFS)\n",
    "    queue = deque([char for char in all_chars if in_degree[char] == 0])\n",
    "    result = []\n",
    "    \n",
    "    while queue:\n",
    "        char = queue.popleft()\n",
    "        result.append(char)\n",
    "        \n",
    "        # Decrease in-degree of neighbors and add those with in-degree 0 to the queue\n",
    "        for neighbor in graph[char]:\n",
    "            in_degree[neighbor] -= 1\n",
    "            if in_degree[neighbor] == 0:\n",
    "                queue.append(neighbor)\n",
    "    \n",
    "    # Step 4: If the result length is not equal to the number of unique characters, it means there's a cycle\n",
    "    if len(result) == len(all_chars):\n",
    "        return ''.join(result)\n",
    "    else:\n",
    "        return \"\"  # There's a cycle, no valid order\n",
    "\n",
    "# Test cases\n",
    "print(alien_order([\"ba\", \"bc\", \"ac\", \"cab\"]))  # Output: \"bac\"\n",
    "print(alien_order([\"cab\", \"aaa\", \"aab\"]))  # Output: \"cab\"\n",
    "print(alien_order([\"ywx\", \"wz\", \"xww\", \"xz\", \"zyy\", \"zwz\"]))  # Output: \"ywxz\"\n"
   ]
  },
  {
   "cell_type": "code",
   "execution_count": null,
   "metadata": {},
   "outputs": [],
   "source": []
  }
 ],
 "metadata": {
  "kernelspec": {
   "display_name": "Python 3",
   "language": "python",
   "name": "python3"
  },
  "language_info": {
   "codemirror_mode": {
    "name": "ipython",
    "version": 3
   },
   "file_extension": ".py",
   "mimetype": "text/x-python",
   "name": "python",
   "nbconvert_exporter": "python",
   "pygments_lexer": "ipython3",
   "version": "3.9.6"
  }
 },
 "nbformat": 4,
 "nbformat_minor": 2
}
