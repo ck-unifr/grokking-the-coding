{
 "cells": [
  {
   "cell_type": "code",
   "execution_count": null,
   "metadata": {},
   "outputs": [],
   "source": []
  },
  {
   "cell_type": "markdown",
   "metadata": {},
   "source": [
    "# Tasks Scheduling (medium).py"
   ]
  },
  {
   "cell_type": "code",
   "execution_count": null,
   "metadata": {},
   "outputs": [
    {
     "data": {
      "text/plain": [
       "\" \\n16. Pattern Topological Sort (Graph)/Tasks Scheduling (medium).py\\nhttps://github.com/josephhlwang/GrokkingCoding/blob/main/16.%20Pattern%20Topological%20Sort%20(Graph)/Tasks%20Scheduling%20(medium).py\\n\\nProblem Statement \\nThere are ‘N’ tasks, labeled from ‘0’ to ‘N-1’. Each task can have some prerequisite tasks which need to be completed before it can be scheduled. Given the number of tasks and a list of prerequisite pairs, find out if it is possible to schedule all the tasks.\\n\\nExample 1:\\n\\nInput: Tasks=3, Prerequisites=[0, 1], [1, 2]\\nOutput: true\\nExplanation: To execute task '1', task '0' needs to finish first. Similarly, task '1' needs to finish \\nbefore '2' can be scheduled. A possible sceduling of tasks is: [0, 1, 2] \\n\\nExample 2:\\n\\nInput: Tasks=3, Prerequisites=[0, 1], [1, 2], [2, 0]\\nOutput: false\\nExplanation: The tasks have cyclic dependency, therefore they cannot be scheduled.\\n\\nExample 3:\\n\\nInput: Tasks=6, Prerequisites=[2, 5], [0, 5], [0, 4], [1, 4], [3, 2], [1, 3]\\nOutput: true\\nExplanation: A possible scHeduling of tasks is: [0 1 4 3 2 5] \\n\""
      ]
     },
     "execution_count": 1,
     "metadata": {},
     "output_type": "execute_result"
    }
   ],
   "source": [
    "\"\"\" \n",
    "16. Pattern Topological Sort (Graph)/Tasks Scheduling (medium).py\n",
    "https://github.com/josephhlwang/GrokkingCoding/blob/main/16.%20Pattern%20Topological%20Sort%20(Graph)/Tasks%20Scheduling%20(medium).py\n",
    "\n",
    "Problem Statement \n",
    "There are ‘N’ tasks, labeled from ‘0’ to ‘N-1’. \n",
    "Each task can have some prerequisite tasks which need to be completed before it can be scheduled. \n",
    "Given the number of tasks and a list of prerequisite pairs, find out if it is possible to schedule all the tasks.\n",
    "\n",
    "Example 1:\n",
    "\n",
    "Input: Tasks=3, Prerequisites=[0, 1], [1, 2]\n",
    "Output: true\n",
    "Explanation: To execute task '1', task '0' needs to finish first. Similarly, task '1' needs to finish \n",
    "before '2' can be scheduled. A possible sceduling of tasks is: [0, 1, 2] \n",
    "\n",
    "Example 2:\n",
    "\n",
    "Input: Tasks=3, Prerequisites=[0, 1], [1, 2], [2, 0]\n",
    "Output: false\n",
    "Explanation: The tasks have cyclic dependency, therefore they cannot be scheduled.\n",
    "\n",
    "Example 3:\n",
    "\n",
    "Input: Tasks=6, Prerequisites=[2, 5], [0, 5], [0, 4], [1, 4], [3, 2], [1, 3]\n",
    "Output: true\n",
    "Explanation: A possible scHeduling of tasks is: [0 1 4 3 2 5] \n",
    "\"\"\""
   ]
  },
  {
   "cell_type": "code",
   "execution_count": 2,
   "metadata": {},
   "outputs": [
    {
     "name": "stdout",
     "output_type": "stream",
     "text": [
      "True\n",
      "False\n",
      "True\n"
     ]
    }
   ],
   "source": [
    "from collections import deque\n",
    "\n",
    "def can_schedule_tasks(num_tasks, prerequisites):\n",
    "    # Step 1: Build the graph and in-degree array\n",
    "    graph = {i: [] for i in range(num_tasks)}\n",
    "    in_degree = [0] * num_tasks\n",
    "    \n",
    "    for task, prereq in prerequisites:\n",
    "        graph[prereq].append(task)\n",
    "        in_degree[task] += 1\n",
    "    \n",
    "    # Step 2: Use Kahn's Algorithm for topological sort\n",
    "    queue = deque()\n",
    "    \n",
    "    # Add all tasks with no prerequisites (in-degree = 0)\n",
    "    for i in range(num_tasks):\n",
    "        if in_degree[i] == 0:\n",
    "            queue.append(i)\n",
    "    \n",
    "    # Number of tasks that can be scheduled\n",
    "    tasks_scheduled = 0\n",
    "    \n",
    "    while queue:\n",
    "        task = queue.popleft()\n",
    "        tasks_scheduled += 1\n",
    "        \n",
    "        # Reduce the in-degree of neighboring tasks\n",
    "        for neighbor in graph[task]:\n",
    "            in_degree[neighbor] -= 1\n",
    "            if in_degree[neighbor] == 0:\n",
    "                queue.append(neighbor)\n",
    "    \n",
    "    # If we were able to schedule all tasks, return True\n",
    "    return tasks_scheduled == num_tasks\n",
    "\n",
    "# Test cases\n",
    "print(can_schedule_tasks(3, [[0, 1], [1, 2]]))  # Output: True\n",
    "print(can_schedule_tasks(3, [[0, 1], [1, 2], [2, 0]]))  # Output: False\n",
    "print(can_schedule_tasks(6, [[2, 5], [0, 5], [0, 4], [1, 4], [3, 2], [1, 3]]))  # Output: True\n"
   ]
  },
  {
   "cell_type": "code",
   "execution_count": 3,
   "metadata": {},
   "outputs": [
    {
     "data": {
      "text/plain": [
       "\" \\nExplanation of the Code:\\nGraph Construction:\\n\\nThe graph is built where each node points to a list of tasks that depend on it.\\nThe in_degree array tracks how many prerequisites each task has.\\nKahn's Algorithm:\\n\\nWe initialize a queue with all tasks that have no prerequisites (in_degree[i] == 0).\\nThen, we process each task from the queue:\\nWe reduce the in-degree of its dependent tasks (neighbors).\\nIf a neighbor's in-degree becomes zero, it means that all its prerequisites are completed, so we add it to the queue.\\nWe count the tasks processed. If the count matches num_tasks, it means there is no cycle, and we can schedule all tasks. Otherwise, if we can't process all tasks, a cycle exists, and we return False.\\nTime and Space Complexity:\\nTime Complexity: O(V + E) where V is the number of tasks (vertices) and E is the number of prerequisite pairs (edges). We iterate through all nodes and edges to build the graph and to perform the topological sort.\\nSpace Complexity: O(V + E) for the graph and in-degree array, which store the nodes and edges.\\n\\n\""
      ]
     },
     "execution_count": 3,
     "metadata": {},
     "output_type": "execute_result"
    }
   ],
   "source": [
    "\"\"\" \n",
    "Explanation of the Code:\n",
    "Graph Construction:\n",
    "\n",
    "The graph is built where each node points to a list of tasks that depend on it.\n",
    "The in_degree array tracks how many prerequisites each task has.\n",
    "Kahn's Algorithm:\n",
    "\n",
    "We initialize a queue with all tasks that have no prerequisites (in_degree[i] == 0).\n",
    "Then, we process each task from the queue:\n",
    "We reduce the in-degree of its dependent tasks (neighbors).\n",
    "If a neighbor's in-degree becomes zero, it means that all its prerequisites are completed, so we add it to the queue.\n",
    "We count the tasks processed. If the count matches num_tasks, it means there is no cycle, and we can schedule all tasks. Otherwise, if we can't process all tasks, a cycle exists, and we return False.\n",
    "Time and Space Complexity:\n",
    "Time Complexity: O(V + E) where V is the number of tasks (vertices) and E is the number of prerequisite pairs (edges). We iterate through all nodes and edges to build the graph and to perform the topological sort.\n",
    "Space Complexity: O(V + E) for the graph and in-degree array, which store the nodes and edges.\n",
    "\n",
    "\"\"\""
   ]
  },
  {
   "cell_type": "code",
   "execution_count": null,
   "metadata": {},
   "outputs": [],
   "source": []
  },
  {
   "cell_type": "markdown",
   "metadata": {},
   "source": [
    "# Topological Sort (medium).py\n"
   ]
  },
  {
   "cell_type": "code",
   "execution_count": 4,
   "metadata": {},
   "outputs": [
    {
     "data": {
      "text/plain": [
       "' \\n16. Pattern Topological Sort (Graph)/Topological Sort (medium).py\\nhttps://github.com/josephhlwang/GrokkingCoding/blob/main/16.%20Pattern%20Topological%20Sort%20(Graph)/Topological%20Sort%20(medium).py\\n\\nProblem Statement \\nTopological Sort of a directed graph (a graph with unidirectional edges) is a linear ordering of its vertices such that for every directed edge (U, V) from vertex U to vertex V, U comes before V in the ordering.\\n\\nGiven a directed graph, find the topological ordering of its vertices.\\n\\nExample 1:\\n\\nInput: Vertices=4, Edges=[3, 2], [3, 0], [2, 0], [2, 1]\\nOutput: Following are the two valid topological sorts for the given graph:\\n1) 3, 2, 0, 1\\n2) 3, 2, 1, 0\\n\\nExample 2:\\n\\nInput: Vertices=5, Edges=[4, 2], [4, 3], [2, 0], [2, 1], [3, 1]\\nOutput: Following are all valid topological sorts for the given graph:\\n1) 4, 2, 3, 0, 1\\n2) 4, 3, 2, 0, 1\\n3) 4, 3, 2, 1, 0\\n4) 4, 2, 3, 1, 0\\n5) 4, 2, 0, 3, 1\\n\\nExample 3:\\n\\nInput: Vertices=7, Edges=[6, 4], [6, 2], [5, 3], [5, 4], [3, 0], [3, 1], [3, 2], [4, 1]\\nOutput: Following are all valid topological sorts for the given graph:\\n1) 5, 6, 3, 4, 0, 1, 2\\n2) 6, 5, 3, 4, 0, 1, 2\\n3) 5, 6, 4, 3, 0, 2, 1\\n4) 6, 5, 4, 3, 0, 1, 2\\n5) 5, 6, 3, 4, 0, 2, 1\\n6) 5, 6, 3, 4, 1, 2, 0\\n \\nThere are other valid topological ordering of the graph too.\\n\\n'"
      ]
     },
     "execution_count": 4,
     "metadata": {},
     "output_type": "execute_result"
    }
   ],
   "source": [
    "\"\"\" \n",
    "16. Pattern Topological Sort (Graph)/Topological Sort (medium).py\n",
    "https://github.com/josephhlwang/GrokkingCoding/blob/main/16.%20Pattern%20Topological%20Sort%20(Graph)/Topological%20Sort%20(medium).py\n",
    "\n",
    "Problem Statement \n",
    "Topological Sort of a directed graph (a graph with unidirectional edges) is a linear ordering of its vertices such that for every directed edge (U, V) from vertex U to vertex V, U comes before V in the ordering.\n",
    "\n",
    "Given a directed graph, find the topological ordering of its vertices.\n",
    "\n",
    "Example 1:\n",
    "\n",
    "Input: Vertices=4, Edges=[3, 2], [3, 0], [2, 0], [2, 1]\n",
    "Output: Following are the two valid topological sorts for the given graph:\n",
    "1) 3, 2, 0, 1\n",
    "2) 3, 2, 1, 0\n",
    "\n",
    "Example 2:\n",
    "\n",
    "Input: Vertices=5, Edges=[4, 2], [4, 3], [2, 0], [2, 1], [3, 1]\n",
    "Output: Following are all valid topological sorts for the given graph:\n",
    "1) 4, 2, 3, 0, 1\n",
    "2) 4, 3, 2, 0, 1\n",
    "3) 4, 3, 2, 1, 0\n",
    "4) 4, 2, 3, 1, 0\n",
    "5) 4, 2, 0, 3, 1\n",
    "\n",
    "Example 3:\n",
    "\n",
    "Input: Vertices=7, Edges=[6, 4], [6, 2], [5, 3], [5, 4], [3, 0], [3, 1], [3, 2], [4, 1]\n",
    "Output: Following are all valid topological sorts for the given graph:\n",
    "1) 5, 6, 3, 4, 0, 1, 2\n",
    "2) 6, 5, 3, 4, 0, 1, 2\n",
    "3) 5, 6, 4, 3, 0, 2, 1\n",
    "4) 6, 5, 4, 3, 0, 1, 2\n",
    "5) 5, 6, 3, 4, 0, 2, 1\n",
    "6) 5, 6, 3, 4, 1, 2, 0\n",
    " \n",
    "There are other valid topological ordering of the graph too.\n",
    "\n",
    "\"\"\""
   ]
  },
  {
   "cell_type": "code",
   "execution_count": 5,
   "metadata": {},
   "outputs": [
    {
     "name": "stdout",
     "output_type": "stream",
     "text": [
      "[[3, 2, 0, 1], [3, 2, 1, 0]]\n",
      "[[4, 2, 0, 3, 1], [4, 2, 3, 0, 1], [4, 2, 3, 1, 0], [4, 3, 2, 0, 1], [4, 3, 2, 1, 0]]\n",
      "[[5, 3, 0, 6, 2, 4, 1], [5, 3, 0, 6, 4, 1, 2], [5, 3, 0, 6, 4, 2, 1], [5, 3, 6, 0, 2, 4, 1], [5, 3, 6, 0, 4, 1, 2], [5, 3, 6, 0, 4, 2, 1], [5, 3, 6, 2, 0, 4, 1], [5, 3, 6, 2, 4, 0, 1], [5, 3, 6, 2, 4, 1, 0], [5, 3, 6, 4, 0, 1, 2], [5, 3, 6, 4, 0, 2, 1], [5, 3, 6, 4, 1, 0, 2], [5, 3, 6, 4, 1, 2, 0], [5, 3, 6, 4, 2, 0, 1], [5, 3, 6, 4, 2, 1, 0], [5, 6, 3, 0, 2, 4, 1], [5, 6, 3, 0, 4, 1, 2], [5, 6, 3, 0, 4, 2, 1], [5, 6, 3, 2, 0, 4, 1], [5, 6, 3, 2, 4, 0, 1], [5, 6, 3, 2, 4, 1, 0], [5, 6, 3, 4, 0, 1, 2], [5, 6, 3, 4, 0, 2, 1], [5, 6, 3, 4, 1, 0, 2], [5, 6, 3, 4, 1, 2, 0], [5, 6, 3, 4, 2, 0, 1], [5, 6, 3, 4, 2, 1, 0], [5, 6, 4, 3, 0, 1, 2], [5, 6, 4, 3, 0, 2, 1], [5, 6, 4, 3, 1, 0, 2], [5, 6, 4, 3, 1, 2, 0], [5, 6, 4, 3, 2, 0, 1], [5, 6, 4, 3, 2, 1, 0], [6, 5, 3, 0, 2, 4, 1], [6, 5, 3, 0, 4, 1, 2], [6, 5, 3, 0, 4, 2, 1], [6, 5, 3, 2, 0, 4, 1], [6, 5, 3, 2, 4, 0, 1], [6, 5, 3, 2, 4, 1, 0], [6, 5, 3, 4, 0, 1, 2], [6, 5, 3, 4, 0, 2, 1], [6, 5, 3, 4, 1, 0, 2], [6, 5, 3, 4, 1, 2, 0], [6, 5, 3, 4, 2, 0, 1], [6, 5, 3, 4, 2, 1, 0], [6, 5, 4, 3, 0, 1, 2], [6, 5, 4, 3, 0, 2, 1], [6, 5, 4, 3, 1, 0, 2], [6, 5, 4, 3, 1, 2, 0], [6, 5, 4, 3, 2, 0, 1], [6, 5, 4, 3, 2, 1, 0]]\n"
     ]
    }
   ],
   "source": [
    "from collections import defaultdict\n",
    "\n",
    "def all_topological_sorts(vertices, edges):\n",
    "    # Step 1: Build the graph and calculate in-degree for each vertex\n",
    "    graph = defaultdict(list)\n",
    "    in_degree = [0] * vertices\n",
    "    for u, v in edges:\n",
    "        graph[u].append(v)\n",
    "        in_degree[v] += 1\n",
    "    \n",
    "    # Step 2: Helper function for backtracking\n",
    "    def backtrack(path, in_degree):\n",
    "        # If the path contains all vertices, it's a valid topological sort\n",
    "        if len(path) == vertices:\n",
    "            result.append(path[:])\n",
    "            return\n",
    "        \n",
    "        # Try to take each vertex with in-degree 0\n",
    "        for i in range(vertices):\n",
    "            if in_degree[i] == 0 and not visited[i]:\n",
    "                visited[i] = True\n",
    "                path.append(i)\n",
    "                \n",
    "                # Reduce the in-degree of neighbors\n",
    "                for neighbor in graph[i]:\n",
    "                    in_degree[neighbor] -= 1\n",
    "                \n",
    "                # Recurse to the next step\n",
    "                backtrack(path, in_degree)\n",
    "                \n",
    "                # Backtrack\n",
    "                visited[i] = False\n",
    "                path.pop()\n",
    "                \n",
    "                # Restore the in-degree of neighbors\n",
    "                for neighbor in graph[i]:\n",
    "                    in_degree[neighbor] += 1\n",
    "    \n",
    "    # Step 3: Initialize variables\n",
    "    visited = [False] * vertices\n",
    "    result = []\n",
    "    backtrack([], in_degree)\n",
    "    \n",
    "    return result\n",
    "\n",
    "# Test cases\n",
    "print(all_topological_sorts(4, [[3, 2], [3, 0], [2, 0], [2, 1]]))\n",
    "print(all_topological_sorts(5, [[4, 2], [4, 3], [2, 0], [2, 1], [3, 1]]))\n",
    "print(all_topological_sorts(7, [[6, 4], [6, 2], [5, 3], [5, 4], [3, 0], [3, 1], [3, 2], [4, 1]]))\n",
    "\n"
   ]
  },
  {
   "cell_type": "code",
   "execution_count": 6,
   "metadata": {},
   "outputs": [
    {
     "data": {
      "text/plain": [
       "'  \\nTime and Space Complexity:\\nTime Complexity: O(V! * V) where V is the number of vertices. The factorial factor comes from generating all possible topological sorts, and each sort requires O(V) time to check.\\nSpace Complexity: O(V + E) where V is the number of vertices and E is the number of edges, for storing the graph and in-degree array.\\nThis solution ensures that we find all valid topological sorts while managing the complexity of graph traversal efficiently.\\n'"
      ]
     },
     "execution_count": 6,
     "metadata": {},
     "output_type": "execute_result"
    }
   ],
   "source": [
    "\"\"\"  \n",
    "Time and Space Complexity:\n",
    "Time Complexity: O(V! * V) where V is the number of vertices. The factorial factor comes from generating all possible topological sorts, and each sort requires O(V) time to check.\n",
    "Space Complexity: O(V + E) where V is the number of vertices and E is the number of edges, for storing the graph and in-degree array.\n",
    "This solution ensures that we find all valid topological sorts while managing the complexity of graph traversal efficiently.\n",
    "\"\"\""
   ]
  },
  {
   "cell_type": "code",
   "execution_count": null,
   "metadata": {},
   "outputs": [],
   "source": []
  },
  {
   "cell_type": "markdown",
   "metadata": {},
   "source": [
    "# Alien Dictionary (hard).py"
   ]
  },
  {
   "cell_type": "code",
   "execution_count": 7,
   "metadata": {},
   "outputs": [
    {
     "data": {
      "text/plain": [
       "' \\n16. Pattern Topological Sort (Graph)/Alien Dictionary (hard).py\\n\\nhttps://github.com/josephhlwang/GrokkingCoding/blob/main/16.%20Pattern%20Topological%20Sort%20(Graph)/Alien%20Dictionary%20(hard).py\\n\\nProblem Statement \\nThere is a dictionary containing words from an alien language for which we don’t know the ordering of the characters. Write a method to find the correct order of characters in the alien language.\\n\\nExample 1:\\n\\nInput: Words: [\"ba\", \"bc\", \"ac\", \"cab\"]\\nOutput: bac\\nExplanation: Given that the words are sorted lexicographically by the rules of the alien language, so\\nfrom the given words we can conclude the following ordering among its characters:\\n \\n1. From \"ba\" and \"bc\", we can conclude that \\'a\\' comes before \\'c\\'.\\n2. From \"bc\" and \"ac\", we can conclude that \\'b\\' comes before \\'a\\'\\n \\nFrom the above two points, we can conclude that the correct character order is: \"bac\"\\n\\nExample 2:\\n\\nInput: Words: [\"cab\", \"aaa\", \"aab\"]\\nOutput: cab\\nExplanation: From the given words we can conclude the following ordering among its characters:\\n \\n1. From \"cab\" and \"aaa\", we can conclude that \\'c\\' comes before \\'a\\'.\\n2. From \"aaa\" and \"aab\", we can conclude that \\'a\\' comes before \\'b\\'\\n \\nFrom the above two points, we can conclude that the correct character order is: \"cab\"\\n\\nExample 3:\\n\\nInput: Words: [\"ywx\", \"wz\", \"xww\", \"xz\", \"zyy\", \"zwz\"]\\nOutput: ywxz\\nExplanation: From the given words we can conclude the following ordering among its characters:\\n \\n1. From \"ywx\" and \"wz\", we can conclude that \\'y\\' comes before \\'w\\'.\\n2. From \"wz\" and \"xww\", we can conclude that \\'w\\' comes before \\'x\\'.\\n3. From \"xww\" and \"xz\", we can conclude that \\'w\\' comes before \\'z\\'\\n4. From \"xz\" and \"zyy\", we can conclude that \\'x\\' comes before \\'z\\'\\n5. From \"zyy\" and \"zwz\", we can conclude that \\'y\\' comes before \\'w\\'\\n \\nFrom the above five points, we can conclude that the correct character order is: \"ywxz\"\\n'"
      ]
     },
     "execution_count": 7,
     "metadata": {},
     "output_type": "execute_result"
    }
   ],
   "source": [
    "\"\"\" \n",
    "16. Pattern Topological Sort (Graph)/Alien Dictionary (hard).py\n",
    "\n",
    "https://github.com/josephhlwang/GrokkingCoding/blob/main/16.%20Pattern%20Topological%20Sort%20(Graph)/Alien%20Dictionary%20(hard).py\n",
    "\n",
    "Problem Statement \n",
    "There is a dictionary containing words from an alien language for which we don’t know the ordering of the characters. Write a method to find the correct order of characters in the alien language.\n",
    "\n",
    "Example 1:\n",
    "\n",
    "Input: Words: [\"ba\", \"bc\", \"ac\", \"cab\"]\n",
    "Output: bac\n",
    "Explanation: Given that the words are sorted lexicographically by the rules of the alien language, so\n",
    "from the given words we can conclude the following ordering among its characters:\n",
    " \n",
    "1. From \"ba\" and \"bc\", we can conclude that 'a' comes before 'c'.\n",
    "2. From \"bc\" and \"ac\", we can conclude that 'b' comes before 'a'\n",
    " \n",
    "From the above two points, we can conclude that the correct character order is: \"bac\"\n",
    "\n",
    "Example 2:\n",
    "\n",
    "Input: Words: [\"cab\", \"aaa\", \"aab\"]\n",
    "Output: cab\n",
    "Explanation: From the given words we can conclude the following ordering among its characters:\n",
    " \n",
    "1. From \"cab\" and \"aaa\", we can conclude that 'c' comes before 'a'.\n",
    "2. From \"aaa\" and \"aab\", we can conclude that 'a' comes before 'b'\n",
    " \n",
    "From the above two points, we can conclude that the correct character order is: \"cab\"\n",
    "\n",
    "Example 3:\n",
    "\n",
    "Input: Words: [\"ywx\", \"wz\", \"xww\", \"xz\", \"zyy\", \"zwz\"]\n",
    "Output: ywxz\n",
    "Explanation: From the given words we can conclude the following ordering among its characters:\n",
    " \n",
    "1. From \"ywx\" and \"wz\", we can conclude that 'y' comes before 'w'.\n",
    "2. From \"wz\" and \"xww\", we can conclude that 'w' comes before 'x'.\n",
    "3. From \"xww\" and \"xz\", we can conclude that 'w' comes before 'z'\n",
    "4. From \"xz\" and \"zyy\", we can conclude that 'x' comes before 'z'\n",
    "5. From \"zyy\" and \"zwz\", we can conclude that 'y' comes before 'w'\n",
    " \n",
    "From the above five points, we can conclude that the correct character order is: \"ywxz\"\n",
    "\"\"\""
   ]
  },
  {
   "cell_type": "code",
   "execution_count": 8,
   "metadata": {},
   "outputs": [
    {
     "name": "stdout",
     "output_type": "stream",
     "text": [
      "bac\n",
      "cab\n",
      "ywxz\n"
     ]
    }
   ],
   "source": [
    "from collections import defaultdict, deque\n",
    "\n",
    "def alien_order(words):\n",
    "    # Step 1: Build the graph and in-degree array\n",
    "    graph = defaultdict(set)\n",
    "    in_degree = defaultdict(int)\n",
    "    all_chars = set()\n",
    "    \n",
    "    # Initialize in-degree for all characters to 0\n",
    "    for word in words:\n",
    "        for char in word:\n",
    "            all_chars.add(char)\n",
    "            in_degree[char] = 0\n",
    "    \n",
    "    # Step 2: Compare consecutive words to build the graph\n",
    "    for i in range(len(words) - 1):\n",
    "        word1, word2 = words[i], words[i + 1]\n",
    "        \n",
    "        # Find the first different character\n",
    "        for j in range(min(len(word1), len(word2))):\n",
    "            if word1[j] != word2[j]:\n",
    "                # Add an edge from word1[j] -> word2[j]\n",
    "                if word2[j] not in graph[word1[j]]:\n",
    "                    graph[word1[j]].add(word2[j])\n",
    "                    in_degree[word2[j]] += 1\n",
    "                break\n",
    "    \n",
    "    # Step 3: Perform topological sort using Kahn's Algorithm (BFS)\n",
    "    queue = deque([char for char in all_chars if in_degree[char] == 0])\n",
    "    result = []\n",
    "    \n",
    "    while queue:\n",
    "        char = queue.popleft()\n",
    "        result.append(char)\n",
    "        \n",
    "        # Decrease in-degree of neighbors and add those with in-degree 0 to the queue\n",
    "        for neighbor in graph[char]:\n",
    "            in_degree[neighbor] -= 1\n",
    "            if in_degree[neighbor] == 0:\n",
    "                queue.append(neighbor)\n",
    "    \n",
    "    # Step 4: If the result length is not equal to the number of unique characters, it means there's a cycle\n",
    "    if len(result) == len(all_chars):\n",
    "        return ''.join(result)\n",
    "    else:\n",
    "        return \"\"  # There's a cycle, no valid order\n",
    "\n",
    "# Test cases\n",
    "print(alien_order([\"ba\", \"bc\", \"ac\", \"cab\"]))  # Output: \"bac\"\n",
    "print(alien_order([\"cab\", \"aaa\", \"aab\"]))  # Output: \"cab\"\n",
    "print(alien_order([\"ywx\", \"wz\", \"xww\", \"xz\", \"zyy\", \"zwz\"]))  # Output: \"ywxz\"\n"
   ]
  },
  {
   "cell_type": "code",
   "execution_count": 9,
   "metadata": {},
   "outputs": [
    {
     "data": {
      "text/plain": [
       "' \\nTime and Space Complexity:\\nTime Complexity:\\n\\nBuilding the graph takes O(N * K), where N is the number of words and K is the average length of the words.\\nThe topological sorting process using Kahn’s algorithm takes O(V + E), where V is the number of vertices (unique characters) and E is the number of edges (dependencies between characters).\\nSo, the overall time complexity is O(N * K + V + E).\\nSpace Complexity:\\n\\nThe space complexity is O(V + E), where V is the number of vertices (unique characters) and E is the number of edges (dependencies between characters).\\n\\n'"
      ]
     },
     "execution_count": 9,
     "metadata": {},
     "output_type": "execute_result"
    }
   ],
   "source": [
    "\"\"\" \n",
    "Time and Space Complexity:\n",
    "Time Complexity:\n",
    "\n",
    "Building the graph takes O(N * K), where N is the number of words and K is the average length of the words.\n",
    "The topological sorting process using Kahn’s algorithm takes O(V + E), where V is the number of vertices (unique characters) and E is the number of edges (dependencies between characters).\n",
    "So, the overall time complexity is O(N * K + V + E).\n",
    "Space Complexity:\n",
    "\n",
    "The space complexity is O(V + E), where V is the number of vertices (unique characters) and E is the number of edges (dependencies between characters).\n",
    "\n",
    "\"\"\""
   ]
  },
  {
   "cell_type": "code",
   "execution_count": null,
   "metadata": {},
   "outputs": [],
   "source": []
  },
  {
   "cell_type": "code",
   "execution_count": null,
   "metadata": {},
   "outputs": [],
   "source": []
  },
  {
   "cell_type": "code",
   "execution_count": null,
   "metadata": {},
   "outputs": [],
   "source": []
  },
  {
   "cell_type": "code",
   "execution_count": null,
   "metadata": {},
   "outputs": [],
   "source": []
  },
  {
   "cell_type": "code",
   "execution_count": null,
   "metadata": {},
   "outputs": [],
   "source": []
  },
  {
   "cell_type": "code",
   "execution_count": null,
   "metadata": {},
   "outputs": [],
   "source": []
  },
  {
   "cell_type": "code",
   "execution_count": null,
   "metadata": {},
   "outputs": [],
   "source": []
  },
  {
   "cell_type": "code",
   "execution_count": null,
   "metadata": {},
   "outputs": [],
   "source": []
  }
 ],
 "metadata": {
  "kernelspec": {
   "display_name": "Python 3",
   "language": "python",
   "name": "python3"
  },
  "language_info": {
   "codemirror_mode": {
    "name": "ipython",
    "version": 3
   },
   "file_extension": ".py",
   "mimetype": "text/x-python",
   "name": "python",
   "nbconvert_exporter": "python",
   "pygments_lexer": "ipython3",
   "version": "3.9.6"
  }
 },
 "nbformat": 4,
 "nbformat_minor": 2
}
