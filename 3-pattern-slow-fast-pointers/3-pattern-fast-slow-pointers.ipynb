{
 "cells": [
  {
   "cell_type": "code",
   "execution_count": null,
   "metadata": {},
   "outputs": [],
   "source": []
  },
  {
   "cell_type": "markdown",
   "metadata": {},
   "source": [
    "# LinkedList Cycle (easy).py\n"
   ]
  },
  {
   "cell_type": "code",
   "execution_count": null,
   "metadata": {},
   "outputs": [
    {
     "data": {
      "text/plain": [
       "'\\nProblem Statement \\nGiven the head of a Singly LinkedList, write a function to determine if the LinkedList has a cycle in it or not.\\n'"
      ]
     },
     "execution_count": 1,
     "metadata": {},
     "output_type": "execute_result"
    }
   ],
   "source": [
    "\"\"\"\n",
    "https://github.com/josephhlwang/GrokkingCoding/blob/main/3.%20Pattern%20Fast%20%26%20Slow%20pointers/LinkedList%20Cycle%20(easy).py\n",
    "\n",
    "Problem Statement \n",
    "Given the head of a Singly LinkedList, write a function to determine if the LinkedList has a cycle in it or not.\n",
    "\"\"\""
   ]
  },
  {
   "cell_type": "code",
   "execution_count": 2,
   "metadata": {},
   "outputs": [],
   "source": [
    "class ListNode:\n",
    "    def __init__(self, value, next=None):\n",
    "        self.value = value\n",
    "        self.next = next \n",
    "\n",
    "def has_cycle(head: ListNode) -> bool:\n",
    "    slow, fast = head, head\n",
    "    while fast and fast.next:\n",
    "        slow = slow.next\n",
    "        fast = fast.next.next\n",
    "        if slow == fast:\n",
    "            return True\n",
    "    return False\n",
    "\n",
    "\n"
   ]
  },
  {
   "cell_type": "code",
   "execution_count": 3,
   "metadata": {},
   "outputs": [
    {
     "name": "stdout",
     "output_type": "stream",
     "text": [
      "True\n",
      "False\n"
     ]
    }
   ],
   "source": [
    "# Example usage:\n",
    "\n",
    "# Creating a linked list: 1 -> 2 -> 3 -> 4 -> 5 -> 2 (cycle)\n",
    "node1 = ListNode(1)\n",
    "node2 = ListNode(2)\n",
    "node3 = ListNode(3)\n",
    "node4 = ListNode(4)\n",
    "node5 = ListNode(5)\n",
    "\n",
    "node1.next = node2\n",
    "node2.next = node3\n",
    "node3.next = node4\n",
    "node4.next = node5\n",
    "node5.next = node2  # Creating a cycle\n",
    "\n",
    "print(has_cycle(node1))  # Output: True\n",
    "\n",
    "# Creating a linked list: 1 -> 2 -> 3 -> 4 (no cycle)\n",
    "node1 = ListNode(1)\n",
    "node2 = ListNode(2)\n",
    "node3 = ListNode(3)\n",
    "node4 = ListNode(4)\n",
    "\n",
    "node1.next = node2\n",
    "node2.next = node3\n",
    "node3.next = node4\n",
    "\n",
    "print(has_cycle(node1))  # Output: False"
   ]
  },
  {
   "cell_type": "code",
   "execution_count": 4,
   "metadata": {},
   "outputs": [
    {
     "data": {
      "text/plain": [
       "'\\nExplanation of Code:\\nListNode class: This is the definition of the linked list node, where each node has a val and a next pointer.\\nhas_cycle function:\\nThe function starts by checking if the head is None (empty list).\\nTwo pointers (slow and fast) are initialized to the head of the linked list.\\nInside the while loop, the slow pointer moves one step at a time, and the fast pointer moves two steps at a time.\\nIf there is a cycle, the slow and fast pointers will meet, and we return True.\\nIf fast reaches the end of the list (None), then no cycle exists, and we return False.\\nEdge Cases:\\nEmpty linked list (head = None): Should return False because there is no cycle.\\nA list with only one node that points to itself: Should return True because it forms a cycle.\\nA list without a cycle: Should return False.\\n\\n\\n'"
      ]
     },
     "execution_count": 4,
     "metadata": {},
     "output_type": "execute_result"
    }
   ],
   "source": [
    "\"\"\"\n",
    "Explanation of Code:\n",
    "ListNode class: This is the definition of the linked list node, where each node has a val and a next pointer.\n",
    "has_cycle function:\n",
    "The function starts by checking if the head is None (empty list).\n",
    "Two pointers (slow and fast) are initialized to the head of the linked list.\n",
    "Inside the while loop, the slow pointer moves one step at a time, and the fast pointer moves two steps at a time.\n",
    "If there is a cycle, the slow and fast pointers will meet, and we return True.\n",
    "If fast reaches the end of the list (None), then no cycle exists, and we return False.\n",
    "Edge Cases:\n",
    "Empty linked list (head = None): Should return False because there is no cycle.\n",
    "A list with only one node that points to itself: Should return True because it forms a cycle.\n",
    "A list without a cycle: Should return False.\n",
    "\n",
    "\n",
    "\"\"\""
   ]
  },
  {
   "cell_type": "code",
   "execution_count": null,
   "metadata": {},
   "outputs": [],
   "source": []
  },
  {
   "cell_type": "markdown",
   "metadata": {},
   "source": [
    "# Middle of the LinkedList (easy).py"
   ]
  },
  {
   "cell_type": "code",
   "execution_count": 5,
   "metadata": {},
   "outputs": [
    {
     "data": {
      "text/plain": [
       "'  \\nhttps://github.com/josephhlwang/GrokkingCoding/blob/main/3.%20Pattern%20Fast%20%26%20Slow%20pointers/Middle%20of%20the%20LinkedList%20(easy).py\\n3. Pattern Fast & Slow pointers/Middle of the LinkedList (easy).py\\n\\n\\nProblem Statement \\nGiven the head of a Singly LinkedList, write a method to return the middle node of the LinkedList.\\n\\nIf the total number of nodes in the LinkedList is even, return the second middle node.\\n\\nExample 1:\\n\\nInput: 1 -> 2 -> 3 -> 4 -> 5 -> null\\nOutput: 3\\n\\nExample 2:\\n\\nInput: 1 -> 2 -> 3 -> 4 -> 5 -> 6 -> null\\nOutput: 4\\n\\nExample 3:\\n\\nInput: 1 -> 2 -> 3 -> 4 -> 5 -> 6 -> 7 -> null\\nOutput: 4\\n\\n\\n'"
      ]
     },
     "execution_count": 5,
     "metadata": {},
     "output_type": "execute_result"
    }
   ],
   "source": [
    "\"\"\"  \n",
    "https://github.com/josephhlwang/GrokkingCoding/blob/main/3.%20Pattern%20Fast%20%26%20Slow%20pointers/Middle%20of%20the%20LinkedList%20(easy).py\n",
    "3. Pattern Fast & Slow pointers/Middle of the LinkedList (easy).py\n",
    "\n",
    "\n",
    "Problem Statement \n",
    "Given the head of a Singly LinkedList, write a method to return the middle node of the LinkedList.\n",
    "\n",
    "If the total number of nodes in the LinkedList is even, return the second middle node.\n",
    "\n",
    "Example 1:\n",
    "\n",
    "Input: 1 -> 2 -> 3 -> 4 -> 5 -> null\n",
    "Output: 3\n",
    "\n",
    "Example 2:\n",
    "\n",
    "Input: 1 -> 2 -> 3 -> 4 -> 5 -> 6 -> null\n",
    "Output: 4\n",
    "\n",
    "Example 3:\n",
    "\n",
    "Input: 1 -> 2 -> 3 -> 4 -> 5 -> 6 -> 7 -> null\n",
    "Output: 4\n",
    "\n",
    "\n",
    "\"\"\""
   ]
  },
  {
   "cell_type": "code",
   "execution_count": 8,
   "metadata": {},
   "outputs": [],
   "source": [
    "class ListNode:\n",
    "    def __init__(self, val, next=None):\n",
    "        self.val = val \n",
    "        self.next = next \n",
    "\n",
    "def find_middle(head: ListNode) -> ListNode:\n",
    "    slow, fast = head, head\n",
    "    while fast and fast.next:\n",
    "        slow = slow.next\n",
    "        fast = fast.next.next\n",
    "    \n",
    "    return slow \n",
    "\n"
   ]
  },
  {
   "cell_type": "code",
   "execution_count": null,
   "metadata": {},
   "outputs": [
    {
     "name": "stdout",
     "output_type": "stream",
     "text": [
      "Middle Node of List 1: 3\n",
      "Middle Node of List 2: 4\n",
      "Middle Node of List 3: 4\n"
     ]
    }
   ],
   "source": [
    "# Helper function to create a linked list from a list of values\n",
    "def create_linked_list(values):\n",
    "    head = ListNode(values[0])\n",
    "    current = head\n",
    "    for value in values[1:]:\n",
    "        current.next = ListNode(value)\n",
    "        current = current.next\n",
    "    return head\n",
    "\n",
    "\n",
    "# Helper function to print the linked list (to visualize it)\n",
    "def print_linked_list(head):\n",
    "    current = head\n",
    "    while current:\n",
    "        print(current.val, end=\" -> \" if current.next else \" -> null\\n\")\n",
    "        current = current.next\n",
    "\n",
    "\n",
    "# Test 1: 1 -> 2 -> 3 -> 4 -> 5 -> null\n",
    "test_list_1 = create_linked_list([1, 2, 3, 4, 5])\n",
    "middle_1 = find_middle(test_list_1)\n",
    "print(\"Middle Node of List 1:\", middle_1.val)  # Expected output: 3\n",
    "\n",
    "# Test 2: 1 -> 2 -> 3 -> 4 -> 5 -> 6 -> null\n",
    "test_list_2 = create_linked_list([1, 2, 3, 4, 5, 6])\n",
    "middle_2 = find_middle(test_list_2)\n",
    "print(\"Middle Node of List 2:\", middle_2.val)  # Expected output: 4\n",
    "\n",
    "# Test 3: 1 -> 2 -> 3 -> 4 -> 5 -> 6 -> 7 -> null\n",
    "test_list_3 = create_linked_list([1, 2, 3, 4, 5, 6, 7])\n",
    "middle_3 = find_middle(test_list_3)\n",
    "print(\"Middle Node of List 3:\", middle_3.val)  # Expected output: 4"
   ]
  },
  {
   "cell_type": "code",
   "execution_count": 10,
   "metadata": {},
   "outputs": [
    {
     "data": {
      "text/plain": [
       "'  \\n### Time Complexity:\\nThe time complexity of the `middleNode` function is **O(n)**, where **n** is the number of nodes in the linked list.\\n\\n**Explanation**:\\n- We traverse the linked list once using the **two-pointer technique**. \\n- The `slow` pointer moves one step at a time, and the `fast` pointer moves two steps at a time.\\n- Both pointers move through the list at different speeds, but the total number of steps taken by both pointers together will always be **n** (the length of the linked list).\\n- The algorithm does not involve any nested loops or recursive calls, so the time complexity is proportional to the number of nodes in the list.\\n\\nThus, the **overall time complexity** is **O(n)**.\\n\\n### Space Complexity:\\nThe space complexity of the `middleNode` function is **O(1)**.\\n\\n**Explanation**:\\n- The space used by the function depends only on the two pointers (`slow` and `fast`) that we use to traverse the list.\\n- We are not using any extra data structures (like arrays or lists) that grow with the input size.\\n- The amount of memory used does not depend on the size of the input linked list, which means the space complexity is constant.\\n\\nThus, the **overall space complexity** is **O(1)**.\\n\\n### Summary:\\n- **Time Complexity**: **O(n)**, where **n** is the number of nodes in the linked list.\\n- **Space Complexity**: **O(1)**, because we only use two pointers regardless of the list size.\\n\\nThis is an optimal solution in terms of both time and space, as we only need one traversal of the list and constant extra space.\\n'"
      ]
     },
     "execution_count": 10,
     "metadata": {},
     "output_type": "execute_result"
    }
   ],
   "source": [
    "\"\"\"  \n",
    "### Time Complexity:\n",
    "The time complexity of the `middleNode` function is **O(n)**, where **n** is the number of nodes in the linked list.\n",
    "\n",
    "**Explanation**:\n",
    "- We traverse the linked list once using the **two-pointer technique**. \n",
    "- The `slow` pointer moves one step at a time, and the `fast` pointer moves two steps at a time.\n",
    "- Both pointers move through the list at different speeds, but the total number of steps taken by both pointers together will always be **n** (the length of the linked list).\n",
    "- The algorithm does not involve any nested loops or recursive calls, so the time complexity is proportional to the number of nodes in the list.\n",
    "\n",
    "Thus, the **overall time complexity** is **O(n)**.\n",
    "\n",
    "### Space Complexity:\n",
    "The space complexity of the `middleNode` function is **O(1)**.\n",
    "\n",
    "**Explanation**:\n",
    "- The space used by the function depends only on the two pointers (`slow` and `fast`) that we use to traverse the list.\n",
    "- We are not using any extra data structures (like arrays or lists) that grow with the input size.\n",
    "- The amount of memory used does not depend on the size of the input linked list, which means the space complexity is constant.\n",
    "\n",
    "Thus, the **overall space complexity** is **O(1)**.\n",
    "\n",
    "### Summary:\n",
    "- **Time Complexity**: **O(n)**, where **n** is the number of nodes in the linked list.\n",
    "- **Space Complexity**: **O(1)**, because we only use two pointers regardless of the list size.\n",
    "\n",
    "This is an optimal solution in terms of both time and space, as we only need one traversal of the list and constant extra space.\n",
    "\"\"\""
   ]
  },
  {
   "cell_type": "code",
   "execution_count": null,
   "metadata": {},
   "outputs": [],
   "source": []
  },
  {
   "cell_type": "markdown",
   "metadata": {},
   "source": [
    "# Happy Number (medium).py"
   ]
  },
  {
   "cell_type": "code",
   "execution_count": 11,
   "metadata": {},
   "outputs": [
    {
     "data": {
      "text/plain": [
       "'  \\n3. Pattern Fast & Slow pointers/Happy Number (medium).py\\nhttps://github.com/josephhlwang/GrokkingCoding/blob/main/3.%20Pattern%20Fast%20%26%20Slow%20pointers/Happy%20Number%20(medium).py\\n\\nProblem Statement \\nAny number will be called a happy number if, \\nafter repeatedly replacing it with a number equal to the sum of the square of all of its digits, \\nleads us to number ‘1’. All other (not-happy) numbers will never reach ‘1’. \\nInstead, they will be stuck in a cycle of numbers which does not include ‘1’.\\n\\n'"
      ]
     },
     "execution_count": 11,
     "metadata": {},
     "output_type": "execute_result"
    }
   ],
   "source": [
    "\"\"\"  \n",
    "3. Pattern Fast & Slow pointers/Happy Number (medium).py\n",
    "https://github.com/josephhlwang/GrokkingCoding/blob/main/3.%20Pattern%20Fast%20%26%20Slow%20pointers/Happy%20Number%20(medium).py\n",
    "\n",
    "Problem Statement \n",
    "Any number will be called a happy number if, \n",
    "after repeatedly replacing it with a number equal to the sum of the square of all of its digits, \n",
    "leads us to number ‘1’. All other (not-happy) numbers will never reach ‘1’. \n",
    "Instead, they will be stuck in a cycle of numbers which does not include ‘1’.\n",
    "\n",
    "\"\"\""
   ]
  },
  {
   "cell_type": "code",
   "execution_count": 12,
   "metadata": {},
   "outputs": [
    {
     "name": "stdout",
     "output_type": "stream",
     "text": [
      "True\n",
      "False\n"
     ]
    }
   ],
   "source": [
    "def sum_of_squares(num):\n",
    "    total = 0\n",
    "    while num > 0:\n",
    "        digit = num % 10\n",
    "        total += digit ** 2\n",
    "        num //= 10\n",
    "    return total\n",
    "\n",
    "def isHappy(num):\n",
    "    seen = set()\n",
    "    \n",
    "    while num != 1:\n",
    "        if num in seen:\n",
    "            return False  # We encountered a cycle\n",
    "        seen.add(num)\n",
    "        num = sum_of_squares(num)\n",
    "    \n",
    "    return True  # If we reach 1, it's a happy number\n",
    "\n",
    "# Example usage:\n",
    "print(isHappy(19))  # True, 19 is a happy number\n",
    "print(isHappy(2))   # False, 2 is not a happy number\n"
   ]
  },
  {
   "cell_type": "code",
   "execution_count": 14,
   "metadata": {},
   "outputs": [
    {
     "data": {
      "text/plain": [
       "' \\nhttps://chatgpt.com/share/67ac9e63-6870-8006-8254-22c84d2793b7\\n'"
      ]
     },
     "execution_count": 14,
     "metadata": {},
     "output_type": "execute_result"
    }
   ],
   "source": [
    "\"\"\" \n",
    "https://chatgpt.com/share/67ac9e63-6870-8006-8254-22c84d2793b7\n",
    "\"\"\""
   ]
  },
  {
   "cell_type": "code",
   "execution_count": null,
   "metadata": {},
   "outputs": [],
   "source": []
  },
  {
   "cell_type": "markdown",
   "metadata": {},
   "source": [
    "# Start of LinkedList Cycle (medium).py"
   ]
  },
  {
   "cell_type": "code",
   "execution_count": 17,
   "metadata": {},
   "outputs": [
    {
     "data": {
      "text/plain": [
       "' \\n3. Pattern Fast & Slow pointers/Start of LinkedList Cycle (medium).py\\nhttps://github.com/josephhlwang/GrokkingCoding/blob/main/3.%20Pattern%20Fast%20%26%20Slow%20pointers/Start%20of%20LinkedList%20Cycle%20(medium).py\\n\\nProblem Statement \\nGiven the head of a Singly LinkedList that contains a cycle, write a function to find the starting node of the cycle.\\n\\n'"
      ]
     },
     "execution_count": 17,
     "metadata": {},
     "output_type": "execute_result"
    }
   ],
   "source": [
    "\"\"\" \n",
    "3. Pattern Fast & Slow pointers/Start of LinkedList Cycle (medium).py\n",
    "https://github.com/josephhlwang/GrokkingCoding/blob/main/3.%20Pattern%20Fast%20%26%20Slow%20pointers/Start%20of%20LinkedList%20Cycle%20(medium).py\n",
    "\n",
    "Problem Statement \n",
    "Given the head of a Singly LinkedList that contains a cycle, write a function to find the starting node of the cycle.\n",
    "\n",
    "\"\"\"\n"
   ]
  },
  {
   "cell_type": "code",
   "execution_count": 18,
   "metadata": {},
   "outputs": [
    {
     "name": "stdout",
     "output_type": "stream",
     "text": [
      "2\n",
      "No cycle\n",
      "No cycle\n"
     ]
    }
   ],
   "source": [
    "class ListNode:\n",
    "    def __init__(self, val=0, next=None):\n",
    "        self.val = val\n",
    "        self.next = next\n",
    "\n",
    "def detectCycle(head: ListNode) -> ListNode:\n",
    "    if not head or not head.next:\n",
    "        return None\n",
    "    \n",
    "    # Step 1: Use slow and fast pointers to detect the cycle\n",
    "    slow = fast = head\n",
    "    while fast and fast.next:\n",
    "        slow = slow.next\n",
    "        fast = fast.next.next\n",
    "        \n",
    "        if slow == fast:  # Cycle detected\n",
    "            # Step 2: Find the start of the cycle\n",
    "            # Reset slow to the head and move both pointers one step at a time\n",
    "            slow = head\n",
    "            while slow != fast:\n",
    "                slow = slow.next\n",
    "                fast = fast.next\n",
    "            return slow  # The point where they meet is the start of the cycle\n",
    "    \n",
    "    return None  # No cycle detected\n",
    "\n",
    "# Helper function to create a linked list with a cycle (for testing)\n",
    "def create_linked_list_with_cycle(values, cycle_start_index):\n",
    "    head = ListNode(values[0])\n",
    "    current = head\n",
    "    cycle_start_node = None\n",
    "    \n",
    "    for i in range(1, len(values)):\n",
    "        current.next = ListNode(values[i])\n",
    "        current = current.next\n",
    "        if i == cycle_start_index:\n",
    "            cycle_start_node = current\n",
    "    \n",
    "    # Create the cycle\n",
    "    if cycle_start_node:\n",
    "        current.next = cycle_start_node\n",
    "    \n",
    "    return head\n",
    "\n",
    "# Test cases\n",
    "test_list_1 = create_linked_list_with_cycle([3, 2, 0, -4], 1)\n",
    "test_list_2 = create_linked_list_with_cycle([1, 2], 0)\n",
    "test_list_3 = create_linked_list_with_cycle([1], -1)\n",
    "\n",
    "cycle_node_1 = detectCycle(test_list_1)\n",
    "cycle_node_2 = detectCycle(test_list_2)\n",
    "cycle_node_3 = detectCycle(test_list_3)\n",
    "\n",
    "print(cycle_node_1.val if cycle_node_1 else \"No cycle\")  # Expected output: 2\n",
    "print(cycle_node_2.val if cycle_node_2 else \"No cycle\")  # Expected output: 1\n",
    "print(cycle_node_3.val if cycle_node_3 else \"No cycle\")  # Expected output: No cycle\n"
   ]
  },
  {
   "cell_type": "code",
   "execution_count": null,
   "metadata": {},
   "outputs": [],
   "source": []
  },
  {
   "cell_type": "code",
   "execution_count": null,
   "metadata": {},
   "outputs": [],
   "source": []
  },
  {
   "cell_type": "markdown",
   "metadata": {},
   "source": [
    "# Problem Challenge 1 - Palindrome LinkedList (medium).py"
   ]
  },
  {
   "cell_type": "code",
   "execution_count": 15,
   "metadata": {},
   "outputs": [
    {
     "data": {
      "text/plain": [
       "' \\n3. Pattern Fast & Slow pointers/Problem Challenge 1 - Palindrome LinkedList (medium).py\\n\\nhttps://github.com/josephhlwang/GrokkingCoding/blob/main/3.%20Pattern%20Fast%20%26%20Slow%20pointers/Problem%20Challenge%201%20-%20Palindrome%20LinkedList%20(medium).py\\n\\nProblem Challenge 1\\nPalindrome LinkedList (medium)\\n\\nGiven the head of a Singly LinkedList, write a method to check if the LinkedList is a palindrome or not.\\n\\nYour algorithm should use constant space and the input LinkedList should be in the original form once the algorithm is finished. The algorithm should have O(N)O(N) time complexity where ‘N’ is the number of nodes in the LinkedList.\\n\\nExample 1:\\n\\nInput: 2 -> 4 -> 6 -> 4 -> 2 -> null\\nOutput: true\\n\\nExample 2:\\n\\nInput: 2 -> 4 -> 6 -> 4 -> 2 -> 2 -> null\\nOutput: false\\n'"
      ]
     },
     "execution_count": 15,
     "metadata": {},
     "output_type": "execute_result"
    }
   ],
   "source": [
    "\"\"\" \n",
    "3. Pattern Fast & Slow pointers/Problem Challenge 1 - Palindrome LinkedList (medium).py\n",
    "\n",
    "https://github.com/josephhlwang/GrokkingCoding/blob/main/3.%20Pattern%20Fast%20%26%20Slow%20pointers/Problem%20Challenge%201%20-%20Palindrome%20LinkedList%20(medium).py\n",
    "\n",
    "Problem Challenge 1\n",
    "Palindrome LinkedList (medium)\n",
    "\n",
    "Given the head of a Singly LinkedList, write a method to check if the LinkedList is a palindrome or not.\n",
    "\n",
    "Your algorithm should use constant space and the input LinkedList should be in the original form once the algorithm is finished. The algorithm should have O(N)O(N) time complexity where ‘N’ is the number of nodes in the LinkedList.\n",
    "\n",
    "Example 1:\n",
    "\n",
    "Input: 2 -> 4 -> 6 -> 4 -> 2 -> null\n",
    "Output: true\n",
    "\n",
    "Example 2:\n",
    "\n",
    "Input: 2 -> 4 -> 6 -> 4 -> 2 -> 2 -> null\n",
    "Output: false\n",
    "\"\"\""
   ]
  },
  {
   "cell_type": "code",
   "execution_count": 16,
   "metadata": {},
   "outputs": [
    {
     "name": "stdout",
     "output_type": "stream",
     "text": [
      "True\n",
      "False\n"
     ]
    }
   ],
   "source": [
    "class ListNode:\n",
    "    def __init__(self, val=0, next=None):\n",
    "        self.val = val\n",
    "        self.next = next\n",
    "\n",
    "def isPalindrome(head: ListNode) -> bool:\n",
    "    # Edge case: Empty list or single element is always a palindrome\n",
    "    if not head or not head.next:\n",
    "        return True\n",
    "\n",
    "    # Step 1: Find the middle of the linked list using slow and fast pointers\n",
    "    slow = fast = head\n",
    "    while fast and fast.next:\n",
    "        slow = slow.next\n",
    "        fast = fast.next.next\n",
    "\n",
    "    # Step 2: Reverse the second half of the list\n",
    "    prev = None\n",
    "    while slow:\n",
    "        next_node = slow.next\n",
    "        slow.next = prev\n",
    "        prev = slow\n",
    "        slow = next_node\n",
    "    \n",
    "    # Step 3: Compare the first and second half\n",
    "    left, right = head, prev\n",
    "    while right:  # We only need to compare until the end of the second half\n",
    "        if left.val != right.val:\n",
    "            return False\n",
    "        left = left.next\n",
    "        right = right.next\n",
    "\n",
    "    # Step 4: Return True if the list is a palindrome\n",
    "    return True\n",
    "\n",
    "# Helper function to create a linked list from a list of values\n",
    "def create_linked_list(values):\n",
    "    head = ListNode(values[0])\n",
    "    current = head\n",
    "    for value in values[1:]:\n",
    "        current.next = ListNode(value)\n",
    "        current = current.next\n",
    "    return head\n",
    "\n",
    "# Test cases\n",
    "test_list_1 = create_linked_list([2, 4, 6, 4, 2])\n",
    "test_list_2 = create_linked_list([2, 4, 6, 4, 2, 2])\n",
    "\n",
    "print(isPalindrome(test_list_1))  # Output: True\n",
    "print(isPalindrome(test_list_2))  # Output: False\n",
    "\n"
   ]
  },
  {
   "cell_type": "code",
   "execution_count": null,
   "metadata": {},
   "outputs": [],
   "source": []
  },
  {
   "cell_type": "code",
   "execution_count": null,
   "metadata": {},
   "outputs": [],
   "source": []
  },
  {
   "cell_type": "code",
   "execution_count": null,
   "metadata": {},
   "outputs": [],
   "source": []
  },
  {
   "cell_type": "code",
   "execution_count": null,
   "metadata": {},
   "outputs": [],
   "source": []
  },
  {
   "cell_type": "code",
   "execution_count": null,
   "metadata": {},
   "outputs": [],
   "source": []
  },
  {
   "cell_type": "code",
   "execution_count": null,
   "metadata": {},
   "outputs": [],
   "source": []
  }
 ],
 "metadata": {
  "kernelspec": {
   "display_name": "Python 3",
   "language": "python",
   "name": "python3"
  },
  "language_info": {
   "codemirror_mode": {
    "name": "ipython",
    "version": 3
   },
   "file_extension": ".py",
   "mimetype": "text/x-python",
   "name": "python",
   "nbconvert_exporter": "python",
   "pygments_lexer": "ipython3",
   "version": "3.9.6"
  }
 },
 "nbformat": 4,
 "nbformat_minor": 2
}
