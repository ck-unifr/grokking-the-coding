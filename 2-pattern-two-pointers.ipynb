{
 "cells": [
  {
   "cell_type": "code",
   "execution_count": null,
   "metadata": {},
   "outputs": [],
   "source": []
  },
  {
   "cell_type": "markdown",
   "metadata": {},
   "source": [
    "# 2.1 Pair with Target Sum (easy)"
   ]
  },
  {
   "cell_type": "code",
   "execution_count": 1,
   "metadata": {},
   "outputs": [
    {
     "data": {
      "text/plain": [
       "'\\nhttps://github.com/dipjul/Grokking-the-Coding-Interview-Patterns-for-Coding-Questions/blob/master/2.-pattern-two-pointers/2.1-pair-with-target-sum-easy.md\\n\\nGiven an array of integers nums and an integer target, return indices of the two numbers such that they add up to target.\\n\\nYou may assume that each input would have exactly** one solution**, and you may not use the same element twice.\\n\\nYou can return the answer in any order.\\n\\nExample 1:\\n\\nInput: nums = [2,7,11,15], target = 9\\nOutput: [0,1]\\nOutput: Because nums[0] + nums[1] == 9, we return [0, 1].\\nExample 2:\\n\\nInput: nums = [3,2,4], target = 6\\nOutput: [1,2]\\nExample 3:\\n\\nInput: nums = [3,3], target = 6\\nOutput: [0,1]\\nConstraints:\\n\\n2 <= nums.length <= 104\\n-109 <= nums[i] <= 109\\n-109 <= target <= 109\\nOnly one valid answer exists.\\nFollow-up: Can you come up with an algorithm that is less than O(n2) time complexity?\\n\\n'"
      ]
     },
     "execution_count": 1,
     "metadata": {},
     "output_type": "execute_result"
    }
   ],
   "source": [
    "\"\"\"\n",
    "https://github.com/dipjul/Grokking-the-Coding-Interview-Patterns-for-Coding-Questions/blob/master/2.-pattern-two-pointers/2.1-pair-with-target-sum-easy.md\n",
    "\n",
    "Given an array of integers nums and an integer target, return indices of the two numbers such that they add up to target.\n",
    "\n",
    "You may assume that each input would have exactly** one solution**, and you may not use the same element twice.\n",
    "\n",
    "You can return the answer in any order.\n",
    "\n",
    "Example 1:\n",
    "\n",
    "Input: nums = [2,7,11,15], target = 9\n",
    "Output: [0,1]\n",
    "Output: Because nums[0] + nums[1] == 9, we return [0, 1].\n",
    "Example 2:\n",
    "\n",
    "Input: nums = [3,2,4], target = 6\n",
    "Output: [1,2]\n",
    "Example 3:\n",
    "\n",
    "Input: nums = [3,3], target = 6\n",
    "Output: [0,1]\n",
    "Constraints:\n",
    "\n",
    "2 <= nums.length <= 104\n",
    "-109 <= nums[i] <= 109\n",
    "-109 <= target <= 109\n",
    "Only one valid answer exists.\n",
    "Follow-up: Can you come up with an algorithm that is less than O(n2) time complexity?\n",
    "\n",
    "\"\"\""
   ]
  },
  {
   "cell_type": "code",
   "execution_count": 3,
   "metadata": {},
   "outputs": [],
   "source": [
    "def two_sum(nums, target):\n",
    "    num_map = {}\n",
    "    for i, num in enumerate(nums):\n",
    "        complement = target - num \n",
    "        if complement in num_map:\n",
    "            return [num_map[complement], i]\n",
    "        num_map[num] = i \n",
    "    return []"
   ]
  },
  {
   "cell_type": "code",
   "execution_count": 4,
   "metadata": {},
   "outputs": [
    {
     "name": "stdout",
     "output_type": "stream",
     "text": [
      "[0, 1]\n",
      "[1, 2]\n",
      "[0, 1]\n"
     ]
    }
   ],
   "source": [
    "print(two_sum([2, 7, 11, 15], 9))  # Output: [0, 1]\n",
    "print(two_sum([3, 2, 4], 6))      # Output: [1, 2]\n",
    "print(two_sum([3, 3], 6))         # Output: [0, 1]\n"
   ]
  },
  {
   "cell_type": "code",
   "execution_count": 6,
   "metadata": {},
   "outputs": [
    {
     "data": {
      "text/plain": [
       "'\\nTime Complexity:\\nThe algorithm runs in O(n) time because it iterates through the nums array once.\\nEach lookup (complement in num_map) and insertion (num_map[num] = i) in the dictionary takes O(1) on average.\\nTherefore, the overall time complexity is O(n).\\n\\nSpace Complexity:\\nThe algorithm uses a dictionary (num_map) to store at most n elements (in the worst case, when no complement is found until the end).\\nHence, the space complexity is O(n).\\n\\n'"
      ]
     },
     "execution_count": 6,
     "metadata": {},
     "output_type": "execute_result"
    }
   ],
   "source": [
    "\"\"\"\n",
    "Time Complexity:\n",
    "The algorithm runs in O(n) time because it iterates through the nums array once.\n",
    "Each lookup (complement in num_map) and insertion (num_map[num] = i) in the dictionary takes O(1) on average.\n",
    "Therefore, the overall time complexity is O(n).\n",
    "\n",
    "Space Complexity:\n",
    "The algorithm uses a dictionary (num_map) to store at most n elements (in the worst case, when no complement is found until the end).\n",
    "Hence, the space complexity is O(n).\n",
    "\n",
    "\"\"\""
   ]
  },
  {
   "cell_type": "code",
   "execution_count": 7,
   "metadata": {},
   "outputs": [],
   "source": [
    "def two_sum_sorted(nums, target):\n",
    "    nums_with_index = [(num, i) for i, num in enumerate(nums)]\n",
    "    nums_with_index.sort()\n",
    "    left, right = 0, len(nums)-1\n",
    "    while left < right:\n",
    "        current_sum = nums_with_index[left][0] + nums_with_index[right][0]\n",
    "        if current_sum == target:\n",
    "            return [nums_with_index[left][1], nums_with_index[right][1]]\n",
    "        if current_sum < target:\n",
    "            left += 1\n",
    "        else:\n",
    "            right -= 1\n",
    "    return []"
   ]
  },
  {
   "cell_type": "code",
   "execution_count": 8,
   "metadata": {},
   "outputs": [
    {
     "name": "stdout",
     "output_type": "stream",
     "text": [
      "[0, 1]\n",
      "[1, 2]\n",
      "[0, 1]\n"
     ]
    }
   ],
   "source": [
    "# Example usage\n",
    "print(two_sum_sorted([2, 7, 11, 15], 9))  # Output: [0, 1]\n",
    "print(two_sum_sorted([3, 2, 4], 6))      # Output: [1, 2]\n",
    "print(two_sum_sorted([3, 3], 6))         # Output: [0, 1]\n"
   ]
  },
  {
   "cell_type": "code",
   "execution_count": 10,
   "metadata": {},
   "outputs": [
    {
     "data": {
      "text/plain": [
       "'\\nTime Complexity:\\nSorting takes O(n log n).\\nThe two-pointer traversal takes O(n).\\nOverall time complexity: O(n log n) (due to sorting).\\n\\nSpace Complexity:\\nO(n) for storing original indices.\\n\\n'"
      ]
     },
     "execution_count": 10,
     "metadata": {},
     "output_type": "execute_result"
    }
   ],
   "source": [
    "\"\"\"\n",
    "Time Complexity:\n",
    "Sorting takes O(n log n).\n",
    "The two-pointer traversal takes O(n).\n",
    "Overall time complexity: O(n log n) (due to sorting).\n",
    "\n",
    "Space Complexity:\n",
    "O(n) for storing original indices.\n",
    "\n",
    "\"\"\""
   ]
  },
  {
   "cell_type": "code",
   "execution_count": null,
   "metadata": {},
   "outputs": [],
   "source": []
  },
  {
   "cell_type": "code",
   "execution_count": null,
   "metadata": {},
   "outputs": [],
   "source": []
  },
  {
   "cell_type": "code",
   "execution_count": null,
   "metadata": {},
   "outputs": [],
   "source": []
  },
  {
   "cell_type": "code",
   "execution_count": null,
   "metadata": {},
   "outputs": [],
   "source": []
  },
  {
   "cell_type": "code",
   "execution_count": null,
   "metadata": {},
   "outputs": [],
   "source": []
  },
  {
   "cell_type": "code",
   "execution_count": null,
   "metadata": {},
   "outputs": [],
   "source": []
  },
  {
   "cell_type": "code",
   "execution_count": null,
   "metadata": {},
   "outputs": [],
   "source": []
  },
  {
   "cell_type": "code",
   "execution_count": null,
   "metadata": {},
   "outputs": [],
   "source": []
  },
  {
   "cell_type": "code",
   "execution_count": null,
   "metadata": {},
   "outputs": [],
   "source": []
  },
  {
   "cell_type": "code",
   "execution_count": null,
   "metadata": {},
   "outputs": [],
   "source": []
  },
  {
   "cell_type": "code",
   "execution_count": null,
   "metadata": {},
   "outputs": [],
   "source": []
  },
  {
   "cell_type": "code",
   "execution_count": null,
   "metadata": {},
   "outputs": [],
   "source": []
  },
  {
   "cell_type": "code",
   "execution_count": null,
   "metadata": {},
   "outputs": [],
   "source": []
  },
  {
   "cell_type": "code",
   "execution_count": null,
   "metadata": {},
   "outputs": [],
   "source": []
  },
  {
   "cell_type": "code",
   "execution_count": null,
   "metadata": {},
   "outputs": [],
   "source": []
  }
 ],
 "metadata": {
  "kernelspec": {
   "display_name": "Python 3",
   "language": "python",
   "name": "python3"
  },
  "language_info": {
   "codemirror_mode": {
    "name": "ipython",
    "version": 3
   },
   "file_extension": ".py",
   "mimetype": "text/x-python",
   "name": "python",
   "nbconvert_exporter": "python",
   "pygments_lexer": "ipython3",
   "version": "3.9.6"
  }
 },
 "nbformat": 4,
 "nbformat_minor": 2
}
