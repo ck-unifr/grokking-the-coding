{
 "cells": [
  {
   "cell_type": "code",
   "execution_count": null,
   "metadata": {},
   "outputs": [],
   "source": []
  },
  {
   "cell_type": "markdown",
   "metadata": {},
   "source": [
    "# Binary Tree Level Order Traversal (easy)"
   ]
  },
  {
   "cell_type": "code",
   "execution_count": 1,
   "metadata": {},
   "outputs": [
    {
     "data": {
      "text/plain": [
       "'\\n7. Pattern Breath Depth First Search/Binary Tree Level Order Traversal (easy).py\\n\\nProblem Statement \\nGiven a binary tree, populate an array to represent its level-by-level traversal. \\nYou should populate the values of all nodes of each level from left to right in separate sub-arrays.\\n'"
      ]
     },
     "execution_count": 1,
     "metadata": {},
     "output_type": "execute_result"
    }
   ],
   "source": [
    "\"\"\"\n",
    "7. Pattern Breath Depth First Search/Binary Tree Level Order Traversal (easy).py\n",
    "\n",
    "Problem Statement \n",
    "Given a binary tree, populate an array to represent its level-by-level traversal. \n",
    "You should populate the values of all nodes of each level from left to right in separate sub-arrays.\n",
    "\"\"\"\n"
   ]
  },
  {
   "cell_type": "code",
   "execution_count": 2,
   "metadata": {},
   "outputs": [
    {
     "name": "stdout",
     "output_type": "stream",
     "text": [
      "[1]\n",
      "[2, 3]\n",
      "[4, 5, 6]\n"
     ]
    }
   ],
   "source": [
    "from collections import deque\n",
    "\n",
    "class TreeNode:\n",
    "    def __init__(self, val=0, left=None, right=None):\n",
    "        self.val = val\n",
    "        self.left = left\n",
    "        self.right = right\n",
    "\n",
    "def level_order_traversal(root):\n",
    "    if not root:\n",
    "        return []\n",
    "    \n",
    "    result = []  # To store the level-by-level traversal\n",
    "    queue = deque([root])  # Initialize the queue with the root\n",
    "    \n",
    "    while queue:\n",
    "        level_size = len(queue)  # Number of nodes at the current level\n",
    "        level_values = []  # List to store the node values at the current level\n",
    "        \n",
    "        for _ in range(level_size):\n",
    "            node = queue.popleft()  # Dequeue the next node\n",
    "            level_values.append(node.val)  # Add the node's value to the current level list\n",
    "            \n",
    "            if node.left:\n",
    "                queue.append(node.left)  # Enqueue left child if it exists\n",
    "            if node.right:\n",
    "                queue.append(node.right)  # Enqueue right child if it exists\n",
    "        \n",
    "        result.append(level_values)  # Append the current level's values to the result\n",
    "    \n",
    "    return result\n",
    "\n",
    "# Example usage:\n",
    "# Creating a binary tree:\n",
    "#         1\n",
    "#        / \\\n",
    "#       2   3\n",
    "#      / \\   \\\n",
    "#     4   5   6\n",
    "\n",
    "root = TreeNode(1)\n",
    "root.left = TreeNode(2)\n",
    "root.right = TreeNode(3)\n",
    "root.left.left = TreeNode(4)\n",
    "root.left.right = TreeNode(5)\n",
    "root.right.right = TreeNode(6)\n",
    "\n",
    "# Performing level order traversal\n",
    "result = level_order_traversal(root)\n",
    "\n",
    "# Printing the result\n",
    "for level in result:\n",
    "    print(level)\n"
   ]
  },
  {
   "cell_type": "code",
   "execution_count": 3,
   "metadata": {},
   "outputs": [
    {
     "data": {
      "text/plain": [
       "\" \\nExplanation:\\nTreeNode class: A basic class to represent a node in the binary tree. Each node has a val (value), left (left child), and right (right child).\\nlevel_order_traversal function:\\nQueue initialization: We start by adding the root node to the queue.\\nProcessing levels: We process nodes level by level by checking the size of the queue (i.e., the number of nodes at the current level). For each node at the current level, we add its value to the level_values list and enqueue its left and right children.\\nAfter processing all nodes at the current level, we append level_values to the result.\\nResult: The result list contains sub-arrays representing each level's node values.\\n\\nTime Complexity:\\nO(n), where n is the number of nodes in the binary tree. We visit each node exactly once.\\nSpace Complexity:\\nO(n), where n is the number of nodes in the binary tree. The queue can hold all the nodes at the current level, and the space required to store the result is proportional to the number of nodes in the tree.\\n\\n\""
      ]
     },
     "execution_count": 3,
     "metadata": {},
     "output_type": "execute_result"
    }
   ],
   "source": [
    "\"\"\" \n",
    "Explanation:\n",
    "TreeNode class: A basic class to represent a node in the binary tree. Each node has a val (value), left (left child), and right (right child).\n",
    "level_order_traversal function:\n",
    "Queue initialization: We start by adding the root node to the queue.\n",
    "Processing levels: We process nodes level by level by checking the size of the queue (i.e., the number of nodes at the current level). For each node at the current level, we add its value to the level_values list and enqueue its left and right children.\n",
    "After processing all nodes at the current level, we append level_values to the result.\n",
    "Result: The result list contains sub-arrays representing each level's node values.\n",
    "\n",
    "Time Complexity:\n",
    "O(n), where n is the number of nodes in the binary tree. We visit each node exactly once.\n",
    "Space Complexity:\n",
    "O(n), where n is the number of nodes in the binary tree. The queue can hold all the nodes at the current level, and the space required to store the result is proportional to the number of nodes in the tree.\n",
    "\n",
    "\"\"\""
   ]
  },
  {
   "cell_type": "code",
   "execution_count": null,
   "metadata": {},
   "outputs": [],
   "source": []
  },
  {
   "cell_type": "markdown",
   "metadata": {},
   "source": [
    "# Reverse Level Order Traversal (easy)"
   ]
  },
  {
   "cell_type": "code",
   "execution_count": 5,
   "metadata": {},
   "outputs": [
    {
     "data": {
      "text/plain": [
       "'\\n7. Pattern Breath Depth First Search/Reverse Level Order Traversal (easy).py\\n\\nProblem Statement \\nGiven a binary tree, populate an array to represent its level-by-level traversal in reverse order, i.e., the lowest level comes first. \\nYou should populate the values of all nodes in each level from left to right in separate sub-arrays.\\n'"
      ]
     },
     "execution_count": 5,
     "metadata": {},
     "output_type": "execute_result"
    }
   ],
   "source": [
    "\"\"\"\n",
    "7. Pattern Breath Depth First Search/Reverse Level Order Traversal (easy).py\n",
    "\n",
    "Problem Statement \n",
    "Given a binary tree, populate an array to represent its level-by-level traversal in reverse order, i.e., the lowest level comes first. \n",
    "You should populate the values of all nodes in each level from left to right in separate sub-arrays.\n",
    "\"\"\"\n"
   ]
  },
  {
   "cell_type": "code",
   "execution_count": 6,
   "metadata": {},
   "outputs": [
    {
     "name": "stdout",
     "output_type": "stream",
     "text": [
      "[4, 5, 6]\n",
      "[2, 3]\n",
      "[1]\n"
     ]
    }
   ],
   "source": [
    "from collections import deque\n",
    "\n",
    "class TreeNode:\n",
    "    def __init__(self, val=0, left=None, right=None):\n",
    "        self.val = val\n",
    "        self.left = left\n",
    "        self.right = right\n",
    "\n",
    "def level_order_traversal_reverse(root):\n",
    "    if not root:\n",
    "        return []\n",
    "    \n",
    "    result = []  # To store the level-by-level traversal\n",
    "    queue = deque([root])  # Initialize the queue with the root\n",
    "    \n",
    "    while queue:\n",
    "        level_size = len(queue)  # Number of nodes at the current level\n",
    "        level_values = []  # List to store the node values at the current level\n",
    "        \n",
    "        for _ in range(level_size):\n",
    "            node = queue.popleft()  # Dequeue the next node\n",
    "            level_values.append(node.val)  # Add the node's value to the current level list\n",
    "            \n",
    "            if node.left:\n",
    "                queue.append(node.left)  # Enqueue left child if it exists\n",
    "            if node.right:\n",
    "                queue.append(node.right)  # Enqueue right child if it exists\n",
    "        \n",
    "        result.append(level_values)  # Append the current level's values to the result\n",
    "    \n",
    "    return result[::-1]  # Reverse the result list to get bottom-up order\n",
    "\n",
    "# Example usage:\n",
    "# Creating a binary tree:\n",
    "#         1\n",
    "#        / \\\n",
    "#       2   3\n",
    "#      / \\   \\\n",
    "#     4   5   6\n",
    "\n",
    "root = TreeNode(1)\n",
    "root.left = TreeNode(2)\n",
    "root.right = TreeNode(3)\n",
    "root.left.left = TreeNode(4)\n",
    "root.left.right = TreeNode(5)\n",
    "root.right.right = TreeNode(6)\n",
    "\n",
    "# Performing level order traversal in reverse\n",
    "result = level_order_traversal_reverse(root)\n",
    "\n",
    "# Printing the result\n",
    "for level in result:\n",
    "    print(level)\n"
   ]
  },
  {
   "cell_type": "code",
   "execution_count": 7,
   "metadata": {},
   "outputs": [
    {
     "data": {
      "text/plain": [
       "\" \\nExplanation:\\nTreeNode class: Represents a node in the binary tree, with val for the node's value and left and right for its children.\\nlevel_order_traversal_reverse function:\\nWe initialize a queue with the root node and start processing the tree level by level.\\nFor each level, we calculate the number of nodes at that level (level_size), process each node at the level, and enqueue its left and right children if they exist.\\nThe node values for each level are stored in the level_values list, which is then appended to the result.\\nAfter the traversal is complete, the result is reversed using [::-1] to ensure the lowest level comes first.\\n\\nTime Complexity:\\nO(n), where n is the number of nodes in the binary tree. We visit each node exactly once.\\nSpace Complexity:\\nO(n), where n is the number of nodes in the binary tree. The queue can hold up to n nodes, and we also store the result with n node values.\\n\\n\""
      ]
     },
     "execution_count": 7,
     "metadata": {},
     "output_type": "execute_result"
    }
   ],
   "source": [
    "\"\"\" \n",
    "Explanation:\n",
    "TreeNode class: Represents a node in the binary tree, with val for the node's value and left and right for its children.\n",
    "level_order_traversal_reverse function:\n",
    "We initialize a queue with the root node and start processing the tree level by level.\n",
    "For each level, we calculate the number of nodes at that level (level_size), process each node at the level, and enqueue its left and right children if they exist.\n",
    "The node values for each level are stored in the level_values list, which is then appended to the result.\n",
    "After the traversal is complete, the result is reversed using [::-1] to ensure the lowest level comes first.\n",
    "\n",
    "Time Complexity:\n",
    "O(n), where n is the number of nodes in the binary tree. We visit each node exactly once.\n",
    "Space Complexity:\n",
    "O(n), where n is the number of nodes in the binary tree. The queue can hold up to n nodes, and we also store the result with n node values.\n",
    "\n",
    "\"\"\""
   ]
  },
  {
   "cell_type": "code",
   "execution_count": null,
   "metadata": {},
   "outputs": [],
   "source": []
  },
  {
   "cell_type": "code",
   "execution_count": null,
   "metadata": {},
   "outputs": [],
   "source": []
  },
  {
   "cell_type": "code",
   "execution_count": null,
   "metadata": {},
   "outputs": [],
   "source": []
  },
  {
   "cell_type": "code",
   "execution_count": null,
   "metadata": {},
   "outputs": [],
   "source": []
  },
  {
   "cell_type": "code",
   "execution_count": null,
   "metadata": {},
   "outputs": [],
   "source": []
  },
  {
   "cell_type": "code",
   "execution_count": null,
   "metadata": {},
   "outputs": [],
   "source": []
  },
  {
   "cell_type": "code",
   "execution_count": null,
   "metadata": {},
   "outputs": [],
   "source": []
  },
  {
   "cell_type": "code",
   "execution_count": null,
   "metadata": {},
   "outputs": [],
   "source": []
  },
  {
   "cell_type": "code",
   "execution_count": null,
   "metadata": {},
   "outputs": [],
   "source": []
  }
 ],
 "metadata": {
  "kernelspec": {
   "display_name": "Python 3",
   "language": "python",
   "name": "python3"
  },
  "language_info": {
   "codemirror_mode": {
    "name": "ipython",
    "version": 3
   },
   "file_extension": ".py",
   "mimetype": "text/x-python",
   "name": "python",
   "nbconvert_exporter": "python",
   "pygments_lexer": "ipython3",
   "version": "3.9.6"
  }
 },
 "nbformat": 4,
 "nbformat_minor": 2
}
