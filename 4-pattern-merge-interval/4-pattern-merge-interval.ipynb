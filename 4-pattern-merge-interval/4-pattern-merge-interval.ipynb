{
 "cells": [
  {
   "cell_type": "code",
   "execution_count": null,
   "metadata": {},
   "outputs": [],
   "source": []
  },
  {
   "cell_type": "markdown",
   "metadata": {},
   "source": [
    "# Conflicting Appointments (medium).py"
   ]
  },
  {
   "cell_type": "code",
   "execution_count": 2,
   "metadata": {},
   "outputs": [
    {
     "data": {
      "text/plain": [
       "' \\n4. Pattern Merge Intervals/Conflicting Appointments (medium).py\\nhttps://github.com/josephhlwang/GrokkingCoding/blob/main/4.%20Pattern%20Merge%20Intervals/Conflicting%20Appointments%20(medium).py\\n\\n# Problem Statement\\n# Given an array of intervals representing ‘N’ appointments, find out if a person can attend all the appointments.\\n\\n# Example 1:\\n\\n# Appointments: [[1,4], [2,5], [7,9]]\\n# Output: false\\n# Explanation: Since [1,4] and [2,5] overlap, a person cannot attend both of these appointments.\\n\\n# Example 2:\\n\\n# Appointments: [[6,7], [2,4], [8,12]]\\n# Output: true\\n# Explanation: None of the appointments overlap, therefore a person can attend all of them.\\n\\n# Example 3:\\n\\n# Appointments: [[4,5], [2,3], [3,6]]\\n# Output: false\\n# Explanation: Since [4,5] and [3,6] overlap, a person cannot attend both of these appointments.\\n\\n\\n'"
      ]
     },
     "execution_count": 2,
     "metadata": {},
     "output_type": "execute_result"
    }
   ],
   "source": [
    "\"\"\" \n",
    "4. Pattern Merge Intervals/Conflicting Appointments (medium).py\n",
    "https://github.com/josephhlwang/GrokkingCoding/blob/main/4.%20Pattern%20Merge%20Intervals/Conflicting%20Appointments%20(medium).py\n",
    "\n",
    "# Problem Statement\n",
    "# Given an array of intervals representing ‘N’ appointments, find out if a person can attend all the appointments.\n",
    "\n",
    "# Example 1:\n",
    "\n",
    "# Appointments: [[1,4], [2,5], [7,9]]\n",
    "# Output: false\n",
    "# Explanation: Since [1,4] and [2,5] overlap, a person cannot attend both of these appointments.\n",
    "\n",
    "# Example 2:\n",
    "\n",
    "# Appointments: [[6,7], [2,4], [8,12]]\n",
    "# Output: true\n",
    "# Explanation: None of the appointments overlap, therefore a person can attend all of them.\n",
    "\n",
    "# Example 3:\n",
    "\n",
    "# Appointments: [[4,5], [2,3], [3,6]]\n",
    "# Output: false\n",
    "# Explanation: Since [4,5] and [3,6] overlap, a person cannot attend both of these appointments.\n",
    "\n",
    "\n",
    "\"\"\""
   ]
  },
  {
   "cell_type": "code",
   "execution_count": 3,
   "metadata": {},
   "outputs": [
    {
     "name": "stdout",
     "output_type": "stream",
     "text": [
      "False\n",
      "True\n",
      "False\n"
     ]
    }
   ],
   "source": [
    "def can_attent_appointment(intervals):\n",
    "    intervals.sort(key=lambda x:x[0])\n",
    "\n",
    "    for i in range(1, len(intervals)):\n",
    "        if intervals[i-1][1] > intervals[i][0]:\n",
    "            return False \n",
    "    \n",
    "    return True \n",
    "\n",
    "print(can_attent_appointment([[1,4], [2,5], [7,9]]))  # Output: False\n",
    "print(can_attent_appointment([[6,7], [2,4], [8,12]]))  # Output: True\n",
    "print(can_attent_appointment([[4,5], [2,3], [3,6]]))  # Output: False\n"
   ]
  },
  {
   "cell_type": "code",
   "execution_count": 5,
   "metadata": {},
   "outputs": [
    {
     "data": {
      "text/plain": [
       "\"  \\nExplanation:\\nSorting: The intervals are first sorted by the start time. This ensures that we only need to check each interval against the next one.\\n\\nFor example, after sorting the intervals:\\n\\n[[1, 4], [2, 5], [7, 9]] becomes [[1, 4], [2, 5], [7, 9]] (already sorted).\\n[[6, 7], [2, 4], [8, 12]] becomes [[2, 4], [6, 7], [8, 12]].\\nComparison: We iterate through the sorted intervals and check if the current interval's end time (intervals[i-1][1]) is greater than the next interval's start time (intervals[i][0]). If it is, it means there's an overlap, and we return false.\\n\\nResult: If we complete the iteration without finding an overlap, we return true, meaning the person can attend all appointments.\\n\\nTime and Space Complexity:\\nTime Complexity: O(N log N), where N is the number of intervals. This is due to the sorting step, which takes O(N log N) time. \\nThe subsequent comparison step takes O(N) time.\\nSpace Complexity: O(1), as we're only using a few variables for the comparison and not using any additional data structures.\\n\\n\""
      ]
     },
     "execution_count": 5,
     "metadata": {},
     "output_type": "execute_result"
    }
   ],
   "source": [
    "\"\"\"  \n",
    "Explanation:\n",
    "Sorting: The intervals are first sorted by the start time. This ensures that we only need to check each interval against the next one.\n",
    "\n",
    "For example, after sorting the intervals:\n",
    "\n",
    "[[1, 4], [2, 5], [7, 9]] becomes [[1, 4], [2, 5], [7, 9]] (already sorted).\n",
    "[[6, 7], [2, 4], [8, 12]] becomes [[2, 4], [6, 7], [8, 12]].\n",
    "Comparison: We iterate through the sorted intervals and check if the current interval's end time (intervals[i-1][1]) is greater than the next interval's start time (intervals[i][0]). If it is, it means there's an overlap, and we return false.\n",
    "\n",
    "Result: If we complete the iteration without finding an overlap, we return true, meaning the person can attend all appointments.\n",
    "\n",
    "Time and Space Complexity:\n",
    "Time Complexity: O(N log N), where N is the number of intervals. This is due to the sorting step, which takes O(N log N) time. \n",
    "The subsequent comparison step takes O(N) time.\n",
    "Space Complexity: O(1), as we're only using a few variables for the comparison and not using any additional data structures.\n",
    "\n",
    "\"\"\""
   ]
  },
  {
   "cell_type": "code",
   "execution_count": null,
   "metadata": {},
   "outputs": [],
   "source": []
  },
  {
   "cell_type": "markdown",
   "metadata": {},
   "source": [
    "# Insert Interval (medium).py"
   ]
  },
  {
   "cell_type": "code",
   "execution_count": null,
   "metadata": {},
   "outputs": [
    {
     "data": {
      "text/plain": [
       "' \\nhttps://github.com/josephhlwang/GrokkingCoding/blob/main/4.%20Pattern%20Merge%20Intervals/Insert%20Interval%20(medium).py\\n4. Pattern Merge Intervals/Insert Interval (medium).py\\n\\nProblem Statement \\nGiven a list of non-overlapping intervals sorted by their start time, insert a given interval at the correct position and merge all necessary intervals to produce a list that has only mutually exclusive intervals.\\n\\nExample 1:\\n\\nInput: Intervals=[[1,3], [5,7], [8,12]], New Interval=[4,6]\\nOutput: [[1,3], [4,7], [8,12]]\\nExplanation: After insertion, since [4,6] overlaps with [5,7], we merged them into one [4,7].\\n\\nExample 2:\\n\\nInput: Intervals=[[1,3], [5,7], [8,12]], New Interval=[4,10]\\nOutput: [[1,3], [4,12]]\\nExplanation: After insertion, since [4,10] overlaps with [5,7] & [8,12], we merged them into [4,12].\\n\\nExample 3:\\n\\nInput: Intervals=[[2,3],[5,7]], New Interval=[1,4]\\nOutput: [[1,4], [5,7]]\\nExplanation: After insertion, since [1,4] overlaps with [2,3], we merged them into one [1,4].\\n'"
      ]
     },
     "execution_count": 6,
     "metadata": {},
     "output_type": "execute_result"
    }
   ],
   "source": [
    "\"\"\" \n",
    "https://github.com/josephhlwang/GrokkingCoding/blob/main/4.%20Pattern%20Merge%20Intervals/Insert%20Interval%20(medium).py\n",
    "4. Pattern Merge Intervals/Insert Interval (medium).py\n",
    "\n",
    "Problem Statement \n",
    "Given a list of non-overlapping intervals sorted by their start time, \n",
    "insert a given interval at the correct position and merge all necessary intervals to produce a list that has only mutually exclusive intervals.\n",
    "\n",
    "Example 1:\n",
    "\n",
    "Input: Intervals=[[1,3], [5,7], [8,12]], New Interval=[4,6]\n",
    "Output: [[1,3], [4,7], [8,12]]\n",
    "Explanation: After insertion, since [4,6] overlaps with [5,7], we merged them into one [4,7].\n",
    "\n",
    "Example 2:\n",
    "\n",
    "Input: Intervals=[[1,3], [5,7], [8,12]], New Interval=[4,10]\n",
    "Output: [[1,3], [4,12]]\n",
    "Explanation: After insertion, since [4,10] overlaps with [5,7] & [8,12], we merged them into [4,12].\n",
    "\n",
    "Example 3:\n",
    "\n",
    "Input: Intervals=[[2,3],[5,7]], New Interval=[1,4]\n",
    "Output: [[1,4], [5,7]]\n",
    "Explanation: After insertion, since [1,4] overlaps with [2,3], we merged them into one [1,4].\n",
    "\"\"\""
   ]
  },
  {
   "cell_type": "code",
   "execution_count": 7,
   "metadata": {},
   "outputs": [
    {
     "name": "stdout",
     "output_type": "stream",
     "text": [
      "[[1, 3], [4, 7], [8, 12]]\n",
      "[[1, 3], [4, 12]]\n",
      "[[1, 4], [5, 7]]\n"
     ]
    }
   ],
   "source": [
    "def insert_interval(intervals, new_interval):\n",
    "    result = []\n",
    "    i = 0\n",
    "    n = len(intervals)\n",
    "\n",
    "    # Add all intervals before the new interval that do not overlap\n",
    "    while i < n and intervals[i][1] < new_interval[0]:\n",
    "        result.append(intervals[i])\n",
    "        i += 1\n",
    "\n",
    "    # Merge overlapping intervals\n",
    "    while i < n and intervals[i][0] <= new_interval[1]:\n",
    "        new_interval[0] = min(new_interval[0], intervals[i][0])\n",
    "        new_interval[1] = max(new_interval[1], intervals[i][1])\n",
    "        i += 1\n",
    "\n",
    "    # Add the merged interval\n",
    "    result.append(new_interval)\n",
    "\n",
    "    # Add remaining intervals\n",
    "    while i < n:\n",
    "        result.append(intervals[i])\n",
    "        i += 1\n",
    "\n",
    "    return result\n",
    "\n",
    "# Example usage:\n",
    "intervals1 = [[1, 3], [5, 7], [8, 12]]\n",
    "new_interval1 = [4, 6]\n",
    "print(insert_interval(intervals1, new_interval1))  # Output: [[1, 3], [4, 7], [8, 12]]\n",
    "\n",
    "intervals2 = [[1, 3], [5, 7], [8, 12]]\n",
    "new_interval2 = [4, 10]\n",
    "print(insert_interval(intervals2, new_interval2))  # Output: [[1, 3], [4, 12]]\n",
    "\n",
    "intervals3 = [[2, 3], [5, 7]]\n",
    "new_interval3 = [1, 4]\n",
    "print(insert_interval(intervals3, new_interval3))  # Output: [[1, 4], [5, 7]]"
   ]
  },
  {
   "cell_type": "code",
   "execution_count": 8,
   "metadata": {},
   "outputs": [
    {
     "data": {
      "text/plain": [
       "' \\nTime Complexity:\\nThe time complexity of this solution is O(n), where n is the number of intervals. This is because we iterate through the intervals once.\\n\\nSpace Complexity:\\nThe space complexity is O(n) in the worst case, as we store the result in a new list.\\n'"
      ]
     },
     "execution_count": 8,
     "metadata": {},
     "output_type": "execute_result"
    }
   ],
   "source": [
    "\"\"\" \n",
    "Time Complexity:\n",
    "The time complexity of this solution is O(n), where n is the number of intervals. This is because we iterate through the intervals once.\n",
    "\n",
    "Space Complexity:\n",
    "The space complexity is O(n) in the worst case, as we store the result in a new list.\n",
    "\"\"\""
   ]
  },
  {
   "cell_type": "code",
   "execution_count": null,
   "metadata": {},
   "outputs": [],
   "source": []
  },
  {
   "cell_type": "markdown",
   "metadata": {},
   "source": [
    "# Merge Intervals (medium).py"
   ]
  },
  {
   "cell_type": "code",
   "execution_count": 9,
   "metadata": {},
   "outputs": [
    {
     "data": {
      "text/plain": [
       "' \\n4. Pattern Merge Intervals/Merge Intervals (medium).py\\nhttps://github.com/josephhlwang/GrokkingCoding/blob/main/4.%20Pattern%20Merge%20Intervals/Merge%20Intervals%20(medium).py\\n\\nExample 1:\\n\\nIntervals: [[1,4], [2,5], [7,9]]\\nOutput: [[1,5], [7,9]]\\nExplanation: Since the first two intervals [1,4] and [2,5] overlap, we merged them into one [1,5].\\n\\nExample 2:\\n\\nIntervals: [[6,7], [2,4], [5,9]]\\nOutput: [[2,4], [5,9]]\\nExplanation: Since the intervals [6,7] and [5,9] overlap, we merged them into one [5,9].\\n \\nExample 3:\\n\\nIntervals: [[1,4], [2,6], [3,5]]\\nOutput: [[1,6]]\\nExplanation: Since all the given intervals overlap, we merged them into one.\\n\\n'"
      ]
     },
     "execution_count": 9,
     "metadata": {},
     "output_type": "execute_result"
    }
   ],
   "source": [
    "\"\"\" \n",
    "4. Pattern Merge Intervals/Merge Intervals (medium).py\n",
    "https://github.com/josephhlwang/GrokkingCoding/blob/main/4.%20Pattern%20Merge%20Intervals/Merge%20Intervals%20(medium).py\n",
    "\n",
    "Example 1:\n",
    "\n",
    "Intervals: [[1,4], [2,5], [7,9]]\n",
    "Output: [[1,5], [7,9]]\n",
    "Explanation: Since the first two intervals [1,4] and [2,5] overlap, we merged them into one [1,5].\n",
    "\n",
    "Example 2:\n",
    "\n",
    "Intervals: [[6,7], [2,4], [5,9]]\n",
    "Output: [[2,4], [5,9]]\n",
    "Explanation: Since the intervals [6,7] and [5,9] overlap, we merged them into one [5,9].\n",
    " \n",
    "Example 3:\n",
    "\n",
    "Intervals: [[1,4], [2,6], [3,5]]\n",
    "Output: [[1,6]]\n",
    "Explanation: Since all the given intervals overlap, we merged them into one.\n",
    "\n",
    "\"\"\""
   ]
  },
  {
   "cell_type": "code",
   "execution_count": 13,
   "metadata": {},
   "outputs": [
    {
     "name": "stdout",
     "output_type": "stream",
     "text": [
      "[[1, 5], [7, 9]]\n",
      "[[2, 4], [5, 9]]\n",
      "[[1, 6]]\n"
     ]
    }
   ],
   "source": [
    "def merge_intervals(intervals):\n",
    "    intervals.sort(key=lambda x:x[0])\n",
    "    merged = []\n",
    "    for interval in intervals:\n",
    "        if not merged or merged[-1][1] < interval[0]:\n",
    "            merged.append(interval)\n",
    "        else:\n",
    "            merged[-1][1] = max(interval[1], merged[-1][1])\n",
    "    return merged\n",
    "\n",
    "# Test cases\n",
    "print(merge_intervals([[1, 4], [2, 5], [7, 9]]))  # Output: [[1, 5], [7, 9]]\n",
    "print(merge_intervals([[6, 7], [2, 4], [5, 9]]))  # Output: [[2, 4], [5, 9]]\n",
    "print(merge_intervals([[1, 4], [2, 6], [3, 5]]))  # Output: [[1, 6]]"
   ]
  },
  {
   "cell_type": "code",
   "execution_count": null,
   "metadata": {},
   "outputs": [],
   "source": []
  },
  {
   "cell_type": "code",
   "execution_count": null,
   "metadata": {},
   "outputs": [],
   "source": []
  },
  {
   "cell_type": "code",
   "execution_count": null,
   "metadata": {},
   "outputs": [],
   "source": []
  },
  {
   "cell_type": "code",
   "execution_count": null,
   "metadata": {},
   "outputs": [],
   "source": []
  },
  {
   "cell_type": "code",
   "execution_count": null,
   "metadata": {},
   "outputs": [],
   "source": []
  },
  {
   "cell_type": "code",
   "execution_count": null,
   "metadata": {},
   "outputs": [],
   "source": []
  },
  {
   "cell_type": "code",
   "execution_count": null,
   "metadata": {},
   "outputs": [],
   "source": []
  },
  {
   "cell_type": "code",
   "execution_count": null,
   "metadata": {},
   "outputs": [],
   "source": []
  },
  {
   "cell_type": "code",
   "execution_count": null,
   "metadata": {},
   "outputs": [],
   "source": []
  }
 ],
 "metadata": {
  "kernelspec": {
   "display_name": "Python 3",
   "language": "python",
   "name": "python3"
  },
  "language_info": {
   "codemirror_mode": {
    "name": "ipython",
    "version": 3
   },
   "file_extension": ".py",
   "mimetype": "text/x-python",
   "name": "python",
   "nbconvert_exporter": "python",
   "pygments_lexer": "ipython3",
   "version": "3.9.6"
  }
 },
 "nbformat": 4,
 "nbformat_minor": 2
}
