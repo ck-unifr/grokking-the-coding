{
 "cells": [
  {
   "cell_type": "code",
   "execution_count": null,
   "metadata": {},
   "outputs": [],
   "source": []
  },
  {
   "cell_type": "code",
   "execution_count": null,
   "metadata": {},
   "outputs": [],
   "source": []
  },
  {
   "cell_type": "markdown",
   "metadata": {},
   "source": [
    "# Subsets (easy).py"
   ]
  },
  {
   "cell_type": "code",
   "execution_count": 1,
   "metadata": {},
   "outputs": [
    {
     "data": {
      "text/plain": [
       "' \\nProblem Statement \\nGiven a set with distinct elements, find all of its distinct subsets.\\n\\nExample 1:\\n\\nInput: [1, 3]\\nOutput: [], [1], [3], [1,3]\\nExample 2:\\n\\nInput: [1, 5, 3]\\nOutput: [], [1], [5], [3], [1,5], [1,3], [5,3], [1,5,3]\\n\\n'"
      ]
     },
     "execution_count": 1,
     "metadata": {},
     "output_type": "execute_result"
    }
   ],
   "source": [
    "\"\"\" \n",
    "Problem Statement \n",
    "Given a set with distinct elements, find all of its distinct subsets.\n",
    "\n",
    "Example 1:\n",
    "\n",
    "Input: [1, 3]\n",
    "Output: [], [1], [3], [1,3]\n",
    "Example 2:\n",
    "\n",
    "Input: [1, 5, 3]\n",
    "Output: [], [1], [5], [3], [1,5], [1,3], [5,3], [1,5,3]\n",
    "\n",
    "\"\"\""
   ]
  },
  {
   "cell_type": "code",
   "execution_count": 2,
   "metadata": {},
   "outputs": [],
   "source": [
    "class Solution(object):\n",
    "    def subsets(self, nums):\n",
    "        combs = []\n",
    "        def dfs(comb, nums):\n",
    "            combs.append(comb)\n",
    "            for i, num in enumerate(nums):\n",
    "                dfs(comb+[num], nums[i+1:])\n",
    "            return \n",
    "        dfs([], nums)\n",
    "        return combs "
   ]
  },
  {
   "cell_type": "code",
   "execution_count": 3,
   "metadata": {},
   "outputs": [
    {
     "data": {
      "text/plain": [
       "' \\nExplanation:\\nBacktracking Function (backtrack):\\n\\nWe define a helper function backtrack(start, current_subset) that takes two arguments:\\nstart: The index from where we should consider the next elements for inclusion.\\ncurrent_subset: The current subset being constructed.\\nWe begin by appending the current_subset to the result list (this is our main answer list).\\nThen, we iterate over the remaining elements of the array and:\\nInclude the current element in the subset.\\nRecursively call backtrack to explore further.\\nAfter exploring, we backtrack by removing the last element and try the next one.\\nMain Function (subsets):\\n\\nThis is the main function that initializes the result list and starts the backtracking process with an empty subset and starting index of 0.\\nExample Walkthrough:\\nInput 1: [1, 3]\\nInitially, the current_subset is empty [].\\nAfter the first call, the empty subset [] is added to the result.\\nWe include 1 in the subset → [1] is added.\\nWe move on to 3 and include it → [1, 3] is added.\\nWe backtrack and remove 3, then consider the subset [3] alone.\\nThe final subsets are [[], [1], [3], [1, 3]].\\nInput 2: [1, 5, 3]\\nInitially, current_subset is empty [].\\nAdd [] to result.\\nInclude 1 → [1] is added.\\nInclude 5 → [1, 5] is added.\\nInclude 3 → [1, 5, 3] is added.\\nWe backtrack and generate subsets [5], [3], [1, 3].\\nThe final subsets are [[], [1], [5], [3], [1, 5], [1, 3], [5, 3], [1, 5, 3]].\\nTime and Space Complexity:\\nTime Complexity: O(2^n), where n is the number of elements in the input list. This is because there are 2^n possible subsets.\\nSpace Complexity: O(n), where n is the depth of the recursion tree. This is the space used by the call stack due to recursion, and also the space used to store the subsets.\\nConclusion:\\nThis solution generates all subsets efficiently using backtracking and ensures that all subsets are distinct by exploring each possible combination of elements.\\n\\n'"
      ]
     },
     "execution_count": 3,
     "metadata": {},
     "output_type": "execute_result"
    }
   ],
   "source": [
    "\"\"\" \n",
    "Explanation:\n",
    "Backtracking Function (backtrack):\n",
    "\n",
    "We define a helper function backtrack(start, current_subset) that takes two arguments:\n",
    "start: The index from where we should consider the next elements for inclusion.\n",
    "current_subset: The current subset being constructed.\n",
    "We begin by appending the current_subset to the result list (this is our main answer list).\n",
    "Then, we iterate over the remaining elements of the array and:\n",
    "Include the current element in the subset.\n",
    "Recursively call backtrack to explore further.\n",
    "After exploring, we backtrack by removing the last element and try the next one.\n",
    "Main Function (subsets):\n",
    "\n",
    "This is the main function that initializes the result list and starts the backtracking process with an empty subset and starting index of 0.\n",
    "Example Walkthrough:\n",
    "Input 1: [1, 3]\n",
    "Initially, the current_subset is empty [].\n",
    "After the first call, the empty subset [] is added to the result.\n",
    "We include 1 in the subset → [1] is added.\n",
    "We move on to 3 and include it → [1, 3] is added.\n",
    "We backtrack and remove 3, then consider the subset [3] alone.\n",
    "The final subsets are [[], [1], [3], [1, 3]].\n",
    "Input 2: [1, 5, 3]\n",
    "Initially, current_subset is empty [].\n",
    "Add [] to result.\n",
    "Include 1 → [1] is added.\n",
    "Include 5 → [1, 5] is added.\n",
    "Include 3 → [1, 5, 3] is added.\n",
    "We backtrack and generate subsets [5], [3], [1, 3].\n",
    "The final subsets are [[], [1], [5], [3], [1, 5], [1, 3], [5, 3], [1, 5, 3]].\n",
    "Time and Space Complexity:\n",
    "Time Complexity: O(2^n), where n is the number of elements in the input list. This is because there are 2^n possible subsets.\n",
    "Space Complexity: O(n), where n is the depth of the recursion tree. This is the space used by the call stack due to recursion, and also the space used to store the subsets.\n",
    "Conclusion:\n",
    "This solution generates all subsets efficiently using backtracking and ensures that all subsets are distinct by exploring each possible combination of elements.\n",
    "\n",
    "\"\"\""
   ]
  },
  {
   "cell_type": "code",
   "execution_count": null,
   "metadata": {},
   "outputs": [],
   "source": []
  },
  {
   "cell_type": "code",
   "execution_count": null,
   "metadata": {},
   "outputs": [],
   "source": []
  },
  {
   "cell_type": "code",
   "execution_count": null,
   "metadata": {},
   "outputs": [],
   "source": []
  },
  {
   "cell_type": "code",
   "execution_count": null,
   "metadata": {},
   "outputs": [],
   "source": []
  },
  {
   "cell_type": "code",
   "execution_count": null,
   "metadata": {},
   "outputs": [],
   "source": []
  },
  {
   "cell_type": "code",
   "execution_count": null,
   "metadata": {},
   "outputs": [],
   "source": []
  },
  {
   "cell_type": "code",
   "execution_count": null,
   "metadata": {},
   "outputs": [],
   "source": []
  },
  {
   "cell_type": "code",
   "execution_count": null,
   "metadata": {},
   "outputs": [],
   "source": []
  },
  {
   "cell_type": "code",
   "execution_count": null,
   "metadata": {},
   "outputs": [],
   "source": []
  },
  {
   "cell_type": "code",
   "execution_count": null,
   "metadata": {},
   "outputs": [],
   "source": []
  },
  {
   "cell_type": "code",
   "execution_count": null,
   "metadata": {},
   "outputs": [],
   "source": []
  },
  {
   "cell_type": "code",
   "execution_count": null,
   "metadata": {},
   "outputs": [],
   "source": []
  },
  {
   "cell_type": "code",
   "execution_count": null,
   "metadata": {},
   "outputs": [],
   "source": []
  },
  {
   "cell_type": "code",
   "execution_count": null,
   "metadata": {},
   "outputs": [],
   "source": []
  },
  {
   "cell_type": "code",
   "execution_count": null,
   "metadata": {},
   "outputs": [],
   "source": []
  },
  {
   "cell_type": "code",
   "execution_count": null,
   "metadata": {},
   "outputs": [],
   "source": []
  },
  {
   "cell_type": "code",
   "execution_count": null,
   "metadata": {},
   "outputs": [],
   "source": []
  },
  {
   "cell_type": "code",
   "execution_count": null,
   "metadata": {},
   "outputs": [],
   "source": []
  },
  {
   "cell_type": "code",
   "execution_count": null,
   "metadata": {},
   "outputs": [],
   "source": []
  },
  {
   "cell_type": "code",
   "execution_count": null,
   "metadata": {},
   "outputs": [],
   "source": []
  },
  {
   "cell_type": "code",
   "execution_count": null,
   "metadata": {},
   "outputs": [],
   "source": []
  },
  {
   "cell_type": "code",
   "execution_count": null,
   "metadata": {},
   "outputs": [],
   "source": []
  },
  {
   "cell_type": "code",
   "execution_count": null,
   "metadata": {},
   "outputs": [],
   "source": []
  },
  {
   "cell_type": "code",
   "execution_count": null,
   "metadata": {},
   "outputs": [],
   "source": []
  },
  {
   "cell_type": "code",
   "execution_count": null,
   "metadata": {},
   "outputs": [],
   "source": []
  },
  {
   "cell_type": "code",
   "execution_count": null,
   "metadata": {},
   "outputs": [],
   "source": []
  },
  {
   "cell_type": "code",
   "execution_count": null,
   "metadata": {},
   "outputs": [],
   "source": []
  },
  {
   "cell_type": "code",
   "execution_count": null,
   "metadata": {},
   "outputs": [],
   "source": []
  },
  {
   "cell_type": "code",
   "execution_count": null,
   "metadata": {},
   "outputs": [],
   "source": []
  },
  {
   "cell_type": "code",
   "execution_count": null,
   "metadata": {},
   "outputs": [],
   "source": []
  },
  {
   "cell_type": "code",
   "execution_count": null,
   "metadata": {},
   "outputs": [],
   "source": []
  },
  {
   "cell_type": "code",
   "execution_count": null,
   "metadata": {},
   "outputs": [],
   "source": []
  },
  {
   "cell_type": "code",
   "execution_count": null,
   "metadata": {},
   "outputs": [],
   "source": []
  },
  {
   "cell_type": "code",
   "execution_count": null,
   "metadata": {},
   "outputs": [],
   "source": []
  },
  {
   "cell_type": "code",
   "execution_count": null,
   "metadata": {},
   "outputs": [],
   "source": []
  },
  {
   "cell_type": "code",
   "execution_count": null,
   "metadata": {},
   "outputs": [],
   "source": []
  },
  {
   "cell_type": "code",
   "execution_count": null,
   "metadata": {},
   "outputs": [],
   "source": []
  },
  {
   "cell_type": "code",
   "execution_count": null,
   "metadata": {},
   "outputs": [],
   "source": []
  },
  {
   "cell_type": "code",
   "execution_count": null,
   "metadata": {},
   "outputs": [],
   "source": []
  },
  {
   "cell_type": "code",
   "execution_count": null,
   "metadata": {},
   "outputs": [],
   "source": []
  }
 ],
 "metadata": {
  "kernelspec": {
   "display_name": "Python 3",
   "language": "python",
   "name": "python3"
  },
  "language_info": {
   "codemirror_mode": {
    "name": "ipython",
    "version": 3
   },
   "file_extension": ".py",
   "mimetype": "text/x-python",
   "name": "python",
   "nbconvert_exporter": "python",
   "pygments_lexer": "ipython3",
   "version": "3.9.6"
  }
 },
 "nbformat": 4,
 "nbformat_minor": 2
}
