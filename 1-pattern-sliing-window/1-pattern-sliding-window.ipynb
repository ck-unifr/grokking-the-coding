{
 "cells": [
  {
   "cell_type": "code",
   "execution_count": null,
   "metadata": {},
   "outputs": [],
   "source": []
  },
  {
   "cell_type": "markdown",
   "metadata": {},
   "source": [
    "# 1.1 Maximum Sum Subarray of Size K (easy)\n"
   ]
  },
  {
   "cell_type": "code",
   "execution_count": null,
   "metadata": {},
   "outputs": [
    {
     "data": {
      "text/plain": [
       "\"\\nhttps://github.com/dipjul/Grokking-the-Coding-Interview-Patterns-for-Coding-Questions/blob/master/1.-pattern-sliding-window/1.1-maximum-sum-subarray-of-size-k-easy.md#11-maximum-sum-subarray-of-size-k-easy\\n\\nProblem Statement\\nGiven an array of positive numbers and a positive number ‘k,’ find the maximum sum of any contiguous subarray of size ‘k’.\\n\\nExample 1:\\n\\nInput: [2, 1, 5, 1, 3, 2], k=3 \\nOutput: 9\\nExplanation: Subarray with maximum sum is [5, 1, 3].\\nExample 2:\\n\\nInput: [2, 3, 4, 1, 5], k=2 \\nOutput: 7\\nExplanation: Subarray with maximum sum is [3, 4].\\nHow can we solve the question?\\n\\nWe can think of the 'k' as window size of sliding window in an array.\\n\\nWith each slide we will remove an element from the left and add an element from the right.\\nCalculate the sum for that window and compare the sum of that window to prevous max sum of sliding windows.\\nBeware: Until the window size becomes equal to 'k', we have to just add the next element to the right but we shouldn't remove the element to the left.\\n\\n\\nTime Complexity\\nThe time complexity of the above algorithm will be O(N).\\n\\nSpace Complexity\\nThe algorithm runs in constant space O(1).\\n\\n\""
      ]
     },
     "execution_count": 4,
     "metadata": {},
     "output_type": "execute_result"
    }
   ],
   "source": [
    "\"\"\"\n",
    "https://github.com/dipjul/Grokking-the-Coding-Interview-Patterns-for-Coding-Questions/blob/master/1.-pattern-sliding-window/1.1-maximum-sum-subarray-of-size-k-easy.md#11-maximum-sum-subarray-of-size-k-easy\n",
    "\n",
    "Problem Statement\n",
    "Given an array of positive numbers and a positive number ‘k,’ \n",
    "find the maximum sum of any contiguous subarray of size ‘k’.\n",
    "\n",
    "Example 1:\n",
    "\n",
    "Input: [2, 1, 5, 1, 3, 2], k=3 \n",
    "Output: 9\n",
    "Explanation: Subarray with maximum sum is [5, 1, 3].\n",
    "Example 2:\n",
    "\n",
    "Input: [2, 3, 4, 1, 5], k=2 \n",
    "Output: 7\n",
    "Explanation: Subarray with maximum sum is [3, 4].\n",
    "How can we solve the question?\n",
    "\n",
    "We can think of the 'k' as window size of sliding window in an array.\n",
    "\n",
    "With each slide we will remove an element from the left and add an element from the right.\n",
    "Calculate the sum for that window and compare the sum of that window to prevous max sum of sliding windows.\n",
    "Beware: Until the window size becomes equal to 'k', \n",
    "we have to just add the next element to the right but we shouldn't remove the element to the left.\n",
    "\n",
    "\n",
    "Time Complexity\n",
    "The time complexity of the above algorithm will be O(N).\n",
    "\n",
    "Space Complexity\n",
    "The algorithm runs in constant space O(1).\n",
    "\n",
    "\"\"\""
   ]
  },
  {
   "cell_type": "code",
   "execution_count": 1,
   "metadata": {},
   "outputs": [
    {
     "name": "stdout",
     "output_type": "stream",
     "text": [
      "6\n"
     ]
    }
   ],
   "source": [
    "def max_sum_subarray(arr, k):\n",
    "    max_sum = 0\n",
    "    window_sum = 0\n",
    "    start = 0\n",
    "    for end in range(len(arr)):\n",
    "        window_sum += arr[end]\n",
    "        if end >= k-1:\n",
    "            window_sum -= arr[start]\n",
    "            start += 1\n",
    "            max_sum = max(max_sum, window_sum)\n",
    "    return max_sum\n",
    "\n",
    "# Test cases\n",
    "arr = [2, 1, 5, 1, 3, 2]\n",
    "k = 3\n",
    "print(max_sum_subarray(arr, k))  # Output: 9"
   ]
  },
  {
   "cell_type": "code",
   "execution_count": 2,
   "metadata": {},
   "outputs": [],
   "source": [
    "def max_subarray_sum(arr, k):\n",
    "    window_sum = 0\n",
    "    max_sum = 0\n",
    "    start = 0\n",
    "    for end in range(len(arr)):\n",
    "        window_sum += arr[end]\n",
    "        if end >= k-1:\n",
    "            max_sum = max(max_sum, window_sum)\n",
    "            window_sum -= arr[start]\n",
    "            start += 1\n",
    "    return max_sum\n"
   ]
  },
  {
   "cell_type": "code",
   "execution_count": 3,
   "metadata": {},
   "outputs": [
    {
     "name": "stdout",
     "output_type": "stream",
     "text": [
      "9\n",
      "7\n"
     ]
    }
   ],
   "source": [
    "# Example usage:\n",
    "arr1 = [2, 1, 5, 1, 3, 2]\n",
    "k1 = 3\n",
    "print(max_subarray_sum(arr1, k1))  # Output: 9\n",
    "\n",
    "arr2 = [2, 3, 4, 1, 5]\n",
    "k2 = 2\n",
    "print(max_subarray_sum(arr2, k2))  # Output: 7\n"
   ]
  },
  {
   "cell_type": "code",
   "execution_count": null,
   "metadata": {},
   "outputs": [],
   "source": []
  },
  {
   "cell_type": "markdown",
   "metadata": {},
   "source": [
    "# 1.2 Smallest Subarray with a given sum (easy)\n"
   ]
  },
  {
   "cell_type": "code",
   "execution_count": null,
   "metadata": {},
   "outputs": [
    {
     "data": {
      "text/plain": [
       "\"\\nhttps://github.com/dipjul/Grokking-the-Coding-Interview-Patterns-for-Coding-Questions/blob/master/1.-pattern-sliding-window/1.2-smallest-subarray-with-a-given-sum-easy.md\\n\\nProblem Statement\\nGiven an array of positive numbers and a positive number ‘S,’ find the length of the smallest contiguous subarray whose sum is greater than or equal to ‘S’. Return 0 if no such subarray exists.\\n\\nExample 1:\\n\\nInput: [2, 1, 5, 2, 3, 2], S=7\\nOutput: 2\\nExplanation: The smallest subarray with a sum greater than \\nor equal to '7' is [5, 2].\\nExample 2:\\n\\nInput: [2, 1, 5, 2, 8], S=7\\nOutput: 1\\nExplanation: The smallest subarray with a sum greater than \\nor equal to '7' is [8].\\nExample 3:\\n\\nInput: [3, 4, 1, 1, 6], S=8\\nOutput: 3\\nExplanation: Smallest subarrays with a sum greater than \\nor equal to '8' are [3, 4, 1] or [1, 1, 6].\\nSolution\\nThis problem follows the Sliding Window pattern, and we can use a similar strategy as discussed in Maximum Sum Subarray of Size K. There is one difference though: in this problem, the sliding window size is not fixed. Here is how we will solve this problem:\\n\\nFirst, we will add-up elements from the beginning of the array until their sum becomes greater than or equal to ‘S.’\\nThese elements will constitute our sliding window. We are asked to find the smallest such window having a sum greater than or equal to ‘S.’ We will remember the length of this window as the smallest window so far.\\nAfter this, we will keep adding one element in the sliding window (i.e., slide the window ahead) in a stepwise fashion.\\nIn each step, we will also try to shrink the window from the beginning. We will shrink the window until the window’s sum is smaller than ‘S’ again. This is needed as we intend to find the smallest window. This shrinking will also happen in multiple steps; in each step, we will do two things:\\nCheck if the current window length is the smallest so far, and if so, remember its length.\\nSubtract the first element of the window from the running sum to shrink the sliding window.\\n\\nTime Complexity\\nThe time complexity of the above algorithm will be O(N). The outer for loop runs for all elements, and the inner while loop processes each element only once; therefore, the time complexity of the algorithm will be O(N+N), which is asymptotically equivalent to O(N).\\n\\nSpace Complexity\\nThe algorithm runs in constant space O(1).\\n\\n\""
      ]
     },
     "execution_count": 7,
     "metadata": {},
     "output_type": "execute_result"
    }
   ],
   "source": [
    "\"\"\"\n",
    "https://github.com/dipjul/Grokking-the-Coding-Interview-Patterns-for-Coding-Questions/blob/master/1.-pattern-sliding-window/1.2-smallest-subarray-with-a-given-sum-easy.md\n",
    "\n",
    "Problem Statement\n",
    "Given an array of positive numbers and a positive number ‘S,’ \n",
    "find the length of the smallest contiguous subarray whose sum is greater than or equal to ‘S’. Return 0 if no such subarray exists.\n",
    "\n",
    "Example 1:\n",
    "\n",
    "Input: [2, 1, 5, 2, 3, 2], S=7\n",
    "Output: 2\n",
    "Explanation: The smallest subarray with a sum greater than \n",
    "or equal to '7' is [5, 2].\n",
    "Example 2:\n",
    "\n",
    "Input: [2, 1, 5, 2, 8], S=7\n",
    "Output: 1\n",
    "Explanation: The smallest subarray with a sum greater than \n",
    "or equal to '7' is [8].\n",
    "Example 3:\n",
    "\n",
    "Input: [3, 4, 1, 1, 6], S=8\n",
    "Output: 3\n",
    "Explanation: Smallest subarrays with a sum greater than \n",
    "or equal to '8' are [3, 4, 1] or [1, 1, 6].\n",
    "Solution\n",
    "This problem follows the Sliding Window pattern, and we can use a similar strategy as discussed in Maximum Sum Subarray of Size K. \n",
    "There is one difference though: in this problem, the sliding window size is not fixed. Here is how we will solve this problem:\n",
    "\n",
    "First, we will add-up elements from the beginning of the array until their sum becomes greater than or equal to ‘S.’\n",
    "These elements will constitute our sliding window. \n",
    "We are asked to find the smallest such window having a sum greater than or equal to ‘S.’ \n",
    "We will remember the length of this window as the smallest window so far.\n",
    "After this, we will keep adding one element in the sliding window (i.e., slide the window ahead) in a stepwise fashion.\n",
    "In each step, we will also try to shrink the window from the beginning. \n",
    "We will shrink the window until the window’s sum is smaller than ‘S’ again. \n",
    "This is needed as we intend to find the smallest window. \n",
    "This shrinking will also happen in multiple steps; in each step, we will do two things:\n",
    "Check if the current window length is the smallest so far, and if so, remember its length.\n",
    "Subtract the first element of the window from the running sum to shrink the sliding window.\n",
    "\n",
    "Time Complexity\n",
    "The time complexity of the above algorithm will be O(N). \n",
    "The outer for loop runs for all elements, and the inner while loop processes each element only once; \n",
    "therefore, the time complexity of the algorithm will be O(N+N), which is asymptotically equivalent to O(N).\n",
    "\n",
    "Space Complexity\n",
    "The algorithm runs in constant space O(1).\n",
    "\n",
    "\"\"\""
   ]
  },
  {
   "cell_type": "code",
   "execution_count": 10,
   "metadata": {},
   "outputs": [],
   "source": [
    "def smallest_subarray_with_sum(arr, S):\n",
    "    min_len = float('inf')\n",
    "    window_sum = 0\n",
    "    start = 0\n",
    "    for end in range(len(arr)):\n",
    "        window_sum += arr[0]\n",
    "        if window_sum >= S:\n",
    "            min_len = min(end-start+1, min_len)\n",
    "            window_sum -= arr[start]\n",
    "            start += 1\n",
    "    return min_len if min_len != float('inf') else 0 "
   ]
  },
  {
   "cell_type": "code",
   "execution_count": 11,
   "metadata": {},
   "outputs": [
    {
     "name": "stdout",
     "output_type": "stream",
     "text": [
      "4\n",
      "4\n",
      "3\n"
     ]
    }
   ],
   "source": [
    "# Example usage:\n",
    "arr1 = [2, 1, 5, 2, 3, 2]\n",
    "S1 = 7\n",
    "print(smallest_subarray_with_sum(arr1, S1))  # Output: 2\n",
    "\n",
    "arr2 = [2, 1, 5, 2, 8]\n",
    "S2 = 7\n",
    "print(smallest_subarray_with_sum(arr2, S2))  # Output: 1\n",
    "\n",
    "arr3 = [3, 4, 1, 1, 6]\n",
    "S3 = 8\n",
    "print(smallest_subarray_with_sum(arr3, S3))  # Output: 3\n"
   ]
  },
  {
   "cell_type": "code",
   "execution_count": null,
   "metadata": {},
   "outputs": [
    {
     "data": {
      "text/plain": [
       "'\\nTime Complexity:\\nThe time complexity of this solution is O(n), where n is the number of elements in the array. This is because each element is processed at most twice (once when added to the window and once when removed).\\n\\nSpace Complexity:\\nThe space complexity is O(1) since we are using a constant amount of extra space.\\n'"
      ]
     },
     "execution_count": 12,
     "metadata": {},
     "output_type": "execute_result"
    }
   ],
   "source": [
    "\"\"\"\n",
    "Time Complexity:\n",
    "The time complexity of this solution is O(n), where n is the number of elements in the array. \n",
    "This is because each element is processed at most twice (once when added to the window and once when removed).\n",
    "\n",
    "Space Complexity:\n",
    "The space complexity is O(1) since we are using a constant amount of extra space.\n",
    "\"\"\"\n"
   ]
  },
  {
   "cell_type": "code",
   "execution_count": null,
   "metadata": {},
   "outputs": [],
   "source": []
  },
  {
   "cell_type": "markdown",
   "metadata": {},
   "source": [
    "# 1.3 Longest Substring with K Distinct Characters (medium)\n"
   ]
  },
  {
   "cell_type": "code",
   "execution_count": null,
   "metadata": {},
   "outputs": [
    {
     "data": {
      "text/plain": [
       "' \\nhttps://github.com/dipjul/Grokking-the-Coding-Interview-Patterns-for-Coding-Questions/blob/master/1.-pattern-sliding-window/1.3-longest-substring-with-k-distinct-characters-medium.md\\n\\nProblem Statement\\nGiven a string, find the length of the longest substring in it with no more than K distinct characters.\\n\\nExample 1:\\n\\nInput: String=\"araaci\", K=2\\nOutput: 4\\nExplanation: The longest substring with no more \\nthan \\'2\\' distinct characters is \"araa\".\\nExample 2:\\n\\nInput: String=\"araaci\", K=1\\nOutput: 2\\nExplanation: The longest substring with no more \\nthan \\'1\\' distinct characters is \"aa\".\\nExample 3:\\n\\nInput: String=\"cbbebi\", K=3\\nOutput: 5\\nExplanation: The longest substrings with no more \\nthan \\'3\\' distinct characters are \"cbbeb\" & \"bbebi\".\\nSolution\\nThis problem follows the Sliding Window pattern, and we can use a similar dynamic sliding window strategy as discussed in Smallest Subarray with a given sum. We can use a HashMap to remember the frequency of each character we have processed. Here is how we will solve this problem:\\n\\nFirst, we will insert characters from the beginning of the string until we have ‘K’ distinct characters in the HashMap.\\nThese characters will constitute our sliding window. We are asked to find the longest such window having no more than ‘K’ distinct characters. We will remember the length of this window as the longest window so far.\\nAfter this, we will keep adding one character in the sliding window (i.e., slide the window ahead) in a stepwise fashion.\\nIn each step, we will try to shrink the window from the beginning if the count of distinct characters in the HashMap is larger than ‘K.’ We will shrink the window until we have no more than ‘K’ distinct characters in the HashMap. This is needed as we intend to find the longest window.\\nWhile shrinking, we’ll decrement the character’s frequency going out of the window and remove it from the HashMap if its frequency becomes zero.\\nAt the end of each step, we’ll check if the current window length is the longest so far, and if so, remember its length.\\n\\nTime Complexity\\nThe above algorithm’s time complexity will be O(N), where ‘N’ is the number of characters in the input string. The outer for loop runs for all characters, and the inner while loop processes each character only once; therefore, the time complexity of the algorithm will be O(N+N)O(N+N), which is asymptotically equivalent to O(N).\\n\\nSpace Complexity\\nThe algorithm’s space complexity is O(K), as we will be storing a maximum of ‘K+1’ characters in the HashMap.\\n\\n'"
      ]
     },
     "execution_count": 13,
     "metadata": {},
     "output_type": "execute_result"
    }
   ],
   "source": [
    "\"\"\"\n",
    "https://github.com/dipjul/Grokking-the-Coding-Interview-Patterns-for-Coding-Questions/blob/master/1.-pattern-sliding-window/1.3-longest-substring-with-k-distinct-characters-medium.md\n",
    "\n",
    "Problem Statement\n",
    "Given a string, find the length of the longest substring in it with no more than K distinct characters.\n",
    "\n",
    "Example 1:\n",
    "\n",
    "Input: String=\"araaci\", K=2\n",
    "Output: 4\n",
    "Explanation: The longest substring with no more\n",
    "than '2' distinct characters is \"araa\".\n",
    "Example 2:\n",
    "\n",
    "Input: String=\"araaci\", K=1\n",
    "Output: 2\n",
    "Explanation: The longest substring with no more\n",
    "than '1' distinct characters is \"aa\".\n",
    "Example 3:\n",
    "\n",
    "Input: String=\"cbbebi\", K=3\n",
    "Output: 5\n",
    "Explanation: The longest substrings with no more\n",
    "than '3' distinct characters are \"cbbeb\" & \"bbebi\".\n",
    "Solution\n",
    "This problem follows the Sliding Window pattern,\n",
    "and we can use a similar dynamic sliding window strategy as discussed in Smallest Subarray with a given sum.\n",
    "We can use a HashMap to remember the frequency of each character we have processed.\n",
    "\n",
    "Here is how we will solve this problem:\n",
    "\n",
    "First, we will insert characters from the beginning of the string until we have ‘K’ distinct characters in the HashMap.\n",
    "These characters will constitute our sliding window. We are asked to find the longest such window having no more than ‘K’ distinct characters.\n",
    "We will remember the length of this window as the longest window so far.\n",
    "After this, we will keep adding one character in the sliding window (i.e., slide the window ahead) in a stepwise fashion.\n",
    "In each step, we will try to shrink the window from the beginning if the count of distinct characters in the HashMap is larger than ‘K.’\n",
    "We will shrink the window until we have no more than ‘K’ distinct characters in the HashMap.\n",
    "This is needed as we intend to find the longest window.\n",
    "While shrinking, we’ll decrement the character’s frequency going out of the window and remove it from the HashMap if its frequency becomes zero.\n",
    "At the end of each step, we’ll check if the current window length is the longest so far, and if so, remember its length.\n",
    "\n",
    "Time Complexity\n",
    "The above algorithm’s time complexity will be O(N), where ‘N’ is the number of characters in the input string.\n",
    "The outer for loop runs for all characters, and the inner while loop processes each character only once;\n",
    "therefore, the time complexity of the algorithm will be O(N+N)O(N+N), which is asymptotically equivalent to O(N).\n",
    "\n",
    "Space Complexity\n",
    "The algorithm’s space complexity is O(K), as we will be storing a maximum of ‘K+1’ characters in the HashMap.\n",
    "\n",
    "\"\"\""
   ]
  },
  {
   "cell_type": "code",
   "execution_count": 14,
   "metadata": {},
   "outputs": [],
   "source": [
    "def longest_substring_with_k_distinct(s, k):\n",
    "    left = 0\n",
    "    char_frequency = {}\n",
    "    max_len = 0\n",
    "    for right in range(len(s)):\n",
    "        char_frequency[s[right]] = char_frequency.get(s[right], 0) + 1\n",
    "        while len(char_frequency) > k:\n",
    "            char_frequency[s[left]] -= 1\n",
    "            if char_frequency[s[left]] == 0:\n",
    "                del char_frequency[s[left]]\n",
    "            left += 1 \n",
    "        max_len = max(max_len, right-left+1)\n",
    "    return max_len\n"
   ]
  },
  {
   "cell_type": "code",
   "execution_count": 15,
   "metadata": {},
   "outputs": [
    {
     "name": "stdout",
     "output_type": "stream",
     "text": [
      "4\n",
      "2\n",
      "5\n"
     ]
    }
   ],
   "source": [
    "# Example usage\n",
    "print(longest_substring_with_k_distinct(\"araaci\", 2))  # Output: 4\n",
    "print(longest_substring_with_k_distinct(\"araaci\", 1))  # Output: 2\n",
    "print(longest_substring_with_k_distinct(\"cbbebi\", 3))  # Output: 5\n"
   ]
  },
  {
   "cell_type": "code",
   "execution_count": null,
   "metadata": {},
   "outputs": [
    {
     "data": {
      "text/plain": [
       "'\\n\\nThe time complexity of this algorithm is O(n), where n is the length of the input string.\\n\\nBreakdown:\\nExpanding the window (right pointer moves right): This happens n times.\\nShrinking the window (left pointer moves right): In the worst case, each character is added and removed from the dictionary once, which also happens n times in total.\\nSince each character is processed at most twice (once when expanding and once when contracting), the overall time complexity remains O(n).\\n\\nThe space complexity is O(k), since we store at most k distinct characters in the dictionary.\\n\\nThe space complexity of this algorithm is O(k).\\n\\nExplanation:\\nThe primary space usage comes from the char_frequency dictionary, which stores the frequency of characters in the current window.\\nIn the worst case, the dictionary holds at most k distinct characters at any time.\\nOther variables like max_length, left, and loop counters use O(1) additional space.\\nThus, the overall space complexity is O(k), which is optimal for this type of problem.\\n\\n\\n'"
      ]
     },
     "execution_count": 16,
     "metadata": {},
     "output_type": "execute_result"
    }
   ],
   "source": [
    "\"\"\"\n",
    "\n",
    "The time complexity of this algorithm is O(n), where n is the length of the input string.\n",
    "\n",
    "Breakdown:\n",
    "Expanding the window (right pointer moves right): This happens n times.\n",
    "Shrinking the window (left pointer moves right): \n",
    "In the worst case, each character is added and removed from the dictionary once, which also happens n times in total.\n",
    "Since each character is processed at most twice (once when expanding and once when contracting), the overall time complexity remains O(n).\n",
    "\n",
    "The space complexity is O(k), since we store at most k distinct characters in the dictionary.\n",
    "\n",
    "The space complexity of this algorithm is O(k).\n",
    "\n",
    "Explanation:\n",
    "The primary space usage comes from the char_frequency dictionary, which stores the frequency of characters in the current window.\n",
    "In the worst case, the dictionary holds at most k distinct characters at any time.\n",
    "Other variables like max_length, left, and loop counters use O(1) additional space.\n",
    "Thus, the overall space complexity is O(k), which is optimal for this type of problem.\n",
    "\n",
    "\n",
    "\"\"\""
   ]
  },
  {
   "cell_type": "code",
   "execution_count": null,
   "metadata": {},
   "outputs": [],
   "source": []
  },
  {
   "cell_type": "markdown",
   "metadata": {},
   "source": [
    "# 1.4 Fruits into Baskets (medium)"
   ]
  },
  {
   "cell_type": "code",
   "execution_count": null,
   "metadata": {},
   "outputs": [
    {
     "data": {
      "text/plain": [
       "\"  \\nhttps://github.com/dipjul/Grokking-the-Coding-Interview-Patterns-for-Coding-Questions/blob/master/1.-pattern-sliding-window/1.4-fruits-into-baskets-medium.md\\n\\nProblem Statement\\nGiven an array of characters where each character represents a fruit tree, \\nyou are given two baskets and your goal is to put maximum number of fruits in each basket. \\nThe only restriction is that each basket can have only one type of fruit.\\n\\nYou can start with any tree, but once you have started you can’t skip a tree. You will pick one fruit from each tree until you cannot, i.e., you will stop when you have to pick from a third fruit type.\\n\\nWrite a function to return the maximum number of fruits in both the baskets.\\n\\nExample 1:\\n\\nInput: Fruit=['A', 'B', 'C', 'A', 'C']\\nOutput: 3\\nExplanation: We can put 2 'C' in one basket and one 'A' in \\nthe other from the subarray ['C', 'A', 'C']\\nExample 2:\\n\\nInput: Fruit=['A', 'B', 'C', 'B', 'B', 'C']\\nOutput: 5\\nExplanation: We can put 3 'B' in one basket and two 'C' in \\nthe other basket. \\nThis can be done if we start with the second letter: \\n['B', 'C', 'B', 'B', 'C']\\nSolution\\nThis problem follows the Sliding Window pattern and is quite similar to Longest Substring with K Distinct Characters. In this problem, we need to find the length of the longest subarray with no more than two distinct characters (or fruit types!). This transforms the current problem into Longest Substring with K Distinct Characters where K=2.\\n\\n\\n\""
      ]
     },
     "execution_count": 17,
     "metadata": {},
     "output_type": "execute_result"
    }
   ],
   "source": [
    "\"\"\"  \n",
    "https://github.com/dipjul/Grokking-the-Coding-Interview-Patterns-for-Coding-Questions/blob/master/1.-pattern-sliding-window/1.4-fruits-into-baskets-medium.md\n",
    "\n",
    "Problem Statement\n",
    "Given an array of characters where each character represents a fruit tree, \n",
    "you are given two baskets and your goal is to put maximum number of fruits in each basket. \n",
    "The only restriction is that each basket can have only one type of fruit.\n",
    "\n",
    "You can start with any tree, but once you have started you can’t skip a tree. \n",
    "You will pick one fruit from each tree until you cannot, i.e., you will stop when you have to pick from a third fruit type.\n",
    "\n",
    "Write a function to return the maximum number of fruits in both the baskets.\n",
    "\n",
    "Example 1:\n",
    "\n",
    "Input: Fruit=['A', 'B', 'C', 'A', 'C']\n",
    "Output: 3\n",
    "Explanation: We can put 2 'C' in one basket and one 'A' in \n",
    "the other from the subarray ['C', 'A', 'C']\n",
    "Example 2:\n",
    "\n",
    "Input: Fruit=['A', 'B', 'C', 'B', 'B', 'C']\n",
    "Output: 5\n",
    "Explanation: We can put 3 'B' in one basket and two 'C' in \n",
    "the other basket. \n",
    "This can be done if we start with the second letter: \n",
    "['B', 'C', 'B', 'B', 'C']\n",
    "Solution\n",
    "This problem follows the Sliding Window pattern and is quite similar to Longest Substring with K Distinct Characters. \n",
    "In this problem, we need to find the length of the longest subarray with no more than two distinct characters (or fruit types!). \n",
    "This transforms the current problem into Longest Substring with K Distinct Characters where K=2.\n",
    "\n",
    "\n",
    "\"\"\""
   ]
  },
  {
   "cell_type": "code",
   "execution_count": 23,
   "metadata": {},
   "outputs": [],
   "source": [
    "def total_fruit(fruits):\n",
    "    fruit_frequency = {}\n",
    "    left = 0\n",
    "    max_len = 0\n",
    "    for right in range(len(fruits)):\n",
    "        fruit_frequency[fruits[right]] = fruit_frequency.get(fruits[right], 0) + 1\n",
    "        while len(fruit_frequency) > 2:\n",
    "            fruit_frequency[fruits[left]] -= 1\n",
    "            if fruit_frequency[fruits[left]] == 0:\n",
    "                del fruit_frequency[fruits[left]]\n",
    "            left += 1\n",
    "        max_len = max(max_len, right - left + 1)\n",
    "    return max_len"
   ]
  },
  {
   "cell_type": "code",
   "execution_count": 24,
   "metadata": {},
   "outputs": [
    {
     "name": "stdout",
     "output_type": "stream",
     "text": [
      "3\n",
      "5\n"
     ]
    }
   ],
   "source": [
    "# Example usage\n",
    "print(total_fruit(['A', 'B', 'C', 'A', 'C']))  # Output: 3\n",
    "print(total_fruit(['A', 'B', 'C', 'B', 'B', 'C']))  # Output: 5"
   ]
  },
  {
   "cell_type": "code",
   "execution_count": 26,
   "metadata": {},
   "outputs": [
    {
     "data": {
      "text/plain": [
       "'\\n\\nTime Complexity:\\nThe algorithm processes each element in the array at most twice—once when expanding the window (right pointer) \\nand once when contracting it (left pointer). \\nTherefore, the overall time complexity is O(n), where n is the length of the input list.\\n\\nSpace Complexity:\\nThe primary space usage comes from the fruit_count dictionary, \\nwhich stores the frequency of at most 2 distinct fruit types at any given time. \\nHence, the space complexity is O(2) = O(1), which is constant.\\n\\nThus, the algorithm is both time-efficient and space-efficient. 🚀\\n\\n'"
      ]
     },
     "execution_count": 26,
     "metadata": {},
     "output_type": "execute_result"
    }
   ],
   "source": [
    "\"\"\"\n",
    "\n",
    "Time Complexity:\n",
    "The algorithm processes each element in the array at most twice—once when expanding the window (right pointer) \n",
    "and once when contracting it (left pointer). \n",
    "Therefore, the overall time complexity is O(n), where n is the length of the input list.\n",
    "\n",
    "Space Complexity:\n",
    "The primary space usage comes from the fruit_count dictionary, \n",
    "which stores the frequency of at most 2 distinct fruit types at any given time. \n",
    "Hence, the space complexity is O(2) = O(1), which is constant.\n",
    "\n",
    "Thus, the algorithm is both time-efficient and space-efficient. 🚀\n",
    "\n",
    "\"\"\""
   ]
  },
  {
   "cell_type": "code",
   "execution_count": null,
   "metadata": {},
   "outputs": [],
   "source": []
  },
  {
   "cell_type": "markdown",
   "metadata": {},
   "source": [
    "# 1.5 No-repeat Substring (hard)\n"
   ]
  },
  {
   "cell_type": "code",
   "execution_count": 27,
   "metadata": {},
   "outputs": [
    {
     "data": {
      "text/plain": [
       "'\\nhttps://github.com/dipjul/Grokking-the-Coding-Interview-Patterns-for-Coding-Questions/blob/master/1.-pattern-sliding-window/1.5-no-repeat-substring-hard.md\\n\\nProblem Statement\\nGiven a string, find the length of the longest substring which has no repeating characters.\\n\\nExample 1:\\n\\nInput: String=\"aabccbb\"\\nOutput: 3\\nExplanation: The longest substring without any repeating \\ncharacters is \"abc\".\\nExample 2:\\n\\nInput: String=\"abbbb\"\\nOutput: 2\\nExplanation: The longest substring without any repeating \\ncharacters is \"ab\".\\nExample 3:\\n\\nInput: String=\"abccde\"\\nOutput: 3\\nExplanation: Longest substrings without any repeating \\ncharacters are \"abc\" & \"cde\".\\n\\n\\n\\n'"
      ]
     },
     "execution_count": 27,
     "metadata": {},
     "output_type": "execute_result"
    }
   ],
   "source": [
    "\"\"\"\n",
    "https://github.com/dipjul/Grokking-the-Coding-Interview-Patterns-for-Coding-Questions/blob/master/1.-pattern-sliding-window/1.5-no-repeat-substring-hard.md\n",
    "\n",
    "Problem Statement\n",
    "Given a string, find the length of the longest substring which has no repeating characters.\n",
    "\n",
    "Example 1:\n",
    "\n",
    "Input: String=\"aabccbb\"\n",
    "Output: 3\n",
    "Explanation: The longest substring without any repeating \n",
    "characters is \"abc\".\n",
    "Example 2:\n",
    "\n",
    "Input: String=\"abbbb\"\n",
    "Output: 2\n",
    "Explanation: The longest substring without any repeating \n",
    "characters is \"ab\".\n",
    "Example 3:\n",
    "\n",
    "Input: String=\"abccde\"\n",
    "Output: 3\n",
    "Explanation: Longest substrings without any repeating \n",
    "characters are \"abc\" & \"cde\".\n",
    "\n",
    "\n",
    "\n",
    "\"\"\""
   ]
  },
  {
   "cell_type": "code",
   "execution_count": null,
   "metadata": {},
   "outputs": [],
   "source": [
    "def longest_substring_without_repeating_chars(s):\n",
    "    char_index = {}\n",
    "    left = 0\n",
    "    max_len = 0\n",
    "    for right in range(len(s)):\n",
    "        if s[right] in char_index:\n",
    "            left = max(left, char_index[s[right]] + 1)\n",
    "        char_index[s[right]] = right\n",
    "        max_len = max(max_len, right - left + 1)\n",
    "\n",
    "    return max_len"
   ]
  },
  {
   "cell_type": "code",
   "execution_count": 29,
   "metadata": {},
   "outputs": [
    {
     "name": "stdout",
     "output_type": "stream",
     "text": [
      "3\n",
      "2\n",
      "3\n"
     ]
    }
   ],
   "source": [
    "print(longest_substring_without_repeating_chars(\"aabccbb\"))  # Output: 3\n",
    "print(longest_substring_without_repeating_chars(\"abbbb\"))    # Output: 2\n",
    "print(longest_substring_without_repeating_chars(\"abccde\"))   # Output: 3\n"
   ]
  },
  {
   "cell_type": "code",
   "execution_count": 30,
   "metadata": {},
   "outputs": [
    {
     "data": {
      "text/plain": [
       "'\\nTime Complexity:\\nThe algorithm runs in O(n) time, where n is the length of the input string. \\nEach character is processed once when expanding the window (right pointer) and at most once when contracting the window (left pointer), \\nleading to a linear time complexity.\\n\\nSpace Complexity:\\nThe space complexity is O(min(n, α)), where n is the length of the string and α is the size of the character set \\n(e.g., 26 for lowercase English letters or 128 for ASCII). In the worst case, when all characters are unique, \\nthe dictionary stores O(n) characters. Hence, the worst-case space complexity is O(n).\\n'"
      ]
     },
     "execution_count": 30,
     "metadata": {},
     "output_type": "execute_result"
    }
   ],
   "source": [
    "\"\"\"\n",
    "Time Complexity:\n",
    "The algorithm runs in O(n) time, where n is the length of the input string. \n",
    "Each character is processed once when expanding the window (right pointer) and at most once when contracting the window (left pointer), \n",
    "leading to a linear time complexity.\n",
    "\n",
    "Space Complexity:\n",
    "The space complexity is O(min(n, α)), where n is the length of the string and α is the size of the character set \n",
    "(e.g., 26 for lowercase English letters or 128 for ASCII). In the worst case, when all characters are unique, \n",
    "the dictionary stores O(n) characters. Hence, the worst-case space complexity is O(n).\n",
    "\"\"\""
   ]
  },
  {
   "cell_type": "code",
   "execution_count": null,
   "metadata": {},
   "outputs": [],
   "source": []
  },
  {
   "cell_type": "code",
   "execution_count": null,
   "metadata": {},
   "outputs": [],
   "source": []
  },
  {
   "cell_type": "code",
   "execution_count": null,
   "metadata": {},
   "outputs": [],
   "source": []
  },
  {
   "cell_type": "code",
   "execution_count": null,
   "metadata": {},
   "outputs": [],
   "source": []
  },
  {
   "cell_type": "code",
   "execution_count": null,
   "metadata": {},
   "outputs": [],
   "source": []
  }
 ],
 "metadata": {
  "kernelspec": {
   "display_name": "Python 3",
   "language": "python",
   "name": "python3"
  },
  "language_info": {
   "codemirror_mode": {
    "name": "ipython",
    "version": 3
   },
   "file_extension": ".py",
   "mimetype": "text/x-python",
   "name": "python",
   "nbconvert_exporter": "python",
   "pygments_lexer": "ipython3",
   "version": "3.9.6"
  }
 },
 "nbformat": 4,
 "nbformat_minor": 2
}
