{
 "cells": [
  {
   "cell_type": "code",
   "execution_count": null,
   "metadata": {},
   "outputs": [],
   "source": []
  },
  {
   "cell_type": "markdown",
   "metadata": {},
   "source": [
    "# Kth Smallest Number (easy).py\n"
   ]
  },
  {
   "cell_type": "code",
   "execution_count": 2,
   "metadata": {},
   "outputs": [
    {
     "data": {
      "text/plain": [
       "\" \\n13. Pattern Top 'K' Elements/Kth Smallest Number (easy).py\\nhttps://github.com/josephhlwang/GrokkingCoding/blob/main/13.%20Pattern%20Top%20'K'%20Elements/Kth%20Smallest%20Number%20(easy).py\\n\\n\\nProblem Statement \\nGiven an unsorted array of numbers, find Kth smallest number in it.\\n\\nPlease note that it is the Kth smallest number in the sorted order, not the Kth distinct element.\\n\\nNote: For a detailed discussion about different approaches to solve this problem, take a look at Kth Smallest Number.\\n\\nExample 1:\\n\\nInput: [1, 5, 12, 2, 11, 5], K = 3\\nOutput: 5\\nExplanation: The 3rd smallest number is '5', as the first two smaller numbers are [1, 2].\\nExample 2:\\n\\nInput: [1, 5, 12, 2, 11, 5], K = 4\\nOutput: 5\\nExplanation: The 4th smallest number is '5', as the first three small numbers are [1, 2, 5].\\nExample 3:\\n\\nInput: [5, 12, 11, -1, 12], K = 3\\nOutput: 11\\nExplanation: The 3rd smallest number is '11', as the first two small numbers are [5, -1].\\n\\n\""
      ]
     },
     "execution_count": 2,
     "metadata": {},
     "output_type": "execute_result"
    }
   ],
   "source": [
    "\"\"\" \n",
    "13. Pattern Top 'K' Elements/Kth Smallest Number (easy).py\n",
    "https://github.com/josephhlwang/GrokkingCoding/blob/main/13.%20Pattern%20Top%20'K'%20Elements/Kth%20Smallest%20Number%20(easy).py\n",
    "\n",
    "\n",
    "Problem Statement \n",
    "Given an unsorted array of numbers, find Kth smallest number in it.\n",
    "\n",
    "Please note that it is the Kth smallest number in the sorted order, not the Kth distinct element.\n",
    "\n",
    "Note: For a detailed discussion about different approaches to solve this problem, take a look at Kth Smallest Number.\n",
    "\n",
    "Example 1:\n",
    "\n",
    "Input: [1, 5, 12, 2, 11, 5], K = 3\n",
    "Output: 5\n",
    "Explanation: The 3rd smallest number is '5', as the first two smaller numbers are [1, 2].\n",
    "Example 2:\n",
    "\n",
    "Input: [1, 5, 12, 2, 11, 5], K = 4\n",
    "Output: 5\n",
    "Explanation: The 4th smallest number is '5', as the first three small numbers are [1, 2, 5].\n",
    "Example 3:\n",
    "\n",
    "Input: [5, 12, 11, -1, 12], K = 3\n",
    "Output: 11\n",
    "Explanation: The 3rd smallest number is '11', as the first two small numbers are [5, -1].\n",
    "\n",
    "\"\"\""
   ]
  },
  {
   "cell_type": "code",
   "execution_count": 3,
   "metadata": {},
   "outputs": [
    {
     "name": "stdout",
     "output_type": "stream",
     "text": [
      "5\n",
      "5\n",
      "11\n"
     ]
    }
   ],
   "source": [
    "import heapq\n",
    "\n",
    "def find_kth_smallest_number(nums, k):\n",
    "    # Use a max-heap by inserting negative values\n",
    "    max_heap = []\n",
    "\n",
    "    for num in nums:\n",
    "        heapq.heappush(max_heap, -num)  # Push negative value to simulate max-heap\n",
    "        if len(max_heap) > k:\n",
    "            heapq.heappop(max_heap)  # Remove the largest element (smallest in negative terms)\n",
    "\n",
    "    # The root of the max-heap is the Kth smallest number\n",
    "    return -max_heap[0]\n",
    "\n",
    "# Example usage:\n",
    "nums1 = [1, 5, 12, 2, 11, 5]\n",
    "k1 = 3\n",
    "print(find_kth_smallest_number(nums1, k1))  # Output: 5\n",
    "\n",
    "nums2 = [1, 5, 12, 2, 11, 5]\n",
    "k2 = 4\n",
    "print(find_kth_smallest_number(nums2, k2))  # Output: 5\n",
    "\n",
    "nums3 = [5, 12, 11, -1, 12]\n",
    "k3 = 3\n",
    "print(find_kth_smallest_number(nums3, k3))  # Output: 11"
   ]
  },
  {
   "cell_type": "code",
   "execution_count": null,
   "metadata": {},
   "outputs": [],
   "source": []
  },
  {
   "cell_type": "markdown",
   "metadata": {},
   "source": [
    "# Kth Largest Number in a Stream (medium).py\n"
   ]
  },
  {
   "cell_type": "code",
   "execution_count": 4,
   "metadata": {},
   "outputs": [
    {
     "data": {
      "text/plain": [
       "\" \\n13. Pattern Top 'K' Elements/Kth Largest Number in a Stream (medium).py\\nhttps://github.com/josephhlwang/GrokkingCoding/blob/main/13.%20Pattern%20Top%20'K'%20Elements/Kth%20Largest%20Number%20in%20a%20Stream%20(medium).py\\n\\nProblem Statement \\nDesign a class to efficiently find the Kth largest element in a stream of numbers.\\n\\nThe class should have the following two things:\\n\\nThe constructor of the class should accept an integer array containing initial numbers from the stream and an integer ‘K’.\\nThe class should expose a function add(int num) which will store the given number and return the Kth largest number.\\nExample 1:\\n\\nInput: [3, 1, 5, 12, 2, 11], K = 4\\n1. Calling add(6) should return '5'.\\n2. Calling add(13) should return '6'.\\n2. Calling add(4) should still return '6'.\\n\\n\""
      ]
     },
     "execution_count": 4,
     "metadata": {},
     "output_type": "execute_result"
    }
   ],
   "source": [
    "\"\"\" \n",
    "13. Pattern Top 'K' Elements/Kth Largest Number in a Stream (medium).py\n",
    "https://github.com/josephhlwang/GrokkingCoding/blob/main/13.%20Pattern%20Top%20'K'%20Elements/Kth%20Largest%20Number%20in%20a%20Stream%20(medium).py\n",
    "\n",
    "Problem Statement \n",
    "Design a class to efficiently find the Kth largest element in a stream of numbers.\n",
    "\n",
    "The class should have the following two things:\n",
    "\n",
    "The constructor of the class should accept an integer array containing initial numbers from the stream and an integer ‘K’.\n",
    "The class should expose a function add(int num) which will store the given number and return the Kth largest number.\n",
    "Example 1:\n",
    "\n",
    "Input: [3, 1, 5, 12, 2, 11], K = 4\n",
    "1. Calling add(6) should return '5'.\n",
    "2. Calling add(13) should return '6'.\n",
    "2. Calling add(4) should still return '6'.\n",
    "\n",
    "\"\"\""
   ]
  },
  {
   "cell_type": "code",
   "execution_count": 5,
   "metadata": {},
   "outputs": [
    {
     "name": "stdout",
     "output_type": "stream",
     "text": [
      "5\n",
      "6\n",
      "6\n"
     ]
    }
   ],
   "source": [
    "import heapq\n",
    "\n",
    "class KthLargest:\n",
    "    def __init__(self, nums, K):\n",
    "        self.K = K\n",
    "        self.min_heap = []\n",
    "        \n",
    "        # Build the min-heap with the first K elements\n",
    "        for num in nums:\n",
    "            self.add(num)\n",
    "    \n",
    "    def add(self, num):\n",
    "        # Add the new number to the heap\n",
    "        if len(self.min_heap) < self.K:\n",
    "            heapq.heappush(self.min_heap, num)\n",
    "        else:\n",
    "            # If the heap is full, replace the root with the new number if it's larger\n",
    "            if num > self.min_heap[0]:\n",
    "                heapq.heapreplace(self.min_heap, num)\n",
    "        \n",
    "        # Return the Kth largest, which is the root of the min-heap\n",
    "        return self.min_heap[0]\n",
    "\n",
    "# Example Usage\n",
    "kthLargest = KthLargest([3, 1, 5, 12, 2, 11], 4)\n",
    "\n",
    "# Test the add method\n",
    "print(kthLargest.add(6))  # Output: 5 (The 4th largest element after adding 6)\n",
    "print(kthLargest.add(13)) # Output: 6 (The 4th largest element after adding 13)\n",
    "print(kthLargest.add(4))  # Output: 6 (The 4th largest element after adding 4)\n"
   ]
  },
  {
   "cell_type": "code",
   "execution_count": null,
   "metadata": {},
   "outputs": [],
   "source": []
  },
  {
   "cell_type": "markdown",
   "metadata": {},
   "source": [
    "# Sum of Elements (medium).py"
   ]
  },
  {
   "cell_type": "code",
   "execution_count": null,
   "metadata": {},
   "outputs": [],
   "source": [
    "'''\n",
    "13. Pattern Top 'K' Elements/Sum of Elements (medium).py\n",
    "https://github.com/josephhlwang/GrokkingCoding/blob/main/13.%20Pattern%20Top%20'K'%20Elements/Sum%20of%20Elements%20(medium).py\n",
    "\n",
    "Problem Statement \n",
    "Given an array, find the sum of all numbers between the K1’th and K2’th smallest elements of that array.\n",
    "\n",
    "Example 1:\n",
    "\n",
    "Input: [1, 3, 12, 5, 15, 11], and K1=3, K2=6\n",
    "Output: 23\n",
    "Explanation: The 3rd smallest number is 5 and 6th smallest number 15. The sum of numbers coming\n",
    "between 5 and 15 is 23 (11+12).\n",
    "\n",
    "Example 2:\n",
    "\n",
    "Input: [3, 5, 8, 7], and K1=1, K2=4\n",
    "Output: 12\n",
    "Explanation: The sum of the numbers between the 1st smallest number (3) and the 4th smallest \n",
    "number (8) is 12 (5+7).\n",
    "'''"
   ]
  },
  {
   "cell_type": "code",
   "execution_count": 6,
   "metadata": {},
   "outputs": [
    {
     "name": "stdout",
     "output_type": "stream",
     "text": [
      "23\n",
      "12\n"
     ]
    }
   ],
   "source": [
    "def sum_between_kth_elements(arr, K1, K2):\n",
    "    # Sort the array in ascending order\n",
    "    arr.sort()\n",
    "    \n",
    "    # Calculate the sum of elements between K1-th and K2-th smallest\n",
    "    # Remember that K1-th smallest is at index K1-1 and K2-th smallest is at index K2-1\n",
    "    # We need to sum elements from index K1 to K2-2 (excluding the K1-1 and K2-1 elements)\n",
    "    return sum(arr[K1:K2-1])\n",
    "\n",
    "# Example Usage:\n",
    "print(sum_between_kth_elements([1, 3, 12, 5, 15, 11], 3, 6))  # Output: 23\n",
    "print(sum_between_kth_elements([3, 5, 8, 7], 1, 4))           # Output: 12\n"
   ]
  },
  {
   "cell_type": "code",
   "execution_count": 7,
   "metadata": {},
   "outputs": [
    {
     "name": "stdout",
     "output_type": "stream",
     "text": [
      "28\n",
      "15\n"
     ]
    }
   ],
   "source": [
    "import heapq\n",
    "\n",
    "def sum_between_kth_elements(arr, K1, K2):\n",
    "    # Step 1: Sort the array using heap (min-heap)\n",
    "    heapq.heapify(arr)  # Transform the array into a min-heap\n",
    "\n",
    "    # Step 2: Extract elements from the heap to find the K1-th and K2-th smallest elements\n",
    "    result = 0\n",
    "    count = 0\n",
    "    prev = None\n",
    "\n",
    "    # Step 3: Iterate and sum elements between K1-th and K2-th smallest elements\n",
    "    while arr:\n",
    "        element = heapq.heappop(arr)  # Extract the smallest element\n",
    "        count += 1\n",
    "        if count >= K1 and count < K2:\n",
    "            result += element  # Add elements between K1-th and K2-th smallest\n",
    "\n",
    "    return result\n",
    "\n",
    "# Example usage:\n",
    "print(sum_between_kth_elements([1, 3, 12, 5, 15, 11], 3, 6))  # Output: 23\n",
    "print(sum_between_kth_elements([3, 5, 8, 7], 1, 4))           # Output: 12"
   ]
  },
  {
   "cell_type": "code",
   "execution_count": 8,
   "metadata": {},
   "outputs": [
    {
     "data": {
      "text/plain": [
       "' \\nhttps://chatgpt.com/share/67ac9e63-6870-8006-8254-22c84d2793b7\\n\\n要使用堆（Heap）来解决这个问题，我们可以采取以下步骤：\\n\\n### 方案思路：\\n1. **构建最小堆**：\\n   - 将数组中的所有元素加入一个最小堆中，这样我们可以轻松地取出最小的元素。\\n\\n2. **提取第 K1 小和 K2 小元素**：\\n   - 我们通过将最小堆排序来得到数组中第 K1 小和第 K2 小的元素。\\n   - 然后，我们可以从数组中提取出位于 `K1` 和 `K2` 之间的元素，并对它们求和。\\n\\n### 步骤细化：\\n1. **排序数组**：\\n   - 排序后，数组中的元素顺序就是从小到大排的。\\n   \\n2. **用最小堆找第 K1 和 K2 小的元素**：\\n   - 我们可以使用 Python 内置的 `heapq` 模块，它默认是最小堆。\\n   \\n3. **计算总和**：\\n   - 使用堆结构提取最小的元素直到得到 `K1` 和 `K2` 小的元素，然后计算它们之间的和。\\n\\n### 使用堆的代码实现：\\n\\n```python\\nimport heapq\\n\\ndef sum_between_kth_elements(arr, K1, K2):\\n    # Step 1: Sort the array using heap (min-heap)\\n    heapq.heapify(arr)  # Transform the array into a min-heap\\n\\n    # Step 2: Extract elements from the heap to find the K1-th and K2-th smallest elements\\n    result = 0\\n    count = 0\\n    prev = None\\n\\n    # Step 3: Iterate and sum elements between K1-th and K2-th smallest elements\\n    while arr:\\n        element = heapq.heappop(arr)  # Extract the smallest element\\n        count += 1\\n        if count >= K1 and count < K2:\\n            result += element  # Add elements between K1-th and K2-th smallest\\n\\n    return result\\n\\n# Example usage:\\nprint(sum_between_kth_elements([1, 3, 12, 5, 15, 11], 3, 6))  # Output: 23\\nprint(sum_between_kth_elements([3, 5, 8, 7], 1, 4))           # Output: 12\\n```\\n\\n### 代码解释：\\n1. **堆的构建**：\\n   - `heapq.heapify(arr)` 会将数组转化为最小堆，它保证堆的根元素是数组中的最小元素。\\n   \\n2. **堆的操作**：\\n   - 使用 `heapq.heappop(arr)` 可以每次提取堆中最小的元素。\\n   \\n3. **计算总和**：\\n   - 我们提取堆中的元素，并计数直到 `K1` 和 `K2`，然后求和。\\n\\n### 优化与时间复杂度：\\n- **时间复杂度**：\\n   - 堆的构建时间复杂度是 \\\\(O(N)\\\\)，其中 \\\\(N\\\\) 是数组的大小。\\n   - 提取 \\\\(K2\\\\) 次最小元素的时间复杂度是 \\\\(O(K2 \\\\log N)\\\\)。\\n   - 因此，整体的时间复杂度为 \\\\(O(N + K2 \\\\log N)\\\\)，但是一般来说 \\\\(K2\\\\) 会小于 \\\\(N\\\\)，因此这个算法的效率在大多数情况下是可以接受的。\\n\\n- **空间复杂度**：\\n   - 堆的空间复杂度是 \\\\(O(N)\\\\)，因为我们需要存储所有的数组元素在堆中。\\n\\n### 举例说明：\\n\\n#### 示例 1：\\n```python\\nsum_between_kth_elements([1, 3, 12, 5, 15, 11], 3, 6)\\n```\\n- 排序后的数组是：`[1, 3, 5, 11, 12, 15]`。\\n- `K1=3` 对应的第三小元素是 `5`，`K2=6` 对应的第六小元素是 `15`。\\n- 需要求和的是数组中 `[11, 12]` 之间的元素，求和结果是 `11 + 12 = 23`。\\n\\n#### 示例 2：\\n```python\\nsum_between_kth_elements([3, 5, 8, 7], 1, 4)\\n```\\n- 排序后的数组是：`[3, 5, 7, 8]`。\\n- `K1=1` 对应的第一小元素是 `3`，`K2=4` 对应的第四小元素是 `8`。\\n- 需要求和的是数组中 `[5, 7]` 之间的元素，求和结果是 `5 + 7 = 12`。\\n\\n### 总结：\\n通过使用堆（最小堆），我们能够高效地找出数组中第 K1 和 K2 小的元素，并计算它们之间的元素的和。\\n\\n\\n'"
      ]
     },
     "execution_count": 8,
     "metadata": {},
     "output_type": "execute_result"
    }
   ],
   "source": [
    "\"\"\" \n",
    "https://chatgpt.com/share/67ac9e63-6870-8006-8254-22c84d2793b7\n",
    "\n",
    "要使用堆（Heap）来解决这个问题，我们可以采取以下步骤：\n",
    "\n",
    "### 方案思路：\n",
    "1. **构建最小堆**：\n",
    "   - 将数组中的所有元素加入一个最小堆中，这样我们可以轻松地取出最小的元素。\n",
    "\n",
    "2. **提取第 K1 小和 K2 小元素**：\n",
    "   - 我们通过将最小堆排序来得到数组中第 K1 小和第 K2 小的元素。\n",
    "   - 然后，我们可以从数组中提取出位于 `K1` 和 `K2` 之间的元素，并对它们求和。\n",
    "\n",
    "### 步骤细化：\n",
    "1. **排序数组**：\n",
    "   - 排序后，数组中的元素顺序就是从小到大排的。\n",
    "   \n",
    "2. **用最小堆找第 K1 和 K2 小的元素**：\n",
    "   - 我们可以使用 Python 内置的 `heapq` 模块，它默认是最小堆。\n",
    "   \n",
    "3. **计算总和**：\n",
    "   - 使用堆结构提取最小的元素直到得到 `K1` 和 `K2` 小的元素，然后计算它们之间的和。\n",
    "\n",
    "### 使用堆的代码实现：\n",
    "\n",
    "```python\n",
    "import heapq\n",
    "\n",
    "def sum_between_kth_elements(arr, K1, K2):\n",
    "    # Step 1: Sort the array using heap (min-heap)\n",
    "    heapq.heapify(arr)  # Transform the array into a min-heap\n",
    "\n",
    "    # Step 2: Extract elements from the heap to find the K1-th and K2-th smallest elements\n",
    "    result = 0\n",
    "    count = 0\n",
    "    prev = None\n",
    "\n",
    "    # Step 3: Iterate and sum elements between K1-th and K2-th smallest elements\n",
    "    while arr:\n",
    "        element = heapq.heappop(arr)  # Extract the smallest element\n",
    "        count += 1\n",
    "        if count >= K1 and count < K2:\n",
    "            result += element  # Add elements between K1-th and K2-th smallest\n",
    "\n",
    "    return result\n",
    "\n",
    "# Example usage:\n",
    "print(sum_between_kth_elements([1, 3, 12, 5, 15, 11], 3, 6))  # Output: 23\n",
    "print(sum_between_kth_elements([3, 5, 8, 7], 1, 4))           # Output: 12\n",
    "```\n",
    "\n",
    "### 代码解释：\n",
    "1. **堆的构建**：\n",
    "   - `heapq.heapify(arr)` 会将数组转化为最小堆，它保证堆的根元素是数组中的最小元素。\n",
    "   \n",
    "2. **堆的操作**：\n",
    "   - 使用 `heapq.heappop(arr)` 可以每次提取堆中最小的元素。\n",
    "   \n",
    "3. **计算总和**：\n",
    "   - 我们提取堆中的元素，并计数直到 `K1` 和 `K2`，然后求和。\n",
    "\n",
    "### 优化与时间复杂度：\n",
    "- **时间复杂度**：\n",
    "   - 堆的构建时间复杂度是 \\(O(N)\\)，其中 \\(N\\) 是数组的大小。\n",
    "   - 提取 \\(K2\\) 次最小元素的时间复杂度是 \\(O(K2 \\log N)\\)。\n",
    "   - 因此，整体的时间复杂度为 \\(O(N + K2 \\log N)\\)，但是一般来说 \\(K2\\) 会小于 \\(N\\)，因此这个算法的效率在大多数情况下是可以接受的。\n",
    "\n",
    "- **空间复杂度**：\n",
    "   - 堆的空间复杂度是 \\(O(N)\\)，因为我们需要存储所有的数组元素在堆中。\n",
    "\n",
    "### 举例说明：\n",
    "\n",
    "#### 示例 1：\n",
    "```python\n",
    "sum_between_kth_elements([1, 3, 12, 5, 15, 11], 3, 6)\n",
    "```\n",
    "- 排序后的数组是：`[1, 3, 5, 11, 12, 15]`。\n",
    "- `K1=3` 对应的第三小元素是 `5`，`K2=6` 对应的第六小元素是 `15`。\n",
    "- 需要求和的是数组中 `[11, 12]` 之间的元素，求和结果是 `11 + 12 = 23`。\n",
    "\n",
    "#### 示例 2：\n",
    "```python\n",
    "sum_between_kth_elements([3, 5, 8, 7], 1, 4)\n",
    "```\n",
    "- 排序后的数组是：`[3, 5, 7, 8]`。\n",
    "- `K1=1` 对应的第一小元素是 `3`，`K2=4` 对应的第四小元素是 `8`。\n",
    "- 需要求和的是数组中 `[5, 7]` 之间的元素，求和结果是 `5 + 7 = 12`。\n",
    "\n",
    "### 总结：\n",
    "通过使用堆（最小堆），我们能够高效地找出数组中第 K1 和 K2 小的元素，并计算它们之间的元素的和。\n",
    "\n",
    "\n",
    "\"\"\""
   ]
  },
  {
   "cell_type": "code",
   "execution_count": null,
   "metadata": {},
   "outputs": [],
   "source": [
    "\"\"\" \n",
    "`heapq.heapify(arr)` 的时间复杂度是 **O(N)**，其中 N 是数组的大小。\n",
    "\n",
    "### 解释：\n",
    "`heapq.heapify()` 是将一个无序的数组转化为一个堆结构。堆是一个完全二叉树，因此它可以通过自底向上的方式调整元素来保证堆的性质。\n",
    "\n",
    "- 自底向上的调整过程是通过遍历所有非叶子节点，依次进行下沉操作来完成的。\n",
    "- 每次下沉操作的时间复杂度是 O(log N)，但是由于只需要遍历数组中的 N 个元素（实际上是遍历从最后一个非叶子节点开始到根节点的路径），因此整体的时间复杂度是 O(N)。\n",
    "\n",
    "### 为什么是 O(N) 而不是 O(N log N)？\n",
    "- 假设堆有 N 个元素，堆的高度为 log N。对于每一个节点，我们需要进行最多 log N 次比较和调整。\n",
    "- 然而，**大部分节点离根节点很远**，它们的下沉操作并不会进行太多的比较。例如，堆的底层节点（叶子节点）不需要任何调整，中间层的节点只需要较少的调整。\n",
    "- 由于这个原因，`heapq.heapify()` 并不是简单的 O(N log N)，它的实际时间复杂度是 O(N)，可以通过数学推导证明。\n",
    "\n",
    "### 具体分析：\n",
    "- 在堆化过程中，大部分节点距离根节点较远，因此调整所需要的操作（比如下沉）会较少。\n",
    "- 从倒数第二层开始，每层节点数加倍，但每个节点的调整次数递减。\n",
    "  \n",
    "所以，`heapq.heapify()` 的总时间复杂度是 O(N)，这是比 O(N log N) 更高效的实现。\n",
    "\"\"\""
   ]
  },
  {
   "cell_type": "code",
   "execution_count": null,
   "metadata": {},
   "outputs": [],
   "source": []
  },
  {
   "cell_type": "code",
   "execution_count": null,
   "metadata": {},
   "outputs": [],
   "source": []
  },
  {
   "cell_type": "code",
   "execution_count": null,
   "metadata": {},
   "outputs": [],
   "source": []
  },
  {
   "cell_type": "code",
   "execution_count": null,
   "metadata": {},
   "outputs": [],
   "source": []
  },
  {
   "cell_type": "code",
   "execution_count": null,
   "metadata": {},
   "outputs": [],
   "source": []
  },
  {
   "cell_type": "code",
   "execution_count": null,
   "metadata": {},
   "outputs": [],
   "source": []
  }
 ],
 "metadata": {
  "kernelspec": {
   "display_name": "Python 3",
   "language": "python",
   "name": "python3"
  },
  "language_info": {
   "codemirror_mode": {
    "name": "ipython",
    "version": 3
   },
   "file_extension": ".py",
   "mimetype": "text/x-python",
   "name": "python",
   "nbconvert_exporter": "python",
   "pygments_lexer": "ipython3",
   "version": "3.9.6"
  }
 },
 "nbformat": 4,
 "nbformat_minor": 2
}
